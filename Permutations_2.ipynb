{
  "cells": [
    {
      "cell_type": "code",
      "execution_count": 2,
      "metadata": {
        "colab": {
          "base_uri": "https://localhost:8080/"
        },
        "id": "1sHLYxo3OFcr",
        "outputId": "efe36bdf-ab6a-438e-fec4-d94c6d29e35e"
      },
      "outputs": [],
      "source": [
        "import cirq\n",
        "import sympy\n",
        "from scipy.optimize import *\n",
        "import numpy as np\n",
        "import plotly.express as px\n",
        "import plotly.graph_objects as go\n",
        "import pandas as pd"
      ]
    },
    {
      "cell_type": "markdown",
      "metadata": {
        "id": "jfczsm8YbuIu"
      },
      "source": [
        "# Задача коммивояжёра\n",
        "\n",
        "Ответом на задачу является последовательность, в которой мы посещаем города.\n",
        "\n",
        "Первый город можно выбрать $n$ способами. Если граф полный, то второй город можно выбрать $n-1$ способом, третий $n-2$ способами и так далее, суммарно $n!$ возможных последовательностей городов.\n",
        "\n",
        "Будем искать незамкнутые пути."
      ]
    },
    {
      "cell_type": "code",
      "execution_count": 3,
      "metadata": {
        "id": "M7oLYTb9-PBL"
      },
      "outputs": [],
      "source": [
        "# n_towns = 4"
      ]
    },
    {
      "cell_type": "code",
      "execution_count": 4,
      "metadata": {
        "id": "d9NbpW5cOFcw"
      },
      "outputs": [],
      "source": [
        "def create_cost_matrix(n_towns):\n",
        "   \"\"\"Рандомная матрица с положительными элементами, \n",
        "   которая хранит длины рёбер между каждой парой городов.\n",
        "   Диагональные элементы ничего не значат \"\"\"\n",
        "\n",
        "   return np.random.random((n_towns, n_towns))"
      ]
    },
    {
      "cell_type": "code",
      "execution_count": 53,
      "metadata": {
        "id": "r1d3WAF98L4s"
      },
      "outputs": [],
      "source": [
        "# cost_matrix_4 = create_cost_matrix(4)\n",
        "\n",
        "cost_matrix_4 = np.array([[np.nan    , 0.35271991, 0.96262685, 0.11727604],\n",
        "                          [0.13505078, np.nan    , 0.63915344, 0.43149425],\n",
        "                          [0.58432224, 0.83676812, np.nan    , 0.4879146 ],\n",
        "                          [0.14998587, 0.45394107, 0.2140258 , np.nan    ]])\n",
        "\n",
        "cost_matrix_4 = np.array([[0         , 0.35271991, 0.96262685, 0.11727604],\n",
        "                          [0.13505078, 0         , 0.63915344, 0.43149425],\n",
        "                          [0.58432224, 0.83676812, 0         , 0.4879146 ],\n",
        "                          [0.14998587, 0.45394107, 0.2140258 , 0         ]])"
      ]
    },
    {
      "cell_type": "code",
      "execution_count": 7,
      "metadata": {
        "id": "XupuQsMp3Pyg"
      },
      "outputs": [],
      "source": [
        "def cost_of_permutation(cost_matrix, town_sequence):\n",
        "  cost = 0.0\n",
        "\n",
        "  for i in range(len(town_sequence)-1):\n",
        "    cost += cost_matrix [town_sequence[i]] [town_sequence[i+1]]\n",
        "  \n",
        "  return cost"
      ]
    },
    {
      "cell_type": "markdown",
      "metadata": {
        "id": "VyliWiQOdxU6"
      },
      "source": [
        "#### Аналитическое решение\n",
        "\n",
        "Переберём все перестановки в лексикографическом порядке.\n",
        "\n",
        "Будем итерироваться по номеру перестановки. Сначала переведём его в факториальную систему счисления [(factoradic)](https://en.wikipedia.org/wiki/Factorial_number_system). Полученные цифры будут совпадать с [кодом Лемера](https://en.wikipedia.org/wiki/Lehmer_code) перестановки. \n",
        "\n",
        "Затем по коду Лемера вычислим саму перестановку и затем её стоимость."
      ]
    },
    {
      "cell_type": "code",
      "execution_count": 8,
      "metadata": {
        "id": "BKlh_Co7zEUC"
      },
      "outputs": [],
      "source": [
        "# Для перевода из десятичной системы счисления в факториальную \n",
        "# понадобятся факториалы, поэтому вычислим их заранее:\n",
        "#\n",
        "# factorials[n] == n!\n",
        "\n",
        "factorials = [1]\n",
        "for i in range(30):\n",
        "  # Предполагаю, что n_towns < 30\n",
        "  factorials.append(factorials[i] * (i+1))"
      ]
    },
    {
      "cell_type": "code",
      "execution_count": 9,
      "metadata": {
        "id": "Xy45oiiF8xmK"
      },
      "outputs": [],
      "source": [
        "def factoradic_from_perm_number(perm_number : int, factoradic_array):\n",
        "  \"\"\"Преобразует число в факториальную систему счисления.\n",
        "  Записывает полученные цифры в factoradic_array.\n",
        "  Нулевая цифра в массиве - самая значимая. Последняя цифра всегда равна 0.\n",
        "  Алгоритм из https://en.wikipedia.org/wiki/Factorial_number_system#Definition \"\"\"\n",
        "\n",
        "  N = perm_number\n",
        "  n_towns = len(factoradic_array)\n",
        "  assert N < factorials[n_towns]\n",
        "\n",
        "  for i in range(len(factoradic_array)):\n",
        "    factoradic_array[i] = N // factorials[n_towns - i - 1]\n",
        "    N %= factorials[n_towns - i - 1]\n",
        "  \n",
        "  return factoradic_array"
      ]
    },
    {
      "cell_type": "code",
      "execution_count": 10,
      "metadata": {
        "id": "6TDClEwksCPI"
      },
      "outputs": [],
      "source": [
        "def permutation_from_factoradic(nums : np.ndarray):\n",
        "  \"\"\"Перезаписывает массив nums.\n",
        "  Если изначально там находилось число в факториальной системе, то потом там будет находиться перестановка.\n",
        "  Города в полученной перестановке нумеруются с 0. \n",
        "  Алгоритм из https://en.wikipedia.org/wiki/Lehmer_code#Encoding_and_decoding \"\"\"\n",
        "  for i in range(len(nums)-2, -1, -1):\n",
        "    for j in range(i+1, len(nums)):\n",
        "      if(nums[j] >= nums[i]):\n",
        "        nums[j] += 1\n",
        "  return nums"
      ]
    },
    {
      "cell_type": "code",
      "execution_count": 11,
      "metadata": {
        "colab": {
          "base_uri": "https://localhost:8080/"
        },
        "id": "TY41NYsU2LVk",
        "outputId": "7372778f-9e1a-49f3-fe6b-65b80e3f3536"
      },
      "outputs": [
        {
          "data": {
            "text/plain": [
              "True"
            ]
          },
          "execution_count": 11,
          "metadata": {},
          "output_type": "execute_result"
        }
      ],
      "source": [
        "# Тест из Википедии\n",
        "permutation_from_factoradic([1, 4, 0, 3, 1, 1, 0]) \\\n",
        "                         == [1, 5, 0, 6, 3, 4, 2]"
      ]
    },
    {
      "cell_type": "code",
      "execution_count": 12,
      "metadata": {
        "id": "GolD8Qbq39I7"
      },
      "outputs": [],
      "source": [
        "def analytical(cost_matrix):\n",
        "\n",
        "  n_towns = len(cost_matrix)\n",
        "\n",
        "  factoradic_array = np.ndarray(n_towns, int)\n",
        "\n",
        "  answers_array = []\n",
        "\n",
        "  min_cost = np.inf\n",
        "  opt_perm_number = np.nan\n",
        "\n",
        "  for perm_number in range(factorials[n_towns]):\n",
        "    town_sequence = permutation_from_factoradic(\n",
        "                        factoradic_from_perm_number(perm_number, factoradic_array)\n",
        "                    )\n",
        "    cost = cost_of_permutation(\n",
        "        cost_matrix,\n",
        "        town_sequence\n",
        "        )\n",
        "\n",
        "    answers_array.append([town_sequence.copy(), cost])\n",
        "\n",
        "    if cost < min_cost:\n",
        "      min_cost = cost\n",
        "      opt_perm_number = perm_number\n",
        "\n",
        "  # return {\"min_cost\": min_cost, \n",
        "  #         \"order_of_towns\": permutation_from_factoradic(\n",
        "  #             factoradic_from_perm_number(opt_perm_number, factoradic_array)\n",
        "  #           ) }\n",
        "  return {\"opt_perm_number\": opt_perm_number,\n",
        "          \"answers_table\": pd.DataFrame(answers_array, columns = [\"order of towns\", \"cost\"])}"
      ]
    },
    {
      "cell_type": "code",
      "execution_count": 13,
      "metadata": {
        "colab": {
          "base_uri": "https://localhost:8080/"
        },
        "id": "JpNl0CDU_tVx",
        "outputId": "5fa80c26-8445-48e0-b959-8f06cf9f05d4"
      },
      "outputs": [
        {
          "data": {
            "text/html": [
              "<div>\n",
              "<style scoped>\n",
              "    .dataframe tbody tr th:only-of-type {\n",
              "        vertical-align: middle;\n",
              "    }\n",
              "\n",
              "    .dataframe tbody tr th {\n",
              "        vertical-align: top;\n",
              "    }\n",
              "\n",
              "    .dataframe thead th {\n",
              "        text-align: right;\n",
              "    }\n",
              "</style>\n",
              "<table border=\"1\" class=\"dataframe\">\n",
              "  <thead>\n",
              "    <tr style=\"text-align: right;\">\n",
              "      <th></th>\n",
              "      <th>order of towns</th>\n",
              "      <th>cost</th>\n",
              "    </tr>\n",
              "  </thead>\n",
              "  <tbody>\n",
              "    <tr>\n",
              "      <th>7</th>\n",
              "      <td>[1, 0, 3, 2]</td>\n",
              "      <td>0.466353</td>\n",
              "    </tr>\n",
              "  </tbody>\n",
              "</table>\n",
              "</div>"
            ],
            "text/plain": [
              "  order of towns      cost\n",
              "7   [1, 0, 3, 2]  0.466353"
            ]
          },
          "execution_count": 13,
          "metadata": {},
          "output_type": "execute_result"
        }
      ],
      "source": [
        "anal = analytical(cost_matrix_4)\n",
        "anal['answers_table'].loc[[anal['opt_perm_number']]]\n",
        "# = Оптимальный путь:"
      ]
    },
    {
      "cell_type": "code",
      "execution_count": 14,
      "metadata": {},
      "outputs": [
        {
          "data": {
            "text/html": [
              "<div>\n",
              "<style scoped>\n",
              "    .dataframe tbody tr th:only-of-type {\n",
              "        vertical-align: middle;\n",
              "    }\n",
              "\n",
              "    .dataframe tbody tr th {\n",
              "        vertical-align: top;\n",
              "    }\n",
              "\n",
              "    .dataframe thead th {\n",
              "        text-align: right;\n",
              "    }\n",
              "</style>\n",
              "<table border=\"1\" class=\"dataframe\">\n",
              "  <thead>\n",
              "    <tr style=\"text-align: right;\">\n",
              "      <th></th>\n",
              "      <th>order of towns</th>\n",
              "      <th>cost</th>\n",
              "    </tr>\n",
              "  </thead>\n",
              "  <tbody>\n",
              "    <tr>\n",
              "      <th>0</th>\n",
              "      <td>[0, 1, 2, 3]</td>\n",
              "      <td>1.479788</td>\n",
              "    </tr>\n",
              "    <tr>\n",
              "      <th>1</th>\n",
              "      <td>[0, 1, 3, 2]</td>\n",
              "      <td>0.998240</td>\n",
              "    </tr>\n",
              "    <tr>\n",
              "      <th>2</th>\n",
              "      <td>[0, 2, 1, 3]</td>\n",
              "      <td>2.230889</td>\n",
              "    </tr>\n",
              "    <tr>\n",
              "      <th>3</th>\n",
              "      <td>[0, 2, 3, 1]</td>\n",
              "      <td>1.904483</td>\n",
              "    </tr>\n",
              "    <tr>\n",
              "      <th>4</th>\n",
              "      <td>[0, 3, 1, 2]</td>\n",
              "      <td>1.210371</td>\n",
              "    </tr>\n",
              "    <tr>\n",
              "      <th>5</th>\n",
              "      <td>[0, 3, 2, 1]</td>\n",
              "      <td>1.168070</td>\n",
              "    </tr>\n",
              "    <tr>\n",
              "      <th>6</th>\n",
              "      <td>[1, 0, 2, 3]</td>\n",
              "      <td>1.585592</td>\n",
              "    </tr>\n",
              "    <tr>\n",
              "      <th>7</th>\n",
              "      <td>[1, 0, 3, 2]</td>\n",
              "      <td>0.466353</td>\n",
              "    </tr>\n",
              "    <tr>\n",
              "      <th>8</th>\n",
              "      <td>[1, 2, 0, 3]</td>\n",
              "      <td>1.340752</td>\n",
              "    </tr>\n",
              "    <tr>\n",
              "      <th>9</th>\n",
              "      <td>[1, 2, 3, 0]</td>\n",
              "      <td>1.277054</td>\n",
              "    </tr>\n",
              "    <tr>\n",
              "      <th>10</th>\n",
              "      <td>[1, 3, 0, 2]</td>\n",
              "      <td>1.544107</td>\n",
              "    </tr>\n",
              "    <tr>\n",
              "      <th>11</th>\n",
              "      <td>[1, 3, 2, 0]</td>\n",
              "      <td>1.229842</td>\n",
              "    </tr>\n",
              "    <tr>\n",
              "      <th>12</th>\n",
              "      <td>[2, 0, 1, 3]</td>\n",
              "      <td>1.368536</td>\n",
              "    </tr>\n",
              "    <tr>\n",
              "      <th>13</th>\n",
              "      <td>[2, 0, 3, 1]</td>\n",
              "      <td>1.155539</td>\n",
              "    </tr>\n",
              "    <tr>\n",
              "      <th>14</th>\n",
              "      <td>[2, 1, 0, 3]</td>\n",
              "      <td>1.089095</td>\n",
              "    </tr>\n",
              "    <tr>\n",
              "      <th>15</th>\n",
              "      <td>[2, 1, 3, 0]</td>\n",
              "      <td>1.418248</td>\n",
              "    </tr>\n",
              "    <tr>\n",
              "      <th>16</th>\n",
              "      <td>[2, 3, 0, 1]</td>\n",
              "      <td>0.990620</td>\n",
              "    </tr>\n",
              "    <tr>\n",
              "      <th>17</th>\n",
              "      <td>[2, 3, 1, 0]</td>\n",
              "      <td>1.076906</td>\n",
              "    </tr>\n",
              "    <tr>\n",
              "      <th>18</th>\n",
              "      <td>[3, 0, 1, 2]</td>\n",
              "      <td>1.141859</td>\n",
              "    </tr>\n",
              "    <tr>\n",
              "      <th>19</th>\n",
              "      <td>[3, 0, 2, 1]</td>\n",
              "      <td>1.949381</td>\n",
              "    </tr>\n",
              "    <tr>\n",
              "      <th>20</th>\n",
              "      <td>[3, 1, 0, 2]</td>\n",
              "      <td>1.551619</td>\n",
              "    </tr>\n",
              "    <tr>\n",
              "      <th>21</th>\n",
              "      <td>[3, 1, 2, 0]</td>\n",
              "      <td>1.677417</td>\n",
              "    </tr>\n",
              "    <tr>\n",
              "      <th>22</th>\n",
              "      <td>[3, 2, 0, 1]</td>\n",
              "      <td>1.151068</td>\n",
              "    </tr>\n",
              "    <tr>\n",
              "      <th>23</th>\n",
              "      <td>[3, 2, 1, 0]</td>\n",
              "      <td>1.185845</td>\n",
              "    </tr>\n",
              "  </tbody>\n",
              "</table>\n",
              "</div>"
            ],
            "text/plain": [
              "   order of towns      cost\n",
              "0    [0, 1, 2, 3]  1.479788\n",
              "1    [0, 1, 3, 2]  0.998240\n",
              "2    [0, 2, 1, 3]  2.230889\n",
              "3    [0, 2, 3, 1]  1.904483\n",
              "4    [0, 3, 1, 2]  1.210371\n",
              "5    [0, 3, 2, 1]  1.168070\n",
              "6    [1, 0, 2, 3]  1.585592\n",
              "7    [1, 0, 3, 2]  0.466353\n",
              "8    [1, 2, 0, 3]  1.340752\n",
              "9    [1, 2, 3, 0]  1.277054\n",
              "10   [1, 3, 0, 2]  1.544107\n",
              "11   [1, 3, 2, 0]  1.229842\n",
              "12   [2, 0, 1, 3]  1.368536\n",
              "13   [2, 0, 3, 1]  1.155539\n",
              "14   [2, 1, 0, 3]  1.089095\n",
              "15   [2, 1, 3, 0]  1.418248\n",
              "16   [2, 3, 0, 1]  0.990620\n",
              "17   [2, 3, 1, 0]  1.076906\n",
              "18   [3, 0, 1, 2]  1.141859\n",
              "19   [3, 0, 2, 1]  1.949381\n",
              "20   [3, 1, 0, 2]  1.551619\n",
              "21   [3, 1, 2, 0]  1.677417\n",
              "22   [3, 2, 0, 1]  1.151068\n",
              "23   [3, 2, 1, 0]  1.185845"
            ]
          },
          "execution_count": 14,
          "metadata": {},
          "output_type": "execute_result"
        }
      ],
      "source": [
        "anal['answers_table']"
      ]
    },
    {
      "cell_type": "code",
      "execution_count": 15,
      "metadata": {},
      "outputs": [
        {
          "data": {
            "application/vnd.plotly.v1+json": {
              "config": {
                "plotlyServerURL": "https://plot.ly"
              },
              "data": [
                {
                  "hovertemplate": "variable=cost<br>Номер перестановки=%{x}<br>Cost=%{y}<extra></extra>",
                  "legendgroup": "cost",
                  "marker": {
                    "color": "#636efa",
                    "symbol": "circle"
                  },
                  "mode": "markers",
                  "name": "cost",
                  "orientation": "v",
                  "showlegend": true,
                  "type": "scatter",
                  "x": [
                    0,
                    1,
                    2,
                    3,
                    4,
                    5,
                    6,
                    7,
                    8,
                    9,
                    10,
                    11,
                    12,
                    13,
                    14,
                    15,
                    16,
                    17,
                    18,
                    19,
                    20,
                    21,
                    22,
                    23
                  ],
                  "xaxis": "x",
                  "y": [
                    1.47978795,
                    0.99823996,
                    2.23088922,
                    1.90448252,
                    1.21037055,
                    1.16806996,
                    1.58559223,
                    0.46635262,
                    1.3407517199999999,
                    1.27705391,
                    1.54410697,
                    1.2298422900000001,
                    1.3685364,
                    1.15553935,
                    1.08909494,
                    1.41824824,
                    0.99062038,
                    1.07690645,
                    1.14185922,
                    1.94938084,
                    1.5516187000000001,
                    1.67741675,
                    1.15106795,
                    1.1858447
                  ],
                  "yaxis": "y"
                }
              ],
              "layout": {
                "legend": {
                  "title": {
                    "text": "variable"
                  },
                  "tracegroupgap": 0
                },
                "margin": {
                  "t": 60
                },
                "template": {
                  "data": {
                    "bar": [
                      {
                        "error_x": {
                          "color": "#f2f5fa"
                        },
                        "error_y": {
                          "color": "#f2f5fa"
                        },
                        "marker": {
                          "line": {
                            "color": "rgb(17,17,17)",
                            "width": 0.5
                          },
                          "pattern": {
                            "fillmode": "overlay",
                            "size": 10,
                            "solidity": 0.2
                          }
                        },
                        "type": "bar"
                      }
                    ],
                    "barpolar": [
                      {
                        "marker": {
                          "line": {
                            "color": "rgb(17,17,17)",
                            "width": 0.5
                          },
                          "pattern": {
                            "fillmode": "overlay",
                            "size": 10,
                            "solidity": 0.2
                          }
                        },
                        "type": "barpolar"
                      }
                    ],
                    "carpet": [
                      {
                        "aaxis": {
                          "endlinecolor": "#A2B1C6",
                          "gridcolor": "#506784",
                          "linecolor": "#506784",
                          "minorgridcolor": "#506784",
                          "startlinecolor": "#A2B1C6"
                        },
                        "baxis": {
                          "endlinecolor": "#A2B1C6",
                          "gridcolor": "#506784",
                          "linecolor": "#506784",
                          "minorgridcolor": "#506784",
                          "startlinecolor": "#A2B1C6"
                        },
                        "type": "carpet"
                      }
                    ],
                    "choropleth": [
                      {
                        "colorbar": {
                          "outlinewidth": 0,
                          "ticks": ""
                        },
                        "type": "choropleth"
                      }
                    ],
                    "contour": [
                      {
                        "colorbar": {
                          "outlinewidth": 0,
                          "ticks": ""
                        },
                        "colorscale": [
                          [
                            0,
                            "#0d0887"
                          ],
                          [
                            0.1111111111111111,
                            "#46039f"
                          ],
                          [
                            0.2222222222222222,
                            "#7201a8"
                          ],
                          [
                            0.3333333333333333,
                            "#9c179e"
                          ],
                          [
                            0.4444444444444444,
                            "#bd3786"
                          ],
                          [
                            0.5555555555555556,
                            "#d8576b"
                          ],
                          [
                            0.6666666666666666,
                            "#ed7953"
                          ],
                          [
                            0.7777777777777778,
                            "#fb9f3a"
                          ],
                          [
                            0.8888888888888888,
                            "#fdca26"
                          ],
                          [
                            1,
                            "#f0f921"
                          ]
                        ],
                        "type": "contour"
                      }
                    ],
                    "contourcarpet": [
                      {
                        "colorbar": {
                          "outlinewidth": 0,
                          "ticks": ""
                        },
                        "type": "contourcarpet"
                      }
                    ],
                    "heatmap": [
                      {
                        "colorbar": {
                          "outlinewidth": 0,
                          "ticks": ""
                        },
                        "colorscale": [
                          [
                            0,
                            "#0d0887"
                          ],
                          [
                            0.1111111111111111,
                            "#46039f"
                          ],
                          [
                            0.2222222222222222,
                            "#7201a8"
                          ],
                          [
                            0.3333333333333333,
                            "#9c179e"
                          ],
                          [
                            0.4444444444444444,
                            "#bd3786"
                          ],
                          [
                            0.5555555555555556,
                            "#d8576b"
                          ],
                          [
                            0.6666666666666666,
                            "#ed7953"
                          ],
                          [
                            0.7777777777777778,
                            "#fb9f3a"
                          ],
                          [
                            0.8888888888888888,
                            "#fdca26"
                          ],
                          [
                            1,
                            "#f0f921"
                          ]
                        ],
                        "type": "heatmap"
                      }
                    ],
                    "heatmapgl": [
                      {
                        "colorbar": {
                          "outlinewidth": 0,
                          "ticks": ""
                        },
                        "colorscale": [
                          [
                            0,
                            "#0d0887"
                          ],
                          [
                            0.1111111111111111,
                            "#46039f"
                          ],
                          [
                            0.2222222222222222,
                            "#7201a8"
                          ],
                          [
                            0.3333333333333333,
                            "#9c179e"
                          ],
                          [
                            0.4444444444444444,
                            "#bd3786"
                          ],
                          [
                            0.5555555555555556,
                            "#d8576b"
                          ],
                          [
                            0.6666666666666666,
                            "#ed7953"
                          ],
                          [
                            0.7777777777777778,
                            "#fb9f3a"
                          ],
                          [
                            0.8888888888888888,
                            "#fdca26"
                          ],
                          [
                            1,
                            "#f0f921"
                          ]
                        ],
                        "type": "heatmapgl"
                      }
                    ],
                    "histogram": [
                      {
                        "marker": {
                          "pattern": {
                            "fillmode": "overlay",
                            "size": 10,
                            "solidity": 0.2
                          }
                        },
                        "type": "histogram"
                      }
                    ],
                    "histogram2d": [
                      {
                        "colorbar": {
                          "outlinewidth": 0,
                          "ticks": ""
                        },
                        "colorscale": [
                          [
                            0,
                            "#0d0887"
                          ],
                          [
                            0.1111111111111111,
                            "#46039f"
                          ],
                          [
                            0.2222222222222222,
                            "#7201a8"
                          ],
                          [
                            0.3333333333333333,
                            "#9c179e"
                          ],
                          [
                            0.4444444444444444,
                            "#bd3786"
                          ],
                          [
                            0.5555555555555556,
                            "#d8576b"
                          ],
                          [
                            0.6666666666666666,
                            "#ed7953"
                          ],
                          [
                            0.7777777777777778,
                            "#fb9f3a"
                          ],
                          [
                            0.8888888888888888,
                            "#fdca26"
                          ],
                          [
                            1,
                            "#f0f921"
                          ]
                        ],
                        "type": "histogram2d"
                      }
                    ],
                    "histogram2dcontour": [
                      {
                        "colorbar": {
                          "outlinewidth": 0,
                          "ticks": ""
                        },
                        "colorscale": [
                          [
                            0,
                            "#0d0887"
                          ],
                          [
                            0.1111111111111111,
                            "#46039f"
                          ],
                          [
                            0.2222222222222222,
                            "#7201a8"
                          ],
                          [
                            0.3333333333333333,
                            "#9c179e"
                          ],
                          [
                            0.4444444444444444,
                            "#bd3786"
                          ],
                          [
                            0.5555555555555556,
                            "#d8576b"
                          ],
                          [
                            0.6666666666666666,
                            "#ed7953"
                          ],
                          [
                            0.7777777777777778,
                            "#fb9f3a"
                          ],
                          [
                            0.8888888888888888,
                            "#fdca26"
                          ],
                          [
                            1,
                            "#f0f921"
                          ]
                        ],
                        "type": "histogram2dcontour"
                      }
                    ],
                    "mesh3d": [
                      {
                        "colorbar": {
                          "outlinewidth": 0,
                          "ticks": ""
                        },
                        "type": "mesh3d"
                      }
                    ],
                    "parcoords": [
                      {
                        "line": {
                          "colorbar": {
                            "outlinewidth": 0,
                            "ticks": ""
                          }
                        },
                        "type": "parcoords"
                      }
                    ],
                    "pie": [
                      {
                        "automargin": true,
                        "type": "pie"
                      }
                    ],
                    "scatter": [
                      {
                        "marker": {
                          "line": {
                            "color": "#283442"
                          }
                        },
                        "type": "scatter"
                      }
                    ],
                    "scatter3d": [
                      {
                        "line": {
                          "colorbar": {
                            "outlinewidth": 0,
                            "ticks": ""
                          }
                        },
                        "marker": {
                          "colorbar": {
                            "outlinewidth": 0,
                            "ticks": ""
                          }
                        },
                        "type": "scatter3d"
                      }
                    ],
                    "scattercarpet": [
                      {
                        "marker": {
                          "colorbar": {
                            "outlinewidth": 0,
                            "ticks": ""
                          }
                        },
                        "type": "scattercarpet"
                      }
                    ],
                    "scattergeo": [
                      {
                        "marker": {
                          "colorbar": {
                            "outlinewidth": 0,
                            "ticks": ""
                          }
                        },
                        "type": "scattergeo"
                      }
                    ],
                    "scattergl": [
                      {
                        "marker": {
                          "line": {
                            "color": "#283442"
                          }
                        },
                        "type": "scattergl"
                      }
                    ],
                    "scattermapbox": [
                      {
                        "marker": {
                          "colorbar": {
                            "outlinewidth": 0,
                            "ticks": ""
                          }
                        },
                        "type": "scattermapbox"
                      }
                    ],
                    "scatterpolar": [
                      {
                        "marker": {
                          "colorbar": {
                            "outlinewidth": 0,
                            "ticks": ""
                          }
                        },
                        "type": "scatterpolar"
                      }
                    ],
                    "scatterpolargl": [
                      {
                        "marker": {
                          "colorbar": {
                            "outlinewidth": 0,
                            "ticks": ""
                          }
                        },
                        "type": "scatterpolargl"
                      }
                    ],
                    "scatterternary": [
                      {
                        "marker": {
                          "colorbar": {
                            "outlinewidth": 0,
                            "ticks": ""
                          }
                        },
                        "type": "scatterternary"
                      }
                    ],
                    "surface": [
                      {
                        "colorbar": {
                          "outlinewidth": 0,
                          "ticks": ""
                        },
                        "colorscale": [
                          [
                            0,
                            "#0d0887"
                          ],
                          [
                            0.1111111111111111,
                            "#46039f"
                          ],
                          [
                            0.2222222222222222,
                            "#7201a8"
                          ],
                          [
                            0.3333333333333333,
                            "#9c179e"
                          ],
                          [
                            0.4444444444444444,
                            "#bd3786"
                          ],
                          [
                            0.5555555555555556,
                            "#d8576b"
                          ],
                          [
                            0.6666666666666666,
                            "#ed7953"
                          ],
                          [
                            0.7777777777777778,
                            "#fb9f3a"
                          ],
                          [
                            0.8888888888888888,
                            "#fdca26"
                          ],
                          [
                            1,
                            "#f0f921"
                          ]
                        ],
                        "type": "surface"
                      }
                    ],
                    "table": [
                      {
                        "cells": {
                          "fill": {
                            "color": "#506784"
                          },
                          "line": {
                            "color": "rgb(17,17,17)"
                          }
                        },
                        "header": {
                          "fill": {
                            "color": "#2a3f5f"
                          },
                          "line": {
                            "color": "rgb(17,17,17)"
                          }
                        },
                        "type": "table"
                      }
                    ]
                  },
                  "layout": {
                    "annotationdefaults": {
                      "arrowcolor": "#f2f5fa",
                      "arrowhead": 0,
                      "arrowwidth": 1
                    },
                    "autotypenumbers": "strict",
                    "coloraxis": {
                      "colorbar": {
                        "outlinewidth": 0,
                        "ticks": ""
                      }
                    },
                    "colorscale": {
                      "diverging": [
                        [
                          0,
                          "#8e0152"
                        ],
                        [
                          0.1,
                          "#c51b7d"
                        ],
                        [
                          0.2,
                          "#de77ae"
                        ],
                        [
                          0.3,
                          "#f1b6da"
                        ],
                        [
                          0.4,
                          "#fde0ef"
                        ],
                        [
                          0.5,
                          "#f7f7f7"
                        ],
                        [
                          0.6,
                          "#e6f5d0"
                        ],
                        [
                          0.7,
                          "#b8e186"
                        ],
                        [
                          0.8,
                          "#7fbc41"
                        ],
                        [
                          0.9,
                          "#4d9221"
                        ],
                        [
                          1,
                          "#276419"
                        ]
                      ],
                      "sequential": [
                        [
                          0,
                          "#0d0887"
                        ],
                        [
                          0.1111111111111111,
                          "#46039f"
                        ],
                        [
                          0.2222222222222222,
                          "#7201a8"
                        ],
                        [
                          0.3333333333333333,
                          "#9c179e"
                        ],
                        [
                          0.4444444444444444,
                          "#bd3786"
                        ],
                        [
                          0.5555555555555556,
                          "#d8576b"
                        ],
                        [
                          0.6666666666666666,
                          "#ed7953"
                        ],
                        [
                          0.7777777777777778,
                          "#fb9f3a"
                        ],
                        [
                          0.8888888888888888,
                          "#fdca26"
                        ],
                        [
                          1,
                          "#f0f921"
                        ]
                      ],
                      "sequentialminus": [
                        [
                          0,
                          "#0d0887"
                        ],
                        [
                          0.1111111111111111,
                          "#46039f"
                        ],
                        [
                          0.2222222222222222,
                          "#7201a8"
                        ],
                        [
                          0.3333333333333333,
                          "#9c179e"
                        ],
                        [
                          0.4444444444444444,
                          "#bd3786"
                        ],
                        [
                          0.5555555555555556,
                          "#d8576b"
                        ],
                        [
                          0.6666666666666666,
                          "#ed7953"
                        ],
                        [
                          0.7777777777777778,
                          "#fb9f3a"
                        ],
                        [
                          0.8888888888888888,
                          "#fdca26"
                        ],
                        [
                          1,
                          "#f0f921"
                        ]
                      ]
                    },
                    "colorway": [
                      "#636efa",
                      "#EF553B",
                      "#00cc96",
                      "#ab63fa",
                      "#FFA15A",
                      "#19d3f3",
                      "#FF6692",
                      "#B6E880",
                      "#FF97FF",
                      "#FECB52"
                    ],
                    "font": {
                      "color": "#f2f5fa"
                    },
                    "geo": {
                      "bgcolor": "rgb(17,17,17)",
                      "lakecolor": "rgb(17,17,17)",
                      "landcolor": "rgb(17,17,17)",
                      "showlakes": true,
                      "showland": true,
                      "subunitcolor": "#506784"
                    },
                    "hoverlabel": {
                      "align": "left"
                    },
                    "hovermode": "closest",
                    "mapbox": {
                      "style": "dark"
                    },
                    "paper_bgcolor": "rgb(17,17,17)",
                    "plot_bgcolor": "rgb(17,17,17)",
                    "polar": {
                      "angularaxis": {
                        "gridcolor": "#506784",
                        "linecolor": "#506784",
                        "ticks": ""
                      },
                      "bgcolor": "rgb(17,17,17)",
                      "radialaxis": {
                        "gridcolor": "#506784",
                        "linecolor": "#506784",
                        "ticks": ""
                      }
                    },
                    "scene": {
                      "xaxis": {
                        "backgroundcolor": "rgb(17,17,17)",
                        "gridcolor": "#506784",
                        "gridwidth": 2,
                        "linecolor": "#506784",
                        "showbackground": true,
                        "ticks": "",
                        "zerolinecolor": "#C8D4E3"
                      },
                      "yaxis": {
                        "backgroundcolor": "rgb(17,17,17)",
                        "gridcolor": "#506784",
                        "gridwidth": 2,
                        "linecolor": "#506784",
                        "showbackground": true,
                        "ticks": "",
                        "zerolinecolor": "#C8D4E3"
                      },
                      "zaxis": {
                        "backgroundcolor": "rgb(17,17,17)",
                        "gridcolor": "#506784",
                        "gridwidth": 2,
                        "linecolor": "#506784",
                        "showbackground": true,
                        "ticks": "",
                        "zerolinecolor": "#C8D4E3"
                      }
                    },
                    "shapedefaults": {
                      "line": {
                        "color": "#f2f5fa"
                      }
                    },
                    "sliderdefaults": {
                      "bgcolor": "#C8D4E3",
                      "bordercolor": "rgb(17,17,17)",
                      "borderwidth": 1,
                      "tickwidth": 0
                    },
                    "ternary": {
                      "aaxis": {
                        "gridcolor": "#506784",
                        "linecolor": "#506784",
                        "ticks": ""
                      },
                      "baxis": {
                        "gridcolor": "#506784",
                        "linecolor": "#506784",
                        "ticks": ""
                      },
                      "bgcolor": "rgb(17,17,17)",
                      "caxis": {
                        "gridcolor": "#506784",
                        "linecolor": "#506784",
                        "ticks": ""
                      }
                    },
                    "title": {
                      "x": 0.05
                    },
                    "updatemenudefaults": {
                      "bgcolor": "#506784",
                      "borderwidth": 0
                    },
                    "xaxis": {
                      "automargin": true,
                      "gridcolor": "#283442",
                      "linecolor": "#506784",
                      "ticks": "",
                      "title": {
                        "standoff": 15
                      },
                      "zerolinecolor": "#283442",
                      "zerolinewidth": 2
                    },
                    "yaxis": {
                      "automargin": true,
                      "gridcolor": "#283442",
                      "linecolor": "#506784",
                      "ticks": "",
                      "title": {
                        "standoff": 15
                      },
                      "zerolinecolor": "#283442",
                      "zerolinewidth": 2
                    }
                  }
                },
                "xaxis": {
                  "anchor": "y",
                  "domain": [
                    0,
                    1
                  ],
                  "title": {
                    "text": "Номер перестановки"
                  }
                },
                "yaxis": {
                  "anchor": "x",
                  "domain": [
                    0,
                    1
                  ],
                  "title": {
                    "text": "Cost"
                  }
                }
              }
            }
          },
          "metadata": {},
          "output_type": "display_data"
        }
      ],
      "source": [
        "px.scatter(anal[\"answers_table\"][\"cost\"], template=\"plotly_dark\", labels = {\"index\": \"Номер перестановки\", \"value\": \"Cost\"})"
      ]
    },
    {
      "cell_type": "markdown",
      "metadata": {
        "id": "GiOIrx_zOFcz"
      },
      "source": [
        "## Цепь"
      ]
    },
    {
      "cell_type": "markdown",
      "metadata": {
        "id": "5p3rVhIu_E3N"
      },
      "source": [
        "Пусть $m = \\lceil \\log_2 n! \\rceil$ $\\quad$ ($n$ -- число городов)\n",
        "\n",
        "Будем в квантовом состоянии записывать номер перестановки в виде двоичного числа со знаком, для этого понадобится $m + 1 = O(n \\log n)$ кубитов.\n",
        "\n",
        "В начале установим sign qubit в состояние $|1\\rangle$, а с оставшимися кубитами поделаем произвольные параметрические гейты. В результате получится некоторое отрицательное число $x \\in [-2^m,\\ 0)$\n",
        "\n",
        "Затем сделаем операцию $x \\mapsto x + n!$ по [алгоритму из Интернета,](https://cran.r-project.org/web/packages/qsimulatR/vignettes/addbyqft.pdf) использующему QFT. В результате получится число \n",
        "\n",
        "$$x \\in [-2^m + n!,\\ n!), \\tag{1}$$\n",
        "\n",
        "причём в силу определения числа $m$ выполнено $2^{m-1} \\leqslant n! \\leqslant 2^m$\n",
        "\n",
        "А хотим мы получить валидный номер перестановки, т.е. $x \\in [0,\\ n!)$. Для этого нужно что-то сделать с отрицательными числами.\n",
        "\n",
        "Я предлагаю, если число отрицательное, применить побитовое $NOT$, которое эквивалентно операции $x \\mapsto -x - 1$.\n",
        "\n",
        "Положительная часть промежутка $(1)$ останется неизменной, а отрицательная преобразуется так:\n",
        "$$ [-2^m + n!,\\ -1] \\ \\mapsto\\ [0,\\ 2^m - n! - 1]$$\n",
        "Проверим, что мы не вышли за пределы промежутка $[0,\\ n!)$. Действительно, из $2^{m-1} \\leqslant m$ следует, что $2^m - n! - 1 < n!$\n",
        "\n",
        "Таким образом, какие бы параметрические гейты мы не делали, на выходе получится валидный номер перестановки $x \\in [0, n!)$. \n",
        "\n",
        "И наоборот, любой допустимый номер перестановки можно получить подходящими параметрическими гейтами."
      ]
    },
    {
      "cell_type": "markdown",
      "metadata": {
        "id": "Kq66y0Oa3wpW"
      },
      "source": [
        "Общая схема:\n",
        "\n",
        "```\n",
        "sign ───────────X─────────────┬──────┬────@┬───\n",
        "     ──┬─────────────────┬────┤      ├─────┼X────M─┐\n",
        "     ──┤ параметрические ├────┤ + n! ├─────┼X────M─┤ ← число от 0\n",
        "     ──┤      гейты      ├────┤      ├─────┼X────M─┤   до n!\n",
        "     ──┴─────────────────┴────┴──────┴─────┴X────M─┘\n",
        "                           ↑            ↑\n",
        "                число от -2^m          число от -2^m + n!\n",
        "                         до 0          до n!\n",
        "```"
      ]
    },
    {
      "cell_type": "markdown",
      "metadata": {
        "id": "V6MXgtf1Ucj4"
      },
      "source": [
        "В конце схемы я применяю побитовое отрицание к отрицательным числам. Для этого к каждому кубиту применяю CNOT, используя sign qubit в качестве контролирующего кубита. Сам sign qubit после этого отбрасывается."
      ]
    },
    {
      "cell_type": "markdown",
      "metadata": {
        "id": "IGtkt9dwV6fS"
      },
      "source": [
        "Возьмём в качестве параметрических гейтов пары из слоёв $R_x(a_i)$ и $CNOT$:\n",
        "\n",
        "```\n",
        "──┬─────────────────┬──            ──Rx(a_0)──@┬─────────────\n",
        "──┤ параметрические ├──     ___    ──Rx(a_1)───┴X───@┬───────\n",
        "──┤      гейты      ├──     ───    ──Rx(a_2)─────────┴X───@┬─ (повторяется n_layer_pairs раз с разными a_i)\n",
        "──┴─────────────────┴───           ──Rx(a_3)───────────────┴X\n",
        "\n",
        "```"
      ]
    },
    {
      "cell_type": "code",
      "execution_count": 16,
      "metadata": {
        "id": "NeohnFKZOFc1"
      },
      "outputs": [],
      "source": [
        "class RxCirquit:\n",
        "\n",
        "   def __init__(self, n_towns, n_layer_pairs):\n",
        "      n_qubits = int(np.ceil(np.log2(factorials[n_towns]))) + 1\n",
        "\n",
        "      self.qubits = cirq.LineQubit.range(n_qubits)\n",
        "      self.circuit = cirq.Circuit()\n",
        "      self.simulator = cirq.Simulator()\n",
        "\n",
        "      self._town_sequence = np.ndarray(n_towns, int)\n",
        "\n",
        "      self._angle_names = [f'a_{i}' for i in range(n_layer_pairs * (n_qubits-1))]\n",
        "      angle_symbols = sympy.symbols(self._angle_names)\n",
        "\n",
        "    # Параметрические гейты\n",
        "      for layer_pair in range(n_layer_pairs):\n",
        "          rx_gates = [cirq.rx(angle)(qubit)\n",
        "                      for (angle, qubit)\n",
        "                      in zip(\n",
        "                        angle_symbols[layer_pair*(n_qubits-1) : (layer_pair+1)*(n_qubits-1)],\n",
        "                        self.qubits[1:]) \n",
        "                    ]\n",
        "          self.circuit.append(cirq.Moment(rx_gates))\n",
        "\n",
        "          cnot_gates = [cirq.CNOT(q1, q2)\n",
        "                        for (q1, q2)\n",
        "                        in zip(self.qubits, self.qubits[2:]) ]\n",
        "          self.circuit.append(cnot_gates)\n",
        "\n",
        "    # Гейты для того, чтобы измеренный номер перестановки не превышал n_towns!\n",
        "      self.circuit.append(cirq.X(self.qubits[0]))\n",
        "      # sign qubit — делаем отрицательное число\n",
        "\n",
        "\n",
        "      # Прибавим n_towns! к числу, которое меньше 0\n",
        "      # Получим число, которое меньше n_towns!\n",
        "      self.circuit.append(\n",
        "          cirq.qft(*self.qubits, without_reverse = True)\n",
        "      )\n",
        "\n",
        "      for j in range(n_qubits):\n",
        "        self.circuit.append(\n",
        "            cirq.ZPowGate(\n",
        "                exponent = 2*factorials[n_towns] / 2**(n_qubits - j)\n",
        "              )(self.qubits[j])\n",
        "        )\n",
        "\n",
        "\n",
        "      self.circuit.append(\n",
        "          cirq.qft(*self.qubits, inverse=True, without_reverse = True)\n",
        "      )\n",
        "\n",
        "      # Если получили отрицательное число, то при помощи побитового CNOT\n",
        "      # сделаем отображение X -> -X-1\n",
        "      # Можно показать, что номер не станет слишком большим\n",
        "      for j in range(1, n_qubits):\n",
        "        self.circuit.append(\n",
        "            cirq.CNOT(self.qubits[0], self.qubits[j])\n",
        "        )\n",
        "      \n",
        "      measurements = cirq.measure_each(*self.qubits[1:])\n",
        "      self.circuit.append(cirq.Moment(measurements))\n",
        "\n",
        "\n",
        "   def measure(self, angles, repetitions = 1):\n",
        "\n",
        "      params = cirq.ParamResolver({\n",
        "         name: value for (name, value) in\n",
        "         zip(self._angle_names, angles)\n",
        "      })\n",
        "\n",
        "      return self.simulator.run_sweep(self.circuit, params, repetitions)[0]\n",
        "\n",
        "\n",
        "   def cost_of_bits(self, bits, cost_matrix):\n",
        "      \"Вычисляет по последовательности битов перестановку и её стоимость\"\n",
        "      return cost_of_permutation(\n",
        "          cost_matrix,\n",
        "          permutation_from_factoradic(\n",
        "              factoradic_from_perm_number(\n",
        "                  cirq.big_endian_bits_to_int(bits),\n",
        "                  self._town_sequence\n",
        "              )\n",
        "          )\n",
        "      )\n",
        "\n",
        "\n",
        "   def costs(self, angles, cost_matrix, repetitions):\n",
        "      \"Повторяет измерения и каждый раз вычисляет кост\"\n",
        "\n",
        "      measurementDataFrame = self.measure(angles, repetitions).data\n",
        "\n",
        "      return measurementDataFrame.apply(\n",
        "          self.cost_of_bits, \n",
        "          axis = 1, raw = True, args = (cost_matrix,)\n",
        "          )\n",
        "\n",
        "\n",
        "   def optimize_without_constraints(self, cost_matrix, \n",
        "                                    optimizer = differential_evolution,\n",
        "                                    repetitions = 100,\n",
        "                                    **optimizer_kwargs):\n",
        "      \"\"\"\n",
        "      Вызывает функцию, заданную в аргументе optimizer.\n",
        "      С её помощью подбирает параметры гейтов так,\n",
        "      чтобы решить задачу коммивояжёра.\n",
        "      Маршрут вычисляется на основе результатов измерений снова и снова,\n",
        "      а затем суммарная длина пути усредняется. \n",
        "      Именно эту усреднённую длину пути мы пытаемся минимизировать.\n",
        "\n",
        "      Args:\n",
        "\n",
        "       cost_matrix - матрица размером n_towns × n_towns такая, что\n",
        "                     cost_matrix[i][j] есть длина пути между городами i и j\n",
        "\n",
        "       optimizer - одна из функций https://docs.scipy.org/doc/scipy/reference/optimize.html#global-optimization\n",
        "\n",
        "       repetitions - число повторений для усреднения коста. \n",
        "                     Для градиентных методов нужна высокая точность, \n",
        "                     так как они считают разность между близкими величинами.\n",
        "                     Могут потребоваться миллионы повторений.\n",
        "      \"\"\"\n",
        "\n",
        "      cost_lambda = lambda angles : self.costs(angles, cost_matrix, repetitions).mean()\n",
        "\n",
        "      if optimizer == basinhopping or optimizer == minimize:\n",
        "         if 'x0' not in optimizer_kwargs:\n",
        "            optimizer_kwargs['x0'] = [2 * np.pi * (np.random.random() - 0.5)\n",
        "                                    for _ in self._angle_names]\n",
        "      else:\n",
        "         if 'bounds' not in optimizer_kwargs:\n",
        "            optimizer_kwargs['bounds'] = [(-np.pi, np.pi) for _ in self._angle_names]\n",
        "\n",
        "      return optimizer(cost_lambda, **optimizer_kwargs)\n",
        "\n",
        "\n",
        "   def __str__(self):\n",
        "      return self.circuit.__str__()\n",
        "\n",
        "   def _repr_pretty_(self, *args):\n",
        "      \"Text output in Jupyter\"\n",
        "      return self.circuit._repr_pretty_(*args)"
      ]
    },
    {
      "cell_type": "code",
      "execution_count": 245,
      "metadata": {
        "colab": {
          "base_uri": "https://localhost:8080/"
        },
        "id": "ijj0rJJ6aByN",
        "outputId": "8b552fdb-1762-4291-ddf9-26972f1f0054"
      },
      "outputs": [
        {
          "data": {
            "text/plain": [
              "                ┌──┐   ┌──┐             ┌──┐   ┌──┐\n",
              "0: ──────────────@───────────────────────@──────X─────qft[norev]───Z^0.75───qft[norev]^-1───@───@───@───@───@───────\n",
              "                 │                       │            │                     │               │   │   │   │   │\n",
              "1: ───Rx(a_0)────┼@───────────Rx(a_5)────┼@───────────#2───────────S^-1─────#2──────────────X───┼───┼───┼───┼───M───\n",
              "                 ││                      ││           │                     │                   │   │   │   │\n",
              "2: ───Rx(a_1)────X┼─────@─────Rx(a_6)────X┼─────@─────#3───────────Z────────#3──────────────────X───┼───┼───┼───M───\n",
              "                  │     │                 │     │     │                     │                       │   │   │\n",
              "3: ───Rx(a_2)─────X─────┼@────Rx(a_7)─────X─────┼@────#4───────────Z^0──────#4──────────────────────X───┼───┼───M───\n",
              "                        ││                      ││    │                     │                           │   │\n",
              "4: ───Rx(a_3)───────────X┼────Rx(a_8)───────────X┼────#5───────────Z^0──────#5──────────────────────────X───┼───M───\n",
              "                         │                       │    │                     │                               │\n",
              "5: ───Rx(a_4)────────────X────Rx(a_9)────────────X────#6───────────Z^0──────#6──────────────────────────────X───M───\n",
              "                └──┘   └──┘             └──┘   └──┘"
            ]
          },
          "execution_count": 245,
          "metadata": {},
          "output_type": "execute_result"
        }
      ],
      "source": [
        "RxCircuit_4_2 = RxCirquit(n_towns = 4, n_layer_pairs = 2)\n",
        "RxCircuit_4_2"
      ]
    },
    {
      "cell_type": "code",
      "execution_count": 15,
      "metadata": {},
      "outputs": [
        {
          "data": {
            "text/plain": [
              "     fun: 0.4663526200000001\n",
              "    funl: array([0.46635262])\n",
              " message: 'Optimization terminated successfully.'\n",
              "    nfev: 139\n",
              "     nit: 2\n",
              "   nlfev: 11\n",
              "   nlhev: 0\n",
              "   nljev: 1\n",
              " success: True\n",
              "       x: array([0., 0., 0., 0., 0., 0., 0., 0., 0., 0.])\n",
              "      xl: array([[0., 0., 0., 0., 0., 0., 0., 0., 0., 0.]])"
            ]
          },
          "execution_count": 15,
          "metadata": {},
          "output_type": "execute_result"
        }
      ],
      "source": [
        "# Success, 1.5 min\n",
        "RxCircuit_4_2.optimize_without_constraints(cost_matrix_4, \n",
        "                                            shgo, \n",
        "                                            repetitions = 100, \n",
        "                                            sampling_method = 'sobol', \n",
        "                )"
      ]
    },
    {
      "cell_type": "code",
      "execution_count": 16,
      "metadata": {
        "colab": {
          "base_uri": "https://localhost:8080/"
        },
        "id": "J24DAGwEM29M",
        "outputId": "0e425cb8-7d54-49fe-f410-51c1aa48d490"
      },
      "outputs": [
        {
          "data": {
            "text/plain": [
              "     fun: 0.4663526200000001\n",
              " message: 'Optimization terminated successfully.'\n",
              "    nfev: 32891\n",
              "     nit: 216\n",
              " success: True\n",
              "       x: array([-0.0917221 , -2.99309398,  3.05589482, -1.16475367, -0.50105521,\n",
              "       -0.03506382, -0.07196514,  0.2176334 , -1.91275572, -2.74809019])"
            ]
          },
          "execution_count": 16,
          "metadata": {},
          "output_type": "execute_result"
        }
      ],
      "source": [
        "# Success, 3 min\n",
        "RxCircuit_4_2.optimize_without_constraints(cost_matrix_4, differential_evolution)"
      ]
    },
    {
      "cell_type": "code",
      "execution_count": 17,
      "metadata": {
        "colab": {
          "base_uri": "https://localhost:8080/"
        },
        "id": "HZmuToxAO8uQ",
        "outputId": "7b704bcc-25a6-4813-d6e9-8ff6dc5044dd"
      },
      "outputs": [
        {
          "data": {
            "text/plain": [
              "     fun: 0.4663526200000001\n",
              " message: ['Maximum number of iteration reached']\n",
              "    nfev: 26447\n",
              "    nhev: 0\n",
              "     nit: 1000\n",
              "    njev: 586\n",
              "  status: 0\n",
              " success: True\n",
              "       x: array([ 0.13195791,  3.13285266, -0.03904781,  0.73534826, -0.54798557,\n",
              "       -0.05508556, -0.01845043, -3.10008193,  2.36314467,  0.77716622])"
            ]
          },
          "execution_count": 17,
          "metadata": {},
          "output_type": "execute_result"
        }
      ],
      "source": [
        "# Success, 2 min\n",
        "# Можно попробовать с другой strategy\n",
        "RxCircuit_4_2.optimize_without_constraints(cost_matrix_4, dual_annealing)"
      ]
    },
    {
      "cell_type": "code",
      "execution_count": 18,
      "metadata": {
        "id": "Q-DJ6QnQIad0"
      },
      "outputs": [
        {
          "data": {
            "text/plain": [
              "     fun: 0.47010476591700007\n",
              "   maxcv: 0.0\n",
              " message: 'Optimization terminated successfully.'\n",
              "    nfev: 126\n",
              "  status: 1\n",
              " success: True\n",
              "       x: array([-3.10535947,  3.1775052 ,  3.14658624,  4.10955368,  3.85471959,\n",
              "        3.21259122,  3.16777168,  0.03775732, -0.90496329, -3.82700013])"
            ]
          },
          "execution_count": 18,
          "metadata": {},
          "output_type": "execute_result"
        }
      ],
      "source": [
        "# Wrong Result, 15 sec\n",
        "RxCircuit_4_2.optimize_without_constraints(cost_matrix_4, minimize, 10**4, method='cobyla')"
      ]
    },
    {
      "cell_type": "markdown",
      "metadata": {
        "id": "J-CM_TCqhH-D"
      },
      "source": [
        "#### Испытания\n",
        "\n",
        "Классические оптимизаторы, которые каким-то чудом работают:\n",
        "1. `scipy.optimize.differential_evolution`\n",
        "2. `dual_annealing`\n",
        "3. `shgo` с параметром `sampling_method='sobol'`\n",
        "\n",
        "`COBYLA` не работает.\n",
        "\n",
        "Все оптимизаторы из `scipy` в лучшем случае (`COBYLA` и `shgo`) используют nfev ≈ 150, что значительно больше n! = 24. Т. е. полный перебор работает быстрее.\n",
        "\n",
        "Любопытно, что `differential_evolution` (вопреки названию) не использует дифференциирование."
      ]
    },
    {
      "cell_type": "markdown",
      "metadata": {
        "id": "TnphGtwciEi-"
      },
      "source": [
        "Далее идут неудачные результаты тестов других оптимизаторов:"
      ]
    },
    {
      "cell_type": "code",
      "execution_count": 19,
      "metadata": {
        "colab": {
          "base_uri": "https://localhost:8080/"
        },
        "id": "3h5Vtgm70_Bq",
        "outputId": "c86811ec-8536-4036-c2cd-9583135c34d1"
      },
      "outputs": [
        {
          "data": {
            "text/plain": [
              " final_simplex: (array([[-1.30916924,  2.71295924, -0.32444764, -0.91288964, -2.62506555,\n",
              "        -1.75219385,  1.82661744, -0.84445589, -0.67612808, -0.85639483],\n",
              "       [-1.30916924,  2.71295924, -0.32444764, -0.91288964, -2.62506555,\n",
              "        -1.75219385,  1.82661744, -0.84445589, -0.67612808, -0.85639483],\n",
              "       [-1.30916924,  2.71295924, -0.32444764, -0.91288964, -2.62506555,\n",
              "        -1.75219385,  1.82661744, -0.84445589, -0.67612808, -0.85639483],\n",
              "       [-1.30916924,  2.71295924, -0.32444764, -0.91288964, -2.62506555,\n",
              "        -1.75219385,  1.82661744, -0.84445589, -0.67612808, -0.85639483],\n",
              "       [-1.30916924,  2.71295924, -0.32444764, -0.91288964, -2.62506555,\n",
              "        -1.75219385,  1.82661744, -0.84445589, -0.67612808, -0.85639483],\n",
              "       [-1.30916924,  2.71295924, -0.32444764, -0.91288964, -2.62506555,\n",
              "        -1.75219385,  1.82661744, -0.84445589, -0.67612808, -0.85639483],\n",
              "       [-1.30916924,  2.71295924, -0.32444764, -0.91288964, -2.62506555,\n",
              "        -1.75219385,  1.82661744, -0.84445589, -0.67612808, -0.85639483],\n",
              "       [-1.30916924,  2.71295924, -0.32444764, -0.91288964, -2.62506555,\n",
              "        -1.75219385,  1.82661744, -0.84445589, -0.67612808, -0.85639483],\n",
              "       [-1.30916924,  2.71295924, -0.32444764, -0.91288964, -2.62506555,\n",
              "        -1.75219385,  1.82661744, -0.84445589, -0.67612808, -0.85639483],\n",
              "       [-1.30916924,  2.71295924, -0.32444764, -0.91288964, -2.62506555,\n",
              "        -1.75219385,  1.82661744, -0.84445589, -0.67612808, -0.85639483],\n",
              "       [-1.30916924,  2.71295924, -0.32444764, -0.91288964, -2.62506555,\n",
              "        -1.75219385,  1.82661744, -0.84445589, -0.67612808, -0.85639483]]), array([1.35155299, 1.36240604, 1.36298332, 1.36315133, 1.36347921,\n",
              "       1.36385742, 1.36408987, 1.36493319, 1.3663278 , 1.36962004,\n",
              "       1.37471397]))\n",
              "           fun: 1.3515529860209998\n",
              "       message: 'Maximum number of function evaluations has been exceeded.'\n",
              "          nfev: 2000\n",
              "           nit: 675\n",
              "        status: 1\n",
              "       success: False\n",
              "             x: array([-1.30916924,  2.71295924, -0.32444764, -0.91288964, -2.62506555,\n",
              "       -1.75219385,  1.82661744, -0.84445589, -0.67612808, -0.85639483])"
            ]
          },
          "execution_count": 19,
          "metadata": {},
          "output_type": "execute_result"
        }
      ],
      "source": [
        "# Fail, 4 min \n",
        "RxCircuit_4_2.optimize_without_constraints(cost_matrix_4, minimize, repetitions = 10**4, method = 'nelder-mead')"
      ]
    },
    {
      "cell_type": "code",
      "execution_count": 112,
      "metadata": {
        "colab": {
          "base_uri": "https://localhost:8080/"
        },
        "id": "e6gqf_JCKY2V",
        "outputId": "7b3eb89c-038f-4f13-c44a-439e55d64fb0"
      },
      "outputs": [
        {
          "data": {
            "text/plain": [
              "   direc: array([[1., 0., 0., 0., 0., 0., 0., 0., 0., 0.],\n",
              "       [0., 1., 0., 0., 0., 0., 0., 0., 0., 0.],\n",
              "       [0., 0., 1., 0., 0., 0., 0., 0., 0., 0.],\n",
              "       [0., 0., 0., 1., 0., 0., 0., 0., 0., 0.],\n",
              "       [0., 0., 0., 0., 1., 0., 0., 0., 0., 0.],\n",
              "       [0., 0., 0., 0., 0., 1., 0., 0., 0., 0.],\n",
              "       [0., 0., 0., 0., 0., 0., 1., 0., 0., 0.],\n",
              "       [0., 0., 0., 0., 0., 0., 0., 1., 0., 0.],\n",
              "       [0., 0., 0., 0., 0., 0., 0., 0., 1., 0.],\n",
              "       [0., 0., 0., 0., 0., 0., 0., 0., 0., 1.]])\n",
              "     fun: 0.4664227917340001\n",
              " message: 'Optimization terminated successfully.'\n",
              "    nfev: 693\n",
              "     nit: 4\n",
              "  status: 0\n",
              " success: True\n",
              "       x: array([-3.15685436e+00, -1.54750690e-03,  3.14268385e+00, -2.08925369e-03,\n",
              "        2.01946626e+00, -3.13099056e+00,  3.14529293e+00,  3.13544571e+00,\n",
              "       -2.47049953e-02, -2.02884605e+00])"
            ]
          },
          "execution_count": 112,
          "metadata": {},
          "output_type": "execute_result"
        }
      ],
      "source": [
        "# Wrong or approximate answer, 2 min \n",
        "RxCircuit_4_2.optimize_without_constraints(cost_matrix_4, minimize, repetitions = 10**4, method = 'powell')"
      ]
    },
    {
      "cell_type": "code",
      "execution_count": 21,
      "metadata": {
        "id": "iYtgApH_KfxC"
      },
      "outputs": [
        {
          "data": {
            "text/plain": [
              "     fun: 1.249236038818\n",
              "     jac: array([1039149.14204092, 1317840.20429951,  380067.72514737,\n",
              "        717307.16257289,  674113.54909356, 1240907.79634239,\n",
              "        686435.35949557,  737966.37932757,  214615.3977128 ,\n",
              "        854547.81874701])\n",
              " message: 'Desired error not necessarily achieved due to precision loss.'\n",
              "    nfev: 401\n",
              "     nit: 3\n",
              "    njev: 35\n",
              "  status: 2\n",
              " success: False\n",
              "       x: array([-1.21525608,  0.64685367,  0.60727529,  3.12168778,  1.42938628,\n",
              "       -0.26930508, -2.00201487,  2.42059577,  1.87382361, -0.77242461])"
            ]
          },
          "execution_count": 21,
          "metadata": {},
          "output_type": "execute_result"
        }
      ],
      "source": [
        "# Fail, 4m sec \n",
        "RxCircuit_4_2.optimize_without_constraints(cost_matrix_4, minimize, repetitions = 10**4, method = 'CG')"
      ]
    },
    {
      "cell_type": "code",
      "execution_count": 22,
      "metadata": {
        "colab": {
          "base_uri": "https://localhost:8080/"
        },
        "id": "s6R7DpS130CJ",
        "outputId": "9af74d97-2b0e-4eb6-f3aa-8a3c847a6496"
      },
      "outputs": [
        {
          "data": {
            "text/plain": [
              "      fun: 1.3679762723647995\n",
              " hess_inv: array([[  1.57410899,   1.91168013,  -1.72073345,  -1.3138976 ,\n",
              "          6.63634128,   0.74393882,   1.63136604,  -5.95791173,\n",
              "         -6.01613926,  -4.81054263],\n",
              "       [  1.91168013,   4.91700583,  -3.73630275,  -2.25680153,\n",
              "         13.2932785 ,   1.19769991,   3.78344043, -11.44079575,\n",
              "        -12.22585049,  -9.62561708],\n",
              "       [ -1.72073345,  -3.73630275,   4.03302901,   1.94000347,\n",
              "        -12.13431046,  -1.55250039,  -3.46579121,  10.34306821,\n",
              "         10.77309056,   8.43899988],\n",
              "       [ -1.3138976 ,  -2.25680153,   1.94000347,   2.02528768,\n",
              "         -7.25015447,  -0.79444289,  -2.26275503,   6.00077962,\n",
              "          6.52231046,   5.05644178],\n",
              "       [  6.63634128,  13.2932785 , -12.13431046,  -7.25015447,\n",
              "         45.3622782 ,   4.42613581,  12.83345786, -37.87779306,\n",
              "        -40.4117499 , -31.7111538 ],\n",
              "       [  0.74393882,   1.19769991,  -1.55250039,  -0.79444289,\n",
              "          4.42613581,   1.03060953,   1.31164645,  -3.82401963,\n",
              "         -4.37245517,  -3.45617663],\n",
              "       [  1.63136604,   3.78344043,  -3.46579121,  -2.26275503,\n",
              "         12.83345786,   1.31164645,   4.51222331, -11.16497866,\n",
              "        -11.6917961 ,  -9.23906386],\n",
              "       [ -5.95791173, -11.44079575,  10.34306821,   6.00077962,\n",
              "        -37.87779306,  -3.82401963, -11.16497866,  33.11177004,\n",
              "         34.43876339,  26.95069215],\n",
              "       [ -6.01613926, -12.22585049,  10.77309056,   6.52231046,\n",
              "        -40.4117499 ,  -4.37245517, -11.6917961 ,  34.43876339,\n",
              "         37.52727762,  28.63313584],\n",
              "       [ -4.81054263,  -9.62561708,   8.43899988,   5.05644178,\n",
              "        -31.7111538 ,  -3.45617663,  -9.23906386,  26.95069215,\n",
              "         28.63313584,  23.42121585]])\n",
              "      jac: array([143055.68335041, 163620.49378453, 213673.12157625, 154684.47812325,\n",
              "        74163.69132067, 303788.3503045 , 132886.86514699, 111662.34191115,\n",
              "       196267.54390846, 217045.17896469])\n",
              "  message: 'Desired error not necessarily achieved due to precision loss.'\n",
              "     nfev: 276\n",
              "      nit: 2\n",
              "     njev: 24\n",
              "   status: 2\n",
              "  success: False\n",
              "        x: array([ 1.66368962, -1.74019112,  1.81325117,  2.48238707,  1.39913109,\n",
              "       -2.20836318,  2.70093761, -2.54724571, -0.45811069, -0.65393711])"
            ]
          },
          "execution_count": 22,
          "metadata": {},
          "output_type": "execute_result"
        }
      ],
      "source": [
        "# Fail, 5 min\n",
        "RxCircuit_4_2.optimize_without_constraints(cost_matrix_4, minimize, 10**5, method='BFGS')"
      ]
    },
    {
      "cell_type": "code",
      "execution_count": 23,
      "metadata": {
        "id": "FKN56pzbIYui"
      },
      "outputs": [
        {
          "data": {
            "text/plain": [
              "      fun: 1.323145629146\n",
              " hess_inv: <10x10 LbfgsInvHessProduct with dtype=float64>\n",
              "      jac: array([  204341.11497324,   230162.30959882,  -468061.04994808,\n",
              "        -249968.11091916,  -208775.83046881,  -116783.04700975,\n",
              "         121867.69084068, -1013832.93546151,  -606143.58681902,\n",
              "        -238490.0352494 ])\n",
              "  message: 'CONVERGENCE: REL_REDUCTION_OF_F_<=_FACTR*EPSMCH'\n",
              "     nfev: 308\n",
              "      nit: 3\n",
              "     njev: 28\n",
              "   status: 0\n",
              "  success: True\n",
              "        x: array([-0.58077443,  2.29720482,  0.51494906, -1.51338284,  3.10602678,\n",
              "       -2.55284896,  2.70628379,  1.54238053,  0.48683189, -1.93392373])"
            ]
          },
          "execution_count": 23,
          "metadata": {},
          "output_type": "execute_result"
        }
      ],
      "source": [
        "# Fail, 30 sec\n",
        "RxCircuit_4_2.optimize_without_constraints(cost_matrix_4, minimize, 10**4, method='L-BFGS-B')"
      ]
    },
    {
      "cell_type": "code",
      "execution_count": 24,
      "metadata": {},
      "outputs": [
        {
          "data": {
            "text/plain": [
              "     fun: 1.356649087562\n",
              "     jac: array([ 458110.3779981 ,  126595.85816939,  565908.25493929,\n",
              "        538046.49536995, -562306.39217456, -229354.97799389,\n",
              "        450996.72933739,  -91414.0169481 ,  714230.0187407 ,\n",
              "        325136.05676628])\n",
              " message: 'Converged (|x_n-x_(n-1)| ~= 0)'\n",
              "    nfev: 121\n",
              "     nit: 2\n",
              "  status: 2\n",
              " success: True\n",
              "       x: array([-0.70018955, -1.14058802, -1.93371134, -1.31665688,  0.64010246,\n",
              "       -2.11287222, -0.19075364,  0.10532458, -1.02892529, -0.53824389])"
            ]
          },
          "execution_count": 24,
          "metadata": {},
          "output_type": "execute_result"
        }
      ],
      "source": [
        "# Fail, 30 sec\n",
        "RxCircuit_4_2.optimize_without_constraints(cost_matrix_4, minimize, 10**4, method='TNC')"
      ]
    },
    {
      "cell_type": "code",
      "execution_count": 26,
      "metadata": {},
      "outputs": [
        {
          "data": {
            "text/plain": [
              "     fun: 1.2948185245780002\n",
              "     jac: array([-360316.59540847, -124896.0825797 , -121321.07092074,\n",
              "       -109091.87162349, -184002.75141861,   45563.36597985,\n",
              "       -319895.75141086, -202094.0858786 , -246865.44405136,\n",
              "       -222196.43999067])\n",
              " message: 'Optimization terminated successfully'\n",
              "    nfev: 925\n",
              "     nit: 44\n",
              "    njev: 44\n",
              "  status: 0\n",
              " success: True\n",
              "       x: array([-71348.61276298,  21013.63474634, 112014.53673681,  56451.50396581,\n",
              "       -19727.57848191,  32430.68800211, -38368.16237266,  26917.45229334,\n",
              "        78579.71176846,  51717.38181607])"
            ]
          },
          "execution_count": 26,
          "metadata": {},
          "output_type": "execute_result"
        }
      ],
      "source": [
        "# Fail, 1.5 min\n",
        "RxCircuit_4_2.optimize_without_constraints(cost_matrix_4, minimize, 10**4, method='SLSQP')"
      ]
    },
    {
      "cell_type": "code",
      "execution_count": 27,
      "metadata": {},
      "outputs": [
        {
          "data": {
            "text/plain": [
              "         cg_niter: 48\n",
              "     cg_stop_cond: 2\n",
              "           constr: []\n",
              "      constr_nfev: []\n",
              "      constr_nhev: []\n",
              "      constr_njev: []\n",
              "   constr_penalty: 1.0\n",
              " constr_violation: 0\n",
              "   execution_time: 37.73295211791992\n",
              "              fun: 1.2207278997829998\n",
              "             grad: array([ -48508.19359627,  127748.68982296,   78366.98805521,\n",
              "       -218034.11473175, -205466.2325482 ,  -68369.58085357,\n",
              "       -114627.93612298,  100192.99237136,  162431.82318858,\n",
              "        -17274.85615304])\n",
              "              jac: []\n",
              "  lagrangian_grad: array([ -48508.19359627,  127748.68982296,   78366.98805521,\n",
              "       -218034.11473175, -205466.2325482 ,  -68369.58085357,\n",
              "       -114627.93612298,  100192.99237136,  162431.82318858,\n",
              "        -17274.85615304])\n",
              "          message: '`xtol` termination condition is satisfied.'\n",
              "           method: 'equality_constrained_sqp'\n",
              "             nfev: 385\n",
              "             nhev: 0\n",
              "              nit: 35\n",
              "            niter: 35\n",
              "             njev: 35\n",
              "       optimality: 218034.114731752\n",
              "           status: 2\n",
              "          success: True\n",
              "        tr_radius: 5.806760833474368e-09\n",
              "                v: []\n",
              "                x: array([-0.66507692,  2.92394756,  2.9527821 , -1.69718465, -2.06628432,\n",
              "       -1.93260876, -3.5975358 ,  1.83347986,  2.33856392, -2.93984527])"
            ]
          },
          "execution_count": 27,
          "metadata": {},
          "output_type": "execute_result"
        }
      ],
      "source": [
        "# Fail, 30 sec\n",
        "RxCircuit_4_2.optimize_without_constraints(cost_matrix_4, minimize, 10**4, method='trust-constr')"
      ]
    },
    {
      "cell_type": "code",
      "execution_count": 28,
      "metadata": {
        "colab": {
          "base_uri": "https://localhost:8080/"
        },
        "id": "cb9w2__haVPB",
        "outputId": "1a5396a5-b38a-4478-f5c8-44f48f483bdc"
      },
      "outputs": [
        {
          "data": {
            "text/plain": [
              "                        fun: 1.1467525638800002\n",
              " lowest_optimization_result:       fun: 1.1467525638800002\n",
              " hess_inv: array([[1, 0, 0, 0, 0, 0, 0, 0, 0, 0],\n",
              "       [0, 1, 0, 0, 0, 0, 0, 0, 0, 0],\n",
              "       [0, 0, 1, 0, 0, 0, 0, 0, 0, 0],\n",
              "       [0, 0, 0, 1, 0, 0, 0, 0, 0, 0],\n",
              "       [0, 0, 0, 0, 1, 0, 0, 0, 0, 0],\n",
              "       [0, 0, 0, 0, 0, 1, 0, 0, 0, 0],\n",
              "       [0, 0, 0, 0, 0, 0, 1, 0, 0, 0],\n",
              "       [0, 0, 0, 0, 0, 0, 0, 1, 0, 0],\n",
              "       [0, 0, 0, 0, 0, 0, 0, 0, 1, 0],\n",
              "       [0, 0, 0, 0, 0, 0, 0, 0, 0, 1]])\n",
              "      jac: array([2366463.66690934, 1418654.58436407,  610483.68591271,\n",
              "       -476344.8846477 , 1616749.59465216,  527778.07297641,\n",
              "       2607890.47004233, 2791511.82843214, 1188598.6024574 ,\n",
              "        459251.42081045])\n",
              "  message: 'Desired error not necessarily achieved due to precision loss.'\n",
              "     nfev: 265\n",
              "      nit: 0\n",
              "     njev: 23\n",
              "   status: 2\n",
              "  success: False\n",
              "        x: array([ 4.55531833, -3.19294635,  0.35078097,  2.90749403,  0.25387454,\n",
              "       -3.48732677, -0.07798095, -0.62492238, -4.48916863,  2.08165157])\n",
              "                    message: ['requested number of basinhopping iterations completed successfully']\n",
              "      minimization_failures: 101\n",
              "                       nfev: 28469\n",
              "                        nit: 100\n",
              "                       njev: 2468\n",
              "                    success: False\n",
              "                          x: array([ 4.55531833, -3.19294635,  0.35078097,  2.90749403,  0.25387454,\n",
              "       -3.48732677, -0.07798095, -0.62492238, -4.48916863,  2.08165157])"
            ]
          },
          "execution_count": 28,
          "metadata": {},
          "output_type": "execute_result"
        }
      ],
      "source": [
        "# 7 min, fail\n",
        "RxCircuit_4_2.optimize_without_constraints(cost_matrix_4, basinhopping, repetitions=1000)"
      ]
    },
    {
      "cell_type": "code",
      "execution_count": 116,
      "metadata": {
        "colab": {
          "base_uri": "https://localhost:8080/"
        },
        "id": "2T5YX3znSlIJ",
        "outputId": "229a22da-437b-4547-8413-79f3bab14150"
      },
      "outputs": [
        {
          "data": {
            "text/plain": [
              "     fun: 1.30595963304\n",
              "    funl: array([1.30595963, 1.30607816, 1.30846972, 1.31134336, 1.31430259,\n",
              "       1.3163793 , 1.31652658, 1.3181426 , 1.31914509, 1.32190803])\n",
              " message: 'Optimization terminated successfully.'\n",
              "    nfev: 1156\n",
              "     nit: 2\n",
              "   nlfev: 131\n",
              "   nlhev: 0\n",
              "   nljev: 11\n",
              " success: True\n",
              "       x: array([7.28318531, 1.        , 7.28318531, 7.28318531, 7.28318531,\n",
              "       7.28318531, 1.        , 1.        , 7.28318531, 1.        ])\n",
              "      xl: array([[7.28318531, 1.        , 7.28318531, 7.28318531, 7.28318531,\n",
              "        7.28318531, 1.        , 1.        , 7.28318531, 1.        ],\n",
              "       [1.        , 7.28318531, 7.28318531, 1.        , 1.        ,\n",
              "        7.28318531, 7.28318531, 7.28318531, 1.        , 1.        ],\n",
              "       [7.28318531, 1.        , 7.28318531, 7.28318531, 1.        ,\n",
              "        1.        , 1.        , 7.28318531, 1.        , 7.28318531],\n",
              "       [1.        , 7.28318531, 7.28318531, 7.28318531, 7.28318531,\n",
              "        7.28318531, 1.        , 7.28318531, 7.28318531, 1.        ],\n",
              "       [1.        , 7.28318531, 1.        , 7.28318531, 7.28318531,\n",
              "        7.28318531, 7.28318531, 7.28318531, 7.28318531, 1.        ],\n",
              "       [7.28318531, 7.28318531, 1.        , 1.        , 1.        ,\n",
              "        7.28318531, 1.        , 1.        , 7.28318531, 7.28318531],\n",
              "       [7.28318531, 7.28318531, 1.        , 1.        , 1.        ,\n",
              "        7.28318531, 7.28318531, 7.28318531, 1.        , 7.28318531],\n",
              "       [7.28318531, 7.28318531, 1.        , 7.28318531, 7.28318531,\n",
              "        1.        , 7.28318531, 7.28318531, 1.        , 1.        ],\n",
              "       [7.28011734, 7.28011734, 7.28011734, 7.28318531, 1.        ,\n",
              "        1.00306796, 7.28011734, 1.        , 7.28011734, 7.28011734],\n",
              "       [1.        , 1.        , 1.        , 7.28318531, 7.28318531,\n",
              "        7.28318531, 1.        , 7.28318531, 7.28318531, 7.28318531]])"
            ]
          },
          "execution_count": 116,
          "metadata": {},
          "output_type": "execute_result"
        }
      ],
      "source": [
        "# Fail, 2 min\n",
        "RxCircuit_4_2.optimize_without_constraints(cost_matrix_4, \n",
        "                                                 shgo, \n",
        "                                                 repetitions = 1000, \n",
        "                                                 bounds = [(1, 1+2*np.pi) for _ in RxCircuit_4_2._angle_names])"
      ]
    },
    {
      "cell_type": "code",
      "execution_count": 117,
      "metadata": {
        "colab": {
          "base_uri": "https://localhost:8080/"
        },
        "id": "QdbiDlra5UIm",
        "outputId": "af91264a-a2d4-4072-9cbe-8650c313aea6"
      },
      "outputs": [
        {
          "data": {
            "text/plain": [
              "     fun: 1.197461658548\n",
              "    funl: array([1.19746166])\n",
              " message: 'Optimization terminated successfully.'\n",
              "    nfev: 111\n",
              "     nit: 2\n",
              "   nlfev: 11\n",
              "   nlhev: 0\n",
              "   nljev: 1\n",
              " success: True\n",
              "       x: array([ 1.05756454,  2.74648521,  0.61104308,  1.33058515, -2.41377251,\n",
              "        0.93495161, -0.51616518, -0.42167986, -0.63661757, -1.32514422])\n",
              "      xl: array([[ 1.05756454,  2.74648521,  0.61104308,  1.33058515, -2.41377251,\n",
              "         0.93495161, -0.51616518, -0.42167986, -0.63661757, -1.32514422]])"
            ]
          },
          "execution_count": 117,
          "metadata": {},
          "output_type": "execute_result"
        }
      ],
      "source": [
        "# 1 min, fail\n",
        "RxCircuit_4_2.optimize_without_constraints(cost_matrix_4, \n",
        "                                                 shgo, \n",
        "                                                 repetitions = 10**4, \n",
        "                                                 sampling_method = 'halton', \n",
        "                    )"
      ]
    },
    {
      "cell_type": "markdown",
      "metadata": {},
      "source": [
        "### Рассмотрим другую цепь (с Rz-гейтами)"
      ]
    },
    {
      "cell_type": "code",
      "execution_count": 118,
      "metadata": {},
      "outputs": [],
      "source": [
        "class RxRzCircuit(RxCirquit):\n",
        "\n",
        "  def __init__(self, n_towns, n_layer_triples):\n",
        "    \n",
        "      n_qubits = int(np.ceil(np.log2(factorials[n_towns]))) + 1\n",
        "\n",
        "      self.qubits = cirq.LineQubit.range(n_qubits)\n",
        "      self.circuit = cirq.Circuit()\n",
        "      self.simulator = cirq.Simulator()\n",
        "\n",
        "      self._town_sequence = np.ndarray(n_towns, int)\n",
        "\n",
        "      self._angle_names = [f'a_{i}' for i in range(2 * n_layer_triples * (n_qubits-1))]\n",
        "      angle_symbols = sympy.symbols(self._angle_names)\n",
        "\n",
        "    # Параметрические гейты\n",
        "      for layer_triple in range(n_layer_triples):\n",
        "          rx_gates = [cirq.rx(angle)(qubit)\n",
        "                      for (angle, qubit)\n",
        "                      in zip(\n",
        "                        angle_symbols[layer_triple*(n_qubits-1) : (layer_triple+1)*(n_qubits-1)],\n",
        "                        self.qubits[1:]) \n",
        "                    ]\n",
        "          self.circuit.append(cirq.Moment(rx_gates))\n",
        "\n",
        "          rz_gates = [cirq.rz(angle)(qubit)\n",
        "                      for (angle, qubit)\n",
        "                      in zip(\n",
        "                        angle_symbols[(layer_triple+1)*(n_qubits-1) : (layer_triple+2)*(n_qubits-1)],   \n",
        "                        self.qubits[1:]) \n",
        "                    ]\n",
        "          self.circuit.append(cirq.Moment(rz_gates))\n",
        "\n",
        "          cnot_gates = [cirq.CNOT(q1, q2)\n",
        "                        for (q1, q2)\n",
        "                        in zip(self.qubits, self.qubits[2:]) ]\n",
        "          self.circuit.append(cnot_gates)\n",
        "\n",
        "    # Гейты для того, чтобы измеренный номер перестановки не превышал n_towns!\n",
        "      self.circuit.append(cirq.X(self.qubits[0]))\n",
        "      # sign qubit — делаем отрицательное число\n",
        "\n",
        "\n",
        "      # Прибавим n_towns! к числу, которое меньше 0\n",
        "      # Получим число, которое меньше n_towns!\n",
        "      self.circuit.append(\n",
        "          cirq.qft(*self.qubits, without_reverse = True)\n",
        "      )\n",
        "\n",
        "      for j in range(n_qubits):\n",
        "        self.circuit.append(\n",
        "            cirq.ZPowGate(\n",
        "                exponent = 2*factorials[n_towns] / 2**(n_qubits - j)\n",
        "              )(self.qubits[j])\n",
        "        )\n",
        "\n",
        "\n",
        "      self.circuit.append(\n",
        "          cirq.qft(*self.qubits, inverse=True, without_reverse = True)\n",
        "      )\n",
        "\n",
        "      # Если получили отрицательное число, то при помощи побитового CNOT\n",
        "      # сделаем отображение X -> -X-1\n",
        "      # Можно показать, что номер не станет слишком большим\n",
        "      for j in range(1, n_qubits):\n",
        "        self.circuit.append(\n",
        "            cirq.CNOT(self.qubits[0], self.qubits[j])\n",
        "        )\n",
        "      \n",
        "      measurements = cirq.measure_each(*self.qubits[1:])\n",
        "      self.circuit.append(cirq.Moment(measurements))\n"
      ]
    },
    {
      "cell_type": "markdown",
      "metadata": {
        "id": "HxerQeTAgiQ0"
      },
      "source": [
        "## Вывод\n",
        "\n",
        "Из-за того, что нужно много раз повторять измерения (когда суперпозиция разных номеров перестановок), всё бессмысленно"
      ]
    },
    {
      "cell_type": "code",
      "execution_count": 119,
      "metadata": {
        "id": "FNatWudHg1UG"
      },
      "outputs": [
        {
          "data": {
            "text/plain": [
              "                          ┌──┐   ┌──┐\n",
              "0: ────────────────────────@──────X─────qft[norev]───Z^0.75───qft[norev]^-1───@───@───@───@───@───────\n",
              "                           │            │                     │               │   │   │   │   │\n",
              "1: ───Rx(a_0)───Rz(a_5)────┼@───────────#2───────────S^-1─────#2──────────────X───┼───┼───┼───┼───M───\n",
              "                           ││           │                     │                   │   │   │   │\n",
              "2: ───Rx(a_1)───Rz(a_6)────X┼─────@─────#3───────────Z────────#3──────────────────X───┼───┼───┼───M───\n",
              "                            │     │     │                     │                       │   │   │\n",
              "3: ───Rx(a_2)───Rz(a_7)─────X─────┼@────#4───────────Z^0──────#4──────────────────────X───┼───┼───M───\n",
              "                                  ││    │                     │                           │   │\n",
              "4: ───Rx(a_3)───Rz(a_8)───────────X┼────#5───────────Z^0──────#5──────────────────────────X───┼───M───\n",
              "                                   │    │                     │                               │\n",
              "5: ───Rx(a_4)───Rz(a_9)────────────X────#6───────────Z^0──────#6──────────────────────────────X───M───\n",
              "                          └──┘   └──┘"
            ]
          },
          "execution_count": 119,
          "metadata": {},
          "output_type": "execute_result"
        }
      ],
      "source": [
        "RxRzCircuit_4_1 = RxRzCircuit(n_towns = 4, n_layer_triples = 1)\n",
        "RxRzCircuit_4_1"
      ]
    },
    {
      "cell_type": "code",
      "execution_count": 120,
      "metadata": {},
      "outputs": [
        {
          "data": {
            "text/plain": [
              "     fun: 0.4663526200000001\n",
              "    funl: array([0.46635262])\n",
              " message: 'Optimization terminated successfully.'\n",
              "    nfev: 139\n",
              "     nit: 2\n",
              "   nlfev: 11\n",
              "   nlhev: 0\n",
              "   nljev: 1\n",
              " success: True\n",
              "       x: array([0., 0., 0., 0., 0., 0., 0., 0., 0., 0.])\n",
              "      xl: array([[0., 0., 0., 0., 0., 0., 0., 0., 0., 0.]])"
            ]
          },
          "execution_count": 120,
          "metadata": {},
          "output_type": "execute_result"
        }
      ],
      "source": [
        "# Success, 1.5 min\n",
        "RxRzCircuit_4_1.optimize_without_constraints(cost_matrix_4, \n",
        "                                            shgo, \n",
        "                                            repetitions = 100, \n",
        "                                            sampling_method = 'sobol', \n",
        "                )"
      ]
    },
    {
      "cell_type": "code",
      "execution_count": 121,
      "metadata": {},
      "outputs": [
        {
          "data": {
            "text/plain": [
              "     fun: 0.4663526200000001\n",
              " message: 'Optimization terminated successfully.'\n",
              "    nfev: 9509\n",
              "     nit: 61\n",
              " success: True\n",
              "       x: array([ 0.18087251, -3.11266802, -3.06295076, -0.27645024,  0.1449418 ,\n",
              "       -1.23763742,  2.31237694, -2.61008506,  0.37129562,  0.5738621 ])"
            ]
          },
          "execution_count": 121,
          "metadata": {},
          "output_type": "execute_result"
        }
      ],
      "source": [
        "# Success, 3 min\n",
        "RxRzCircuit_4_1.optimize_without_constraints(cost_matrix_4, differential_evolution)"
      ]
    },
    {
      "cell_type": "code",
      "execution_count": 122,
      "metadata": {},
      "outputs": [
        {
          "data": {
            "text/plain": [
              "     fun: 0.4663526200000001\n",
              " message: ['Maximum number of iteration reached']\n",
              "    nfev: 24929\n",
              "    nhev: 0\n",
              "     nit: 1000\n",
              "    njev: 448\n",
              "  status: 0\n",
              " success: True\n",
              "       x: array([-0.05610648, -3.05702992, -2.89435958,  0.22744969, -0.15671747,\n",
              "        3.04693788, -2.78356467, -2.65554399, -0.4688722 , -1.94550051])"
            ]
          },
          "execution_count": 122,
          "metadata": {},
          "output_type": "execute_result"
        }
      ],
      "source": [
        "# Success, 2 min\n",
        "# Можно попробовать с другой strategy\n",
        "RxRzCircuit_4_1.optimize_without_constraints(cost_matrix_4, dual_annealing)"
      ]
    },
    {
      "cell_type": "code",
      "execution_count": 123,
      "metadata": {},
      "outputs": [
        {
          "data": {
            "text/plain": [
              "     fun: 0.4674048509360001\n",
              "   maxcv: 0.0\n",
              " message: 'Optimization terminated successfully.'\n",
              "    nfev: 140\n",
              "  status: 1\n",
              " success: True\n",
              "       x: array([-0.05234763, -3.12898678,  3.17406498, -6.31169016,  6.30585563,\n",
              "       -4.22040843,  2.13472686, -3.46525386,  0.94004052, -1.47451736])"
            ]
          },
          "execution_count": 123,
          "metadata": {},
          "output_type": "execute_result"
        }
      ],
      "source": [
        "# Approximate Result, 15 sec\n",
        "RxRzCircuit_4_1.optimize_without_constraints(cost_matrix_4, minimize, 10**4, method='cobyla')"
      ]
    },
    {
      "cell_type": "code",
      "execution_count": 126,
      "metadata": {},
      "outputs": [
        {
          "data": {
            "text/plain": [
              "     fun: 0.4677256329660001\n",
              "   maxcv: 0.0\n",
              " message: 'Optimization terminated successfully.'\n",
              "    nfev: 131\n",
              "  status: 1\n",
              " success: True\n",
              "       x: array([ 0.02985708, -0.04655431,  0.0130951 , -0.04067813, -0.00664194,\n",
              "        0.59273908, -2.45172399,  1.17981674,  0.42846024,  1.27041772])"
            ]
          },
          "execution_count": 126,
          "metadata": {},
          "output_type": "execute_result"
        }
      ],
      "source": [
        "# Approximate Result, 15 sec\n",
        "RxRzCircuit_4_1.optimize_without_constraints(cost_matrix_4, minimize, 10**4, method='cobyla')"
      ]
    },
    {
      "cell_type": "code",
      "execution_count": 127,
      "metadata": {},
      "outputs": [
        {
          "data": {
            "text/plain": [
              "     fun: 0.4689735281690001\n",
              "   maxcv: 0.0\n",
              " message: 'Optimization terminated successfully.'\n",
              "    nfev: 127\n",
              "  status: 1\n",
              " success: True\n",
              "       x: array([ 0.09964644, -0.00904898,  0.02179876,  0.01224183,  0.02763523,\n",
              "        2.41652386,  0.67505693, -0.95754934, -1.1378796 , -0.34803205])"
            ]
          },
          "execution_count": 127,
          "metadata": {},
          "output_type": "execute_result"
        }
      ],
      "source": [
        "# Approximate Result, 15 sec\n",
        "RxRzCircuit_4_1.optimize_without_constraints(cost_matrix_4, minimize, 10**4, method='cobyla')"
      ]
    },
    {
      "cell_type": "markdown",
      "metadata": {},
      "source": [
        "`COBYLA` начала давать стабильные почти точные результаты"
      ]
    },
    {
      "cell_type": "code",
      "execution_count": 124,
      "metadata": {},
      "outputs": [
        {
          "data": {
            "text/plain": [
              " final_simplex: (array([[-3.17509111, -2.24311423, -0.57652344, -0.02105428,  1.14193824,\n",
              "        -2.71891431,  0.69892156, -2.44498138, -0.77860107, -2.23190932],\n",
              "       [-3.17509111, -2.24311423, -0.57652344, -0.02105428,  1.14193824,\n",
              "        -2.71891431,  0.69892156, -2.44498138, -0.77860107, -2.23190932],\n",
              "       [-3.17509111, -2.24311423, -0.57652344, -0.02105428,  1.14193824,\n",
              "        -2.71891431,  0.69892156, -2.44498138, -0.77860107, -2.23190932],\n",
              "       [-3.17509111, -2.24311423, -0.57652344, -0.02105428,  1.14193824,\n",
              "        -2.71891431,  0.69892156, -2.44498138, -0.77860107, -2.23190932],\n",
              "       [-3.17509111, -2.24311423, -0.57652344, -0.02105428,  1.14193824,\n",
              "        -2.71891431,  0.69892156, -2.44498138, -0.77860107, -2.23190932],\n",
              "       [-3.17509111, -2.24311423, -0.57652344, -0.02105428,  1.14193824,\n",
              "        -2.71891431,  0.69892156, -2.44498138, -0.77860107, -2.23190932],\n",
              "       [-3.17509111, -2.24311423, -0.57652344, -0.02105428,  1.14193824,\n",
              "        -2.71891431,  0.69892156, -2.44498138, -0.77860107, -2.23190932],\n",
              "       [-3.17509111, -2.24311423, -0.57652344, -0.02105428,  1.14193824,\n",
              "        -2.71891431,  0.69892156, -2.44498138, -0.77860107, -2.23190932],\n",
              "       [-3.17509111, -2.24311423, -0.57652344, -0.02105428,  1.14193824,\n",
              "        -2.71891431,  0.69892156, -2.44498138, -0.77860107, -2.23190932],\n",
              "       [-3.17509111, -2.24311423, -0.57652344, -0.02105428,  1.14193824,\n",
              "        -2.71891431,  0.69892156, -2.44498138, -0.77860107, -2.23190932],\n",
              "       [-3.17509111, -2.24311423, -0.57652344, -0.02105428,  1.14193824,\n",
              "        -2.71891431,  0.69892156, -2.44498138, -0.77860107, -2.23190932]]), array([1.1947514 , 1.19722696, 1.19722969, 1.19750325, 1.19756473,\n",
              "       1.19759168, 1.19780018, 1.19790308, 1.1981991 , 1.19821784,\n",
              "       1.1998435 ]))\n",
              "           fun: 1.1947513972050003\n",
              "       message: 'Maximum number of function evaluations has been exceeded.'\n",
              "          nfev: 2000\n",
              "           nit: 710\n",
              "        status: 1\n",
              "       success: False\n",
              "             x: array([-3.17509111, -2.24311423, -0.57652344, -0.02105428,  1.14193824,\n",
              "       -2.71891431,  0.69892156, -2.44498138, -0.77860107, -2.23190932])"
            ]
          },
          "execution_count": 124,
          "metadata": {},
          "output_type": "execute_result"
        }
      ],
      "source": [
        "# Fail, 4 min \n",
        "RxRzCircuit_4_1.optimize_without_constraints(cost_matrix_4, minimize, repetitions = 10**4, method = 'nelder-mead')"
      ]
    },
    {
      "cell_type": "code",
      "execution_count": 125,
      "metadata": {},
      "outputs": [
        {
          "data": {
            "text/plain": [
              "   direc: array([[1., 0., 0., 0., 0., 0., 0., 0., 0., 0.],\n",
              "       [0., 1., 0., 0., 0., 0., 0., 0., 0., 0.],\n",
              "       [0., 0., 1., 0., 0., 0., 0., 0., 0., 0.],\n",
              "       [0., 0., 0., 1., 0., 0., 0., 0., 0., 0.],\n",
              "       [0., 0., 0., 0., 1., 0., 0., 0., 0., 0.],\n",
              "       [0., 0., 0., 0., 0., 1., 0., 0., 0., 0.],\n",
              "       [0., 0., 0., 0., 0., 0., 1., 0., 0., 0.],\n",
              "       [0., 0., 0., 0., 0., 0., 0., 1., 0., 0.],\n",
              "       [0., 0., 0., 0., 0., 0., 0., 0., 1., 0.],\n",
              "       [0., 0., 0., 0., 0., 0., 0., 0., 0., 1.]])\n",
              "     fun: 1.0890949400000003\n",
              " message: 'Optimization terminated successfully.'\n",
              "    nfev: 450\n",
              "     nit: 3\n",
              "  status: 0\n",
              " success: True\n",
              "       x: array([-3.14305514, -0.00755531, -0.00816975, -3.14585825,  3.12706186,\n",
              "       -0.81370899,  4.30484461, -3.36446685,  2.73697235,  6.66645535])"
            ]
          },
          "execution_count": 125,
          "metadata": {},
          "output_type": "execute_result"
        }
      ],
      "source": [
        "# Wrong or approximate answer, 2 min \n",
        "RxRzCircuit_4_1.optimize_without_constraints(cost_matrix_4, minimize, repetitions = 10**4, method = 'powell')"
      ]
    },
    {
      "cell_type": "markdown",
      "metadata": {},
      "source": [
        "## QAOA"
      ]
    },
    {
      "cell_type": "markdown",
      "metadata": {},
      "source": [
        "Пусть в i-том регистре хранится город, в который идет в цепочке после i-того города.\n",
        "Добавим нулевой город, который начинает и заканчивает маршрут."
      ]
    },
    {
      "cell_type": "code",
      "execution_count": null,
      "metadata": {},
      "outputs": [],
      "source": [
        "# np.roll()"
      ]
    },
    {
      "cell_type": "code",
      "execution_count": 23,
      "metadata": {},
      "outputs": [],
      "source": [
        "# def encoding_to_permutation(enc):\n",
        "#     perm = np.ndarray(len(enc) - 1, int)\n",
        "#     perm[0] = enc[0]\n",
        "#     next_town = perm[0]\n",
        "#     for i in range(len(perm) - 1):\n",
        "#         perm[i+1] = enc[perm[i]]\n",
        "#     return perm - 1 # -1 для совместимости с 0-indexed arrays из предыдущего encoding"
      ]
    },
    {
      "cell_type": "code",
      "execution_count": 24,
      "metadata": {},
      "outputs": [
        {
          "data": {
            "text/plain": [
              "array([ 1, -1,  1])"
            ]
          },
          "execution_count": 24,
          "metadata": {},
          "output_type": "execute_result"
        }
      ],
      "source": [
        "# encoding_to_permutation([2,3,0,1])"
      ]
    },
    {
      "cell_type": "code",
      "execution_count": 431,
      "metadata": {},
      "outputs": [],
      "source": [
        "class SwapTwoRegistries(cirq.Gate):\n",
        "    def __init__(self, register_size, exponent):\n",
        "        super(SwapTwoRegistries, self)\n",
        "        self.register_size = register_size\n",
        "        self.exponent = exponent\n",
        "    \n",
        "    def _num_qubits_(self):\n",
        "        return 2 * self.register_size\n",
        "\n",
        "    def _decompose_(self, qubits):\n",
        "        first_register  = qubits[:self.register_size]\n",
        "        second_register = qubits[self.register_size:]\n",
        "        for (q1, q2) in zip(first_register, second_register):\n",
        "            yield cirq.SwapPowGate(exponent = self.exponent)(q1, q2)\n",
        "\n",
        "    def _circuit_diagram_info_(self, args):\n",
        "        return cirq.CircuitDiagramInfo([\"↓\"] * self.register_size + [\"↑\"] * self.register_size, \n",
        "                                    exponent = self.exponent, exponent_qubit_index = 0)\n",
        "    \n",
        "    def _is_parametrized_(self):\n",
        "        return isinstance(self.exponent, sympy.Symbol)\n",
        "\n",
        "    def _resolve_parameters_(self, paramresolver, recursive):\n",
        "        if self._is_parametrized_():\n",
        "            self.exponent = paramresolver.param_dict[self.exponent.name]\n",
        "        return self"
      ]
    },
    {
      "cell_type": "markdown",
      "metadata": {},
      "source": []
    },
    {
      "cell_type": "code",
      "execution_count": null,
      "metadata": {},
      "outputs": [],
      "source": []
    },
    {
      "cell_type": "code",
      "execution_count": 439,
      "metadata": {},
      "outputs": [],
      "source": [
        "class SwapAll(cirq.Gate):\n",
        "    def __init__(self, n_registries, register_size, exponent):\n",
        "        super(SwapAll, self)\n",
        "        self.n_registries = n_registries\n",
        "        self.register_size = register_size\n",
        "        self.exponent = exponent\n",
        "\n",
        "    def _num_qubits_(self):\n",
        "        return self.n_registries * self.register_size\n",
        "\n",
        "    def _decompose_(self, qubits):\n",
        "        for n1 in range(self.n_registries):\n",
        "            for n2 in range(n1 + 1, self.n_registries):\n",
        "                yield SwapTwoRegistries(self.register_size, self.exponent)(\n",
        "                    *qubits[n1 * self.register_size : (n1 + 1) * self.register_size], \n",
        "                    *qubits[n2 * self.register_size : (n2 + 1) * self.register_size]\n",
        "                )\n",
        "\n",
        "    def _circuit_diagram_info_(self, args):\n",
        "        return cirq.CircuitDiagramInfo([\"↑↓\"] * self._num_qubits_(), exponent = self.exponent, exponent_qubit_index = 0)\n",
        "\n",
        "    def _is_parametrized_(self):\n",
        "        return isinstance(self.exponent, sympy.Symbol)\n",
        "\n",
        "    def _resolve_parameters_(self, paramresolver, recursive):\n",
        "        if self._is_parametrized_():\n",
        "            return SwapAll(self.n_registries, self.register_size, paramresolver.param_dict[self.exponent.name])\n",
        "        return self"
      ]
    },
    {
      "cell_type": "code",
      "execution_count": 473,
      "metadata": {},
      "outputs": [],
      "source": [
        "class ExpOf_iFractionOfCost(cirq.Gate):\n",
        "    \"\"\"e^(i t cost[i][j])\"\"\"\n",
        "\n",
        "    def __init__(self, cost_matrix, t):\n",
        "        super(ExpOf_iFractionOfCost, self)\n",
        "        self.t = t\n",
        "        n_towns = len(cost_matrix)\n",
        "        self.log_n_towns = int(np.ceil(np.log2(n_towns)))\n",
        "\n",
        "        self.diagonal_before_exp = np.pad(cost_matrix, \n",
        "                                          ((0, 0), (0, 2**self.log_n_towns - n_towns)),\n",
        "                                          constant_values = 0.0\n",
        "                                     ).flatten()\n",
        "\n",
        "    def _num_qubits_(self):\n",
        "        return 2 * self.log_n_towns\n",
        "\n",
        "    def _unitary_(self):\n",
        "        return np.diag(np.exp(1j * self.t * self.diagonal_before_exp))\n",
        "\n",
        "    def _circuit_diagram_info_(self, args):\n",
        "        return [f\"u({self.t})\"] * self._num_qubits_()\n",
        "\n",
        "    def _resolve_parameters_(self, paramresolver, recursive):\n",
        "        self.t = paramresolver.param_dict[self.t.name]"
      ]
    },
    {
      "cell_type": "code",
      "execution_count": 474,
      "metadata": {},
      "outputs": [],
      "source": [
        "class ExpOf_iCost(cirq.Gate):\n",
        "    def __init__(self, cost_matrix, t):\n",
        "        super(ExpOf_iCost, self)\n",
        "        self.n_towns = len(cost_matrix)\n",
        "        self.log_n_towns = int(np.ceil(np.log2(self.n_towns)))\n",
        "        self.cost_matrix = cost_matrix\n",
        "        self.t = t\n",
        "\n",
        "    def _num_qubits_(self):\n",
        "        return self.n_towns * self.log_n_towns\n",
        "\n",
        "    def _decompose_(self, qubits):\n",
        "        for n in range(self.n_towns - 1):\n",
        "            yield ExpOf_iFractionOfCost(self.cost_matrix, self.t)(\n",
        "                *qubits[n * self.log_n_towns : (n + 2) * self.log_n_towns]\n",
        "            )\n",
        "\n",
        "    def _circuit_diagram_info_(self, args):\n",
        "        return [f\"U({self.t})\"] * self._num_qubits_()\n",
        "\n",
        "    def _resolve_parameters_(self, paramresolver, recursive = True):\n",
        "        self.t = paramresolver.param_dict[self.t.name]\n",
        "        return self"
      ]
    },
    {
      "cell_type": "code",
      "execution_count": 475,
      "metadata": {},
      "outputs": [],
      "source": [
        "class QaoaCircuit(RxCirquit):\n",
        "\n",
        "  def __init__(self, n_towns, depth, cost_matrix):\n",
        "\n",
        "      log_n_towns = int(np.ceil(np.log2(n_towns)))\n",
        "\n",
        "      self.circuit = cirq.Circuit()\n",
        "      self.simulator = cirq.Simulator()\n",
        "\n",
        "      self._town_sequence = np.ndarray(n_towns, int)\n",
        "\n",
        "    # Инициализация единичной перестановкой\n",
        "      for n in range(n_towns):\n",
        "        for (i, bit) in zip(range(log_n_towns), cirq.big_endian_int_to_bits(n, bit_count = log_n_towns)):\n",
        "          if bit:\n",
        "            self.circuit.append(cirq.X(cirq.GridQubit(n, i)))\n",
        "            \n",
        "\n",
        "    # # Перестановка, близкая к полной\n",
        "      self.circuit.append(SwapAll(n_towns, log_n_towns, 1/2)(\n",
        "        *cirq.GridQubit.rect(n_towns, log_n_towns)\n",
        "      ))\n",
        "\n",
        "    # Параметрические гейты\n",
        "      self._mixing_powers = [f'm{i}' for i in range(depth)]\n",
        "      mixing_powers = sympy.symbols(self._mixing_powers)\n",
        "\n",
        "      self._hamilt_powers = [f'h{i}' for i in range(depth)]\n",
        "      hamilt_powers = sympy.symbols(self._hamilt_powers)\n",
        "\n",
        "      for p in range(depth):\n",
        "\n",
        "        self.circuit.append(ExpOf_iCost(cost_matrix, hamilt_powers[p])(\n",
        "          *cirq.GridQubit.rect(n_towns, log_n_towns)\n",
        "        ))\n",
        "\n",
        "        self.circuit.append(SwapAll(n_towns, log_n_towns, mixing_powers[p])(\n",
        "          *cirq.GridQubit.rect(n_towns, log_n_towns)\n",
        "        ))\n",
        "\n",
        "      measurements = cirq.measure_each(*cirq.GridQubit.rect(n_towns, log_n_towns))\n",
        "      self.circuit.append(cirq.Moment(measurements))\n",
        "\n",
        "\n",
        "  def measure(self, angles, repetitions = 1):\n",
        "\n",
        "      params = cirq.ParamResolver({\n",
        "         name: value for (name, value) in\n",
        "         zip(self._hamilt_powers + self._mixing_powers, angles)\n",
        "      })\n",
        "\n",
        "      return self.simulator.run_sweep(self.circuit, params, repetitions)[0]\n",
        "\n",
        "\n",
        "  def cost_of_bits(self, bits, cost_matrix):\n",
        "      \"Вычисляет по последовательности битов перестановку и её стоимость\"\n",
        "      return cost_of_permutation(\n",
        "          cost_matrix,\n",
        "          permutation_from_factoradic(\n",
        "              factoradic_from_perm_number(\n",
        "                  cirq.big_endian_bits_to_int(bits),\n",
        "                  self._town_sequence\n",
        "              )\n",
        "          )\n",
        "      )"
      ]
    },
    {
      "cell_type": "code",
      "execution_count": 476,
      "metadata": {},
      "outputs": [
        {
          "data": {
            "text/plain": [
              "(0, 0): ───────↑↓^0.5───U(h0)───↑↓^m0───M───\n",
              "               │        │       │\n",
              "(0, 1): ───────↑↓───────U(h0)───↑↓──────M───\n",
              "               │        │       │\n",
              "(1, 0): ───────↑↓───────U(h0)───↑↓──────M───\n",
              "               │        │       │\n",
              "(1, 1): ───X───↑↓───────U(h0)───↑↓──────M───\n",
              "               │        │       │\n",
              "(2, 0): ───X───↑↓───────U(h0)───↑↓──────M───\n",
              "               │        │       │\n",
              "(2, 1): ───────↑↓───────U(h0)───↑↓──────M───\n",
              "               │        │       │\n",
              "(3, 0): ───X───↑↓───────U(h0)───↑↓──────M───\n",
              "               │        │       │\n",
              "(3, 1): ───X───↑↓───────U(h0)───↑↓──────M───"
            ]
          },
          "execution_count": 476,
          "metadata": {},
          "output_type": "execute_result"
        }
      ],
      "source": [
        "qaoaCircuit_4_1 = QaoaCircuit(4, 1, cost_matrix_4)\n",
        "qaoaCircuit_4_1"
      ]
    },
    {
      "cell_type": "code",
      "execution_count": 477,
      "metadata": {},
      "outputs": [
        {
          "data": {
            "text/plain": [
              "<bound method AbstractCircuit.all_operations of cirq.Circuit([\n",
              "    cirq.Moment(\n",
              "        cirq.X(cirq.GridQubit(1, 1)),\n",
              "        cirq.X(cirq.GridQubit(2, 0)),\n",
              "        cirq.X(cirq.GridQubit(3, 0)),\n",
              "        cirq.X(cirq.GridQubit(3, 1)),\n",
              "    ),\n",
              "    cirq.Moment(\n",
              "        <__main__.SwapAll object at 0x17e404880>.on(cirq.GridQubit(0, 0), cirq.GridQubit(0, 1), cirq.GridQubit(1, 0), cirq.GridQubit(1, 1), cirq.GridQubit(2, 0), cirq.GridQubit(2, 1), cirq.GridQubit(3, 0), cirq.GridQubit(3, 1)),\n",
              "    ),\n",
              "    cirq.Moment(\n",
              "        <__main__.ExpOf_iCost object at 0x17e41c490>.on(cirq.GridQubit(0, 0), cirq.GridQubit(0, 1), cirq.GridQubit(1, 0), cirq.GridQubit(1, 1), cirq.GridQubit(2, 0), cirq.GridQubit(2, 1), cirq.GridQubit(3, 0), cirq.GridQubit(3, 1)),\n",
              "    ),\n",
              "    cirq.Moment(\n",
              "        <__main__.SwapAll object at 0x17e41ca60>.on(cirq.GridQubit(0, 0), cirq.GridQubit(0, 1), cirq.GridQubit(1, 0), cirq.GridQubit(1, 1), cirq.GridQubit(2, 0), cirq.GridQubit(2, 1), cirq.GridQubit(3, 0), cirq.GridQubit(3, 1)),\n",
              "    ),\n",
              "    cirq.Moment(\n",
              "        cirq.measure(cirq.GridQubit(0, 0)),\n",
              "        cirq.measure(cirq.GridQubit(0, 1)),\n",
              "        cirq.measure(cirq.GridQubit(1, 0)),\n",
              "        cirq.measure(cirq.GridQubit(1, 1)),\n",
              "        cirq.measure(cirq.GridQubit(2, 0)),\n",
              "        cirq.measure(cirq.GridQubit(2, 1)),\n",
              "        cirq.measure(cirq.GridQubit(3, 0)),\n",
              "        cirq.measure(cirq.GridQubit(3, 1)),\n",
              "    ),\n",
              "])>"
            ]
          },
          "execution_count": 477,
          "metadata": {},
          "output_type": "execute_result"
        }
      ],
      "source": [
        "qaoaCircuit_4_1.circuit.all_operations"
      ]
    },
    {
      "cell_type": "code",
      "execution_count": 489,
      "metadata": {},
      "outputs": [
        {
          "ename": "AttributeError",
          "evalue": "'numpy.float64' object has no attribute 'name'",
          "output_type": "error",
          "traceback": [
            "\u001b[0;31m---------------------------------------------------------------------------\u001b[0m",
            "\u001b[0;31mAttributeError\u001b[0m                            Traceback (most recent call last)",
            "\u001b[1;32m/Users/vasiliy/Coding/Diploma/Permutations_2.ipynb Cell 65'\u001b[0m in \u001b[0;36m<cell line: 1>\u001b[0;34m()\u001b[0m\n\u001b[0;32m----> <a href='vscode-notebook-cell:/Users/vasiliy/Coding/Diploma/Permutations_2.ipynb#ch0000072?line=0'>1</a>\u001b[0m qaoaCircuit_4_1\u001b[39m.\u001b[39;49mmeasure(np\u001b[39m.\u001b[39;49mones(\u001b[39m6\u001b[39;49m))\n",
            "\u001b[1;32m/Users/vasiliy/Coding/Diploma/Permutations_2.ipynb Cell 62'\u001b[0m in \u001b[0;36mQaoaCircuit.measure\u001b[0;34m(self, angles, repetitions)\u001b[0m\n\u001b[1;32m     <a href='vscode-notebook-cell:/Users/vasiliy/Coding/Diploma/Permutations_2.ipynb#ch0000055?line=44'>45</a>\u001b[0m \u001b[39mdef\u001b[39;00m \u001b[39mmeasure\u001b[39m(\u001b[39mself\u001b[39m, angles, repetitions \u001b[39m=\u001b[39m \u001b[39m1\u001b[39m):\n\u001b[1;32m     <a href='vscode-notebook-cell:/Users/vasiliy/Coding/Diploma/Permutations_2.ipynb#ch0000055?line=46'>47</a>\u001b[0m     params \u001b[39m=\u001b[39m cirq\u001b[39m.\u001b[39mParamResolver({\n\u001b[1;32m     <a href='vscode-notebook-cell:/Users/vasiliy/Coding/Diploma/Permutations_2.ipynb#ch0000055?line=47'>48</a>\u001b[0m        name: value \u001b[39mfor\u001b[39;00m (name, value) \u001b[39min\u001b[39;00m\n\u001b[1;32m     <a href='vscode-notebook-cell:/Users/vasiliy/Coding/Diploma/Permutations_2.ipynb#ch0000055?line=48'>49</a>\u001b[0m        \u001b[39mzip\u001b[39m(\u001b[39mself\u001b[39m\u001b[39m.\u001b[39m_hamilt_powers \u001b[39m+\u001b[39m \u001b[39mself\u001b[39m\u001b[39m.\u001b[39m_mixing_powers, angles)\n\u001b[1;32m     <a href='vscode-notebook-cell:/Users/vasiliy/Coding/Diploma/Permutations_2.ipynb#ch0000055?line=49'>50</a>\u001b[0m     })\n\u001b[0;32m---> <a href='vscode-notebook-cell:/Users/vasiliy/Coding/Diploma/Permutations_2.ipynb#ch0000055?line=51'>52</a>\u001b[0m     \u001b[39mreturn\u001b[39;00m \u001b[39mself\u001b[39;49m\u001b[39m.\u001b[39;49msimulator\u001b[39m.\u001b[39;49mrun_sweep(\u001b[39mself\u001b[39;49m\u001b[39m.\u001b[39;49mcircuit, params, repetitions)[\u001b[39m0\u001b[39m]\n",
            "File \u001b[0;32m~/Coding/Venvs/cirq/lib/python3.9/site-packages/cirq/sim/simulator.py:77\u001b[0m, in \u001b[0;36mSimulatesSamples.run_sweep\u001b[0;34m(self, program, params, repetitions)\u001b[0m\n\u001b[1;32m     <a href='file:///Users/vasiliy/Coding/Venvs/cirq/lib/python3.9/site-packages/cirq/sim/simulator.py?line=70'>71</a>\u001b[0m \u001b[39mdef\u001b[39;00m \u001b[39mrun_sweep\u001b[39m(\n\u001b[1;32m     <a href='file:///Users/vasiliy/Coding/Venvs/cirq/lib/python3.9/site-packages/cirq/sim/simulator.py?line=71'>72</a>\u001b[0m     \u001b[39mself\u001b[39m,\n\u001b[1;32m     <a href='file:///Users/vasiliy/Coding/Venvs/cirq/lib/python3.9/site-packages/cirq/sim/simulator.py?line=72'>73</a>\u001b[0m     program: \u001b[39m'\u001b[39m\u001b[39mcirq.AbstractCircuit\u001b[39m\u001b[39m'\u001b[39m,\n\u001b[1;32m     <a href='file:///Users/vasiliy/Coding/Venvs/cirq/lib/python3.9/site-packages/cirq/sim/simulator.py?line=73'>74</a>\u001b[0m     params: \u001b[39m'\u001b[39m\u001b[39mcirq.Sweepable\u001b[39m\u001b[39m'\u001b[39m,\n\u001b[1;32m     <a href='file:///Users/vasiliy/Coding/Venvs/cirq/lib/python3.9/site-packages/cirq/sim/simulator.py?line=74'>75</a>\u001b[0m     repetitions: \u001b[39mint\u001b[39m \u001b[39m=\u001b[39m \u001b[39m1\u001b[39m,\n\u001b[1;32m     <a href='file:///Users/vasiliy/Coding/Venvs/cirq/lib/python3.9/site-packages/cirq/sim/simulator.py?line=75'>76</a>\u001b[0m ) \u001b[39m-\u001b[39m\u001b[39m>\u001b[39m Sequence[\u001b[39m'\u001b[39m\u001b[39mcirq.Result\u001b[39m\u001b[39m'\u001b[39m]:\n\u001b[0;32m---> <a href='file:///Users/vasiliy/Coding/Venvs/cirq/lib/python3.9/site-packages/cirq/sim/simulator.py?line=76'>77</a>\u001b[0m     \u001b[39mreturn\u001b[39;00m \u001b[39mlist\u001b[39;49m(\u001b[39mself\u001b[39;49m\u001b[39m.\u001b[39;49mrun_sweep_iter(program, params, repetitions))\n",
            "File \u001b[0;32m~/Coding/Venvs/cirq/lib/python3.9/site-packages/cirq/sim/simulator.py:111\u001b[0m, in \u001b[0;36mSimulatesSamples.run_sweep_iter\u001b[0;34m(self, program, params, repetitions)\u001b[0m\n\u001b[1;32m    <a href='file:///Users/vasiliy/Coding/Venvs/cirq/lib/python3.9/site-packages/cirq/sim/simulator.py?line=108'>109</a>\u001b[0m         records[protocols\u001b[39m.\u001b[39mmeasurement_key_name(op)] \u001b[39m=\u001b[39m np\u001b[39m.\u001b[39mempty([\u001b[39m0\u001b[39m, \u001b[39m1\u001b[39m, \u001b[39m1\u001b[39m])\n\u001b[1;32m    <a href='file:///Users/vasiliy/Coding/Venvs/cirq/lib/python3.9/site-packages/cirq/sim/simulator.py?line=109'>110</a>\u001b[0m \u001b[39melse\u001b[39;00m:\n\u001b[0;32m--> <a href='file:///Users/vasiliy/Coding/Venvs/cirq/lib/python3.9/site-packages/cirq/sim/simulator.py?line=110'>111</a>\u001b[0m     records \u001b[39m=\u001b[39m \u001b[39mself\u001b[39;49m\u001b[39m.\u001b[39;49m_run(\n\u001b[1;32m    <a href='file:///Users/vasiliy/Coding/Venvs/cirq/lib/python3.9/site-packages/cirq/sim/simulator.py?line=111'>112</a>\u001b[0m         circuit\u001b[39m=\u001b[39;49mprogram, param_resolver\u001b[39m=\u001b[39;49mparam_resolver, repetitions\u001b[39m=\u001b[39;49mrepetitions\n\u001b[1;32m    <a href='file:///Users/vasiliy/Coding/Venvs/cirq/lib/python3.9/site-packages/cirq/sim/simulator.py?line=112'>113</a>\u001b[0m     )\n\u001b[1;32m    <a href='file:///Users/vasiliy/Coding/Venvs/cirq/lib/python3.9/site-packages/cirq/sim/simulator.py?line=113'>114</a>\u001b[0m     flat_records \u001b[39m=\u001b[39m \u001b[39mFalse\u001b[39;00m\n\u001b[1;32m    <a href='file:///Users/vasiliy/Coding/Venvs/cirq/lib/python3.9/site-packages/cirq/sim/simulator.py?line=114'>115</a>\u001b[0m     \u001b[39mfor\u001b[39;00m k, v \u001b[39min\u001b[39;00m records\u001b[39m.\u001b[39mitems():\n",
            "File \u001b[0;32m~/Coding/Venvs/cirq/lib/python3.9/site-packages/cirq/sim/simulator_base.py:247\u001b[0m, in \u001b[0;36mSimulatorBase._run\u001b[0;34m(self, circuit, param_resolver, repetitions)\u001b[0m\n\u001b[1;32m    <a href='file:///Users/vasiliy/Coding/Venvs/cirq/lib/python3.9/site-packages/cirq/sim/simulator_base.py?line=243'>244</a>\u001b[0m     \u001b[39mraise\u001b[39;00m \u001b[39mValueError\u001b[39;00m(\u001b[39m\"\u001b[39m\u001b[39mrun() is not supported when ignore_measurement_results = True\u001b[39m\u001b[39m\"\u001b[39m)\n\u001b[1;32m    <a href='file:///Users/vasiliy/Coding/Venvs/cirq/lib/python3.9/site-packages/cirq/sim/simulator_base.py?line=245'>246</a>\u001b[0m param_resolver \u001b[39m=\u001b[39m param_resolver \u001b[39mor\u001b[39;00m study\u001b[39m.\u001b[39mParamResolver({})\n\u001b[0;32m--> <a href='file:///Users/vasiliy/Coding/Venvs/cirq/lib/python3.9/site-packages/cirq/sim/simulator_base.py?line=246'>247</a>\u001b[0m resolved_circuit \u001b[39m=\u001b[39m protocols\u001b[39m.\u001b[39;49mresolve_parameters(circuit, param_resolver)\n\u001b[1;32m    <a href='file:///Users/vasiliy/Coding/Venvs/cirq/lib/python3.9/site-packages/cirq/sim/simulator_base.py?line=247'>248</a>\u001b[0m check_all_resolved(resolved_circuit)\n\u001b[1;32m    <a href='file:///Users/vasiliy/Coding/Venvs/cirq/lib/python3.9/site-packages/cirq/sim/simulator_base.py?line=248'>249</a>\u001b[0m qubits \u001b[39m=\u001b[39m \u001b[39mtuple\u001b[39m(\u001b[39msorted\u001b[39m(resolved_circuit\u001b[39m.\u001b[39mall_qubits()))\n",
            "File \u001b[0;32m~/Coding/Venvs/cirq/lib/python3.9/site-packages/cirq/protocols/resolve_parameters.py:184\u001b[0m, in \u001b[0;36mresolve_parameters\u001b[0;34m(val, param_resolver, recursive)\u001b[0m\n\u001b[1;32m    <a href='file:///Users/vasiliy/Coding/Venvs/cirq/lib/python3.9/site-packages/cirq/protocols/resolve_parameters.py?line=181'>182</a>\u001b[0m     result \u001b[39m=\u001b[39m \u001b[39mNotImplemented\u001b[39m\n\u001b[1;32m    <a href='file:///Users/vasiliy/Coding/Venvs/cirq/lib/python3.9/site-packages/cirq/protocols/resolve_parameters.py?line=182'>183</a>\u001b[0m \u001b[39melse\u001b[39;00m:\n\u001b[0;32m--> <a href='file:///Users/vasiliy/Coding/Venvs/cirq/lib/python3.9/site-packages/cirq/protocols/resolve_parameters.py?line=183'>184</a>\u001b[0m     result \u001b[39m=\u001b[39m getter(param_resolver, recursive)\n\u001b[1;32m    <a href='file:///Users/vasiliy/Coding/Venvs/cirq/lib/python3.9/site-packages/cirq/protocols/resolve_parameters.py?line=185'>186</a>\u001b[0m \u001b[39mif\u001b[39;00m result \u001b[39mis\u001b[39;00m \u001b[39mnot\u001b[39;00m \u001b[39mNotImplemented\u001b[39m:\n\u001b[1;32m    <a href='file:///Users/vasiliy/Coding/Venvs/cirq/lib/python3.9/site-packages/cirq/protocols/resolve_parameters.py?line=186'>187</a>\u001b[0m     \u001b[39mreturn\u001b[39;00m result\n",
            "File \u001b[0;32m~/Coding/Venvs/cirq/lib/python3.9/site-packages/cirq/circuits/circuit.py:2422\u001b[0m, in \u001b[0;36mCircuit._resolve_parameters_\u001b[0;34m(self, resolver, recursive)\u001b[0m\n\u001b[1;32m   <a href='file:///Users/vasiliy/Coding/Venvs/cirq/lib/python3.9/site-packages/cirq/circuits/circuit.py?line=2419'>2420</a>\u001b[0m resolved_moments \u001b[39m=\u001b[39m []\n\u001b[1;32m   <a href='file:///Users/vasiliy/Coding/Venvs/cirq/lib/python3.9/site-packages/cirq/circuits/circuit.py?line=2420'>2421</a>\u001b[0m \u001b[39mfor\u001b[39;00m moment \u001b[39min\u001b[39;00m \u001b[39mself\u001b[39m:\n\u001b[0;32m-> <a href='file:///Users/vasiliy/Coding/Venvs/cirq/lib/python3.9/site-packages/cirq/circuits/circuit.py?line=2421'>2422</a>\u001b[0m     resolved_operations \u001b[39m=\u001b[39m _resolve_operations(moment\u001b[39m.\u001b[39;49moperations, resolver, recursive)\n\u001b[1;32m   <a href='file:///Users/vasiliy/Coding/Venvs/cirq/lib/python3.9/site-packages/cirq/circuits/circuit.py?line=2422'>2423</a>\u001b[0m     new_moment \u001b[39m=\u001b[39m Moment(resolved_operations)\n\u001b[1;32m   <a href='file:///Users/vasiliy/Coding/Venvs/cirq/lib/python3.9/site-packages/cirq/circuits/circuit.py?line=2423'>2424</a>\u001b[0m     resolved_moments\u001b[39m.\u001b[39mappend(new_moment)\n",
            "File \u001b[0;32m~/Coding/Venvs/cirq/lib/python3.9/site-packages/cirq/circuits/circuit.py:2490\u001b[0m, in \u001b[0;36m_resolve_operations\u001b[0;34m(operations, param_resolver, recursive)\u001b[0m\n\u001b[1;32m   <a href='file:///Users/vasiliy/Coding/Venvs/cirq/lib/python3.9/site-packages/cirq/circuits/circuit.py?line=2487'>2488</a>\u001b[0m resolved_operations: List[\u001b[39m'\u001b[39m\u001b[39mcirq.Operation\u001b[39m\u001b[39m'\u001b[39m] \u001b[39m=\u001b[39m []\n\u001b[1;32m   <a href='file:///Users/vasiliy/Coding/Venvs/cirq/lib/python3.9/site-packages/cirq/circuits/circuit.py?line=2488'>2489</a>\u001b[0m \u001b[39mfor\u001b[39;00m op \u001b[39min\u001b[39;00m operations:\n\u001b[0;32m-> <a href='file:///Users/vasiliy/Coding/Venvs/cirq/lib/python3.9/site-packages/cirq/circuits/circuit.py?line=2489'>2490</a>\u001b[0m     resolved_operations\u001b[39m.\u001b[39mappend(protocols\u001b[39m.\u001b[39;49mresolve_parameters(op, param_resolver, recursive))\n\u001b[1;32m   <a href='file:///Users/vasiliy/Coding/Venvs/cirq/lib/python3.9/site-packages/cirq/circuits/circuit.py?line=2490'>2491</a>\u001b[0m \u001b[39mreturn\u001b[39;00m resolved_operations\n",
            "File \u001b[0;32m~/Coding/Venvs/cirq/lib/python3.9/site-packages/cirq/protocols/resolve_parameters.py:184\u001b[0m, in \u001b[0;36mresolve_parameters\u001b[0;34m(val, param_resolver, recursive)\u001b[0m\n\u001b[1;32m    <a href='file:///Users/vasiliy/Coding/Venvs/cirq/lib/python3.9/site-packages/cirq/protocols/resolve_parameters.py?line=181'>182</a>\u001b[0m     result \u001b[39m=\u001b[39m \u001b[39mNotImplemented\u001b[39m\n\u001b[1;32m    <a href='file:///Users/vasiliy/Coding/Venvs/cirq/lib/python3.9/site-packages/cirq/protocols/resolve_parameters.py?line=182'>183</a>\u001b[0m \u001b[39melse\u001b[39;00m:\n\u001b[0;32m--> <a href='file:///Users/vasiliy/Coding/Venvs/cirq/lib/python3.9/site-packages/cirq/protocols/resolve_parameters.py?line=183'>184</a>\u001b[0m     result \u001b[39m=\u001b[39m getter(param_resolver, recursive)\n\u001b[1;32m    <a href='file:///Users/vasiliy/Coding/Venvs/cirq/lib/python3.9/site-packages/cirq/protocols/resolve_parameters.py?line=185'>186</a>\u001b[0m \u001b[39mif\u001b[39;00m result \u001b[39mis\u001b[39;00m \u001b[39mnot\u001b[39;00m \u001b[39mNotImplemented\u001b[39m:\n\u001b[1;32m    <a href='file:///Users/vasiliy/Coding/Venvs/cirq/lib/python3.9/site-packages/cirq/protocols/resolve_parameters.py?line=186'>187</a>\u001b[0m     \u001b[39mreturn\u001b[39;00m result\n",
            "File \u001b[0;32m~/Coding/Venvs/cirq/lib/python3.9/site-packages/cirq/ops/gate_operation.py:286\u001b[0m, in \u001b[0;36mGateOperation._resolve_parameters_\u001b[0;34m(self, resolver, recursive)\u001b[0m\n\u001b[1;32m    <a href='file:///Users/vasiliy/Coding/Venvs/cirq/lib/python3.9/site-packages/cirq/ops/gate_operation.py?line=282'>283</a>\u001b[0m \u001b[39mdef\u001b[39;00m \u001b[39m_resolve_parameters_\u001b[39m(\n\u001b[1;32m    <a href='file:///Users/vasiliy/Coding/Venvs/cirq/lib/python3.9/site-packages/cirq/ops/gate_operation.py?line=283'>284</a>\u001b[0m     \u001b[39mself\u001b[39m, resolver: \u001b[39m'\u001b[39m\u001b[39mcirq.ParamResolver\u001b[39m\u001b[39m'\u001b[39m, recursive: \u001b[39mbool\u001b[39m\n\u001b[1;32m    <a href='file:///Users/vasiliy/Coding/Venvs/cirq/lib/python3.9/site-packages/cirq/ops/gate_operation.py?line=284'>285</a>\u001b[0m ) \u001b[39m-\u001b[39m\u001b[39m>\u001b[39m \u001b[39m'\u001b[39m\u001b[39mcirq.Operation\u001b[39m\u001b[39m'\u001b[39m:\n\u001b[0;32m--> <a href='file:///Users/vasiliy/Coding/Venvs/cirq/lib/python3.9/site-packages/cirq/ops/gate_operation.py?line=285'>286</a>\u001b[0m     resolved_gate \u001b[39m=\u001b[39m protocols\u001b[39m.\u001b[39;49mresolve_parameters(\u001b[39mself\u001b[39;49m\u001b[39m.\u001b[39;49mgate, resolver, recursive)\n\u001b[1;32m    <a href='file:///Users/vasiliy/Coding/Venvs/cirq/lib/python3.9/site-packages/cirq/ops/gate_operation.py?line=286'>287</a>\u001b[0m     \u001b[39mreturn\u001b[39;00m \u001b[39mself\u001b[39m\u001b[39m.\u001b[39mwith_gate(resolved_gate)\n",
            "File \u001b[0;32m~/Coding/Venvs/cirq/lib/python3.9/site-packages/cirq/protocols/resolve_parameters.py:184\u001b[0m, in \u001b[0;36mresolve_parameters\u001b[0;34m(val, param_resolver, recursive)\u001b[0m\n\u001b[1;32m    <a href='file:///Users/vasiliy/Coding/Venvs/cirq/lib/python3.9/site-packages/cirq/protocols/resolve_parameters.py?line=181'>182</a>\u001b[0m     result \u001b[39m=\u001b[39m \u001b[39mNotImplemented\u001b[39m\n\u001b[1;32m    <a href='file:///Users/vasiliy/Coding/Venvs/cirq/lib/python3.9/site-packages/cirq/protocols/resolve_parameters.py?line=182'>183</a>\u001b[0m \u001b[39melse\u001b[39;00m:\n\u001b[0;32m--> <a href='file:///Users/vasiliy/Coding/Venvs/cirq/lib/python3.9/site-packages/cirq/protocols/resolve_parameters.py?line=183'>184</a>\u001b[0m     result \u001b[39m=\u001b[39m getter(param_resolver, recursive)\n\u001b[1;32m    <a href='file:///Users/vasiliy/Coding/Venvs/cirq/lib/python3.9/site-packages/cirq/protocols/resolve_parameters.py?line=185'>186</a>\u001b[0m \u001b[39mif\u001b[39;00m result \u001b[39mis\u001b[39;00m \u001b[39mnot\u001b[39;00m \u001b[39mNotImplemented\u001b[39m:\n\u001b[1;32m    <a href='file:///Users/vasiliy/Coding/Venvs/cirq/lib/python3.9/site-packages/cirq/protocols/resolve_parameters.py?line=186'>187</a>\u001b[0m     \u001b[39mreturn\u001b[39;00m result\n",
            "\u001b[1;32m/Users/vasiliy/Coding/Diploma/Permutations_2.ipynb Cell 61'\u001b[0m in \u001b[0;36mExpOf_iCost._resolve_parameters_\u001b[0;34m(self, paramresolver, recursive)\u001b[0m\n\u001b[1;32m     <a href='vscode-notebook-cell:/Users/vasiliy/Coding/Diploma/Permutations_2.ipynb#ch0000077?line=20'>21</a>\u001b[0m \u001b[39mdef\u001b[39;00m \u001b[39m_resolve_parameters_\u001b[39m(\u001b[39mself\u001b[39m, paramresolver, recursive \u001b[39m=\u001b[39m \u001b[39mTrue\u001b[39;00m):\n\u001b[0;32m---> <a href='vscode-notebook-cell:/Users/vasiliy/Coding/Diploma/Permutations_2.ipynb#ch0000077?line=21'>22</a>\u001b[0m     \u001b[39mself\u001b[39m\u001b[39m.\u001b[39mt \u001b[39m=\u001b[39m paramresolver\u001b[39m.\u001b[39mparam_dict[\u001b[39mself\u001b[39;49m\u001b[39m.\u001b[39;49mt\u001b[39m.\u001b[39;49mname]\n\u001b[1;32m     <a href='vscode-notebook-cell:/Users/vasiliy/Coding/Diploma/Permutations_2.ipynb#ch0000077?line=22'>23</a>\u001b[0m     \u001b[39mreturn\u001b[39;00m \u001b[39mself\u001b[39m\n",
            "\u001b[0;31mAttributeError\u001b[0m: 'numpy.float64' object has no attribute 'name'"
          ]
        }
      ],
      "source": [
        "qaoaCircuit_4_1.measure(np.ones(6))"
      ]
    },
    {
      "cell_type": "code",
      "execution_count": 479,
      "metadata": {},
      "outputs": [
        {
          "ename": "AttributeError",
          "evalue": "'QaoaCircuit' object has no attribute 'cirq'",
          "output_type": "error",
          "traceback": [
            "\u001b[0;31m---------------------------------------------------------------------------\u001b[0m",
            "\u001b[0;31mAttributeError\u001b[0m                            Traceback (most recent call last)",
            "\u001b[1;32m/Users/vasiliy/Coding/Diploma/Permutations_2.ipynb Cell 66'\u001b[0m in \u001b[0;36m<cell line: 1>\u001b[0;34m()\u001b[0m\n\u001b[0;32m----> <a href='vscode-notebook-cell:/Users/vasiliy/Coding/Diploma/Permutations_2.ipynb#ch0000080?line=0'>1</a>\u001b[0m qaoaCircuit_4_1\u001b[39m.\u001b[39;49m cirq\u001b[39m.\u001b[39mParamResolver({sympy\u001b[39m.\u001b[39msymbols(\u001b[39m\"\u001b[39m\u001b[39mm0\u001b[39m\u001b[39m\"\u001b[39m) : \u001b[39m1\u001b[39m, sympy\u001b[39m.\u001b[39msymbols(\u001b[39m\"\u001b[39m\u001b[39mh0\u001b[39m\u001b[39m\"\u001b[39m) : \u001b[39m1\u001b[39m})\n",
            "\u001b[0;31mAttributeError\u001b[0m: 'QaoaCircuit' object has no attribute 'cirq'"
          ]
        }
      ],
      "source": [
        "qaoaCircuit_4_1. cirq.ParamResolver({sympy.symbols(\"m0\") : 1, sympy.symbols(\"h0\") : 1})"
      ]
    },
    {
      "cell_type": "code",
      "execution_count": 480,
      "metadata": {},
      "outputs": [
        {
          "data": {
            "text/plain": [
              "                ┌──┐   ┌──┐             ┌──┐   ┌──┐\n",
              "0: ──────────────@───────────────────────@──────X─────qft[norev]───Z^0.75───qft[norev]^-1───@───@───@───@───@───────\n",
              "                 │                       │            │                     │               │   │   │   │   │\n",
              "1: ───Rx(a_0)────┼@───────────Rx(a_5)────┼@───────────#2───────────S^-1─────#2──────────────X───┼───┼───┼───┼───M───\n",
              "                 ││                      ││           │                     │                   │   │   │   │\n",
              "2: ───Rx(a_1)────X┼─────@─────Rx(a_6)────X┼─────@─────#3───────────Z────────#3──────────────────X───┼───┼───┼───M───\n",
              "                  │     │                 │     │     │                     │                       │   │   │\n",
              "3: ───Rx(a_2)─────X─────┼@────Rx(a_7)─────X─────┼@────#4───────────Z^0──────#4──────────────────────X───┼───┼───M───\n",
              "                        ││                      ││    │                     │                           │   │\n",
              "4: ───Rx(a_3)───────────X┼────Rx(a_8)───────────X┼────#5───────────Z^0──────#5──────────────────────────X───┼───M───\n",
              "                         │                       │    │                     │                               │\n",
              "5: ───Rx(a_4)────────────X────Rx(a_9)────────────X────#6───────────Z^0──────#6──────────────────────────────X───M───\n",
              "                └──┘   └──┘             └──┘   └──┘"
            ]
          },
          "execution_count": 480,
          "metadata": {},
          "output_type": "execute_result"
        }
      ],
      "source": [
        "cirq.resolve_parameters(RxCircuit_4_2, cirq.ParamResolver({sympy.symbols(f\"a_{i}\") : 1 for i in range(10)}))"
      ]
    },
    {
      "cell_type": "code",
      "execution_count": 481,
      "metadata": {},
      "outputs": [],
      "source": [
        "\"\"\"Define a custom gate with a parameter.\"\"\"\n",
        "class RotationGate(cirq.Gate):\n",
        "    def __init__(self, theta):\n",
        "        super(RotationGate, self)\n",
        "        self.theta = theta\n",
        "\n",
        "    def _num_qubits_(self):\n",
        "        return 1\n",
        "\n",
        "    def _unitary_(self):\n",
        "        return np.array([\n",
        "            [np.cos(self.theta), np.sin(self.theta)],\n",
        "            [np.sin(self.theta), -np.cos(self.theta)]\n",
        "        ]) / np.sqrt(2)\n",
        "\n",
        "    def _circuit_diagram_info_(self, args):\n",
        "        return f\"R({self.theta})\"\n",
        "\n",
        "    # def _parameter_names_(self):\n",
        "    #     if isinstance(self.theta, sympy.Symbol):\n",
        "    #         return self.theta.name\n",
        "    #     else:\n",
        "    #         return NotImplemented\n",
        "    \n",
        "    # def _is_parametrized_(self, args):\n",
        "    #     return isinstance(self.theta, sympy.Symbol)\n",
        "\n",
        "    def _resolve_parameters_(self, paramresolver : cirq.ParamResolver, recursive):\n",
        "        self.theta = paramresolver.param_dict[self.theta.name]\n",
        "        return self"
      ]
    },
    {
      "cell_type": "code",
      "execution_count": 482,
      "metadata": {},
      "outputs": [
        {
          "data": {
            "text/html": [
              "<pre style=\"overflow: auto; white-space: pre;\">0: ───R(theta2)───M───</pre>"
            ],
            "text/plain": [
              "0: ───R(theta2)───M───"
            ]
          },
          "execution_count": 482,
          "metadata": {},
          "output_type": "execute_result"
        }
      ],
      "source": [
        "\"\"\"Use the custom gate in a circuit.\"\"\"\n",
        "circ = cirq.Circuit(\n",
        "    RotationGate(sympy.symbols(\"theta2\"))(cirq.LineQubit(0)),\n",
        "    #cirq.Rx(rads = sympy.symbols(\"theta\"))(cirq.LineQubit(0)),\n",
        "    cirq.measure(cirq.LineQubit(0))\n",
        ")\n",
        "\n",
        "circ"
      ]
    },
    {
      "cell_type": "code",
      "execution_count": 483,
      "metadata": {},
      "outputs": [
        {
          "data": {
            "text/plain": [
              "[0=0000000000000000000000000000000000000000000000000000000000000000000000000000000000000000000000000000]"
            ]
          },
          "execution_count": 483,
          "metadata": {},
          "output_type": "execute_result"
        }
      ],
      "source": [
        "cirq.Simulator().run_sweep(circ, cirq.ParamResolver({\"theta2\": np.pi}), repetitions=100)"
      ]
    },
    {
      "cell_type": "code",
      "execution_count": 484,
      "metadata": {},
      "outputs": [
        {
          "data": {
            "text/html": [
              "<pre style=\"overflow: auto; white-space: pre;\">(0, 0): ───u(0.5)───M───\n",
              "           │\n",
              "(0, 1): ───u(0.5)───M───\n",
              "           │\n",
              "(1, 0): ───u(0.5)───M───\n",
              "           │\n",
              "(1, 1): ───u(0.5)───M───\n",
              "\n",
              "(2, 0): ───M────────────\n",
              "\n",
              "(2, 1): ───M────────────\n",
              "\n",
              "(3, 0): ───M────────────\n",
              "\n",
              "(3, 1): ───M────────────</pre>"
            ],
            "text/plain": [
              "(0, 0): ───u(0.5)───M───\n",
              "           │\n",
              "(0, 1): ───u(0.5)───M───\n",
              "           │\n",
              "(1, 0): ───u(0.5)───M───\n",
              "           │\n",
              "(1, 1): ───u(0.5)───M───\n",
              "\n",
              "(2, 0): ───M────────────\n",
              "\n",
              "(2, 1): ───M────────────\n",
              "\n",
              "(3, 0): ───M────────────\n",
              "\n",
              "(3, 1): ───M────────────"
            ]
          },
          "execution_count": 484,
          "metadata": {},
          "output_type": "execute_result"
        }
      ],
      "source": [
        "ci = cirq.Circuit(\n",
        "    ExpOf_iFractionOfCost(cost_matrix_4, 0.5)(*cirq.GridQubit.rect(2, 2)),\n",
        "    cirq.measure_each(*cirq.GridQubit.rect(4, 2))\n",
        "    )\n",
        "ci"
      ]
    },
    {
      "cell_type": "code",
      "execution_count": 488,
      "metadata": {},
      "outputs": [
        {
          "data": {
            "text/plain": [
              "(0, 0)=0\n",
              "(0, 1)=0\n",
              "(1, 0)=0\n",
              "(1, 1)=0\n",
              "(2, 0)=0\n",
              "(2, 1)=0\n",
              "(3, 0)=0\n",
              "(3, 1)=0"
            ]
          },
          "execution_count": 488,
          "metadata": {},
          "output_type": "execute_result"
        }
      ],
      "source": [
        "cirq.Simulator().run(ci)"
      ]
    },
    {
      "cell_type": "code",
      "execution_count": 486,
      "metadata": {},
      "outputs": [
        {
          "data": {
            "text/plain": [
              "8"
            ]
          },
          "execution_count": 486,
          "metadata": {},
          "output_type": "execute_result"
        }
      ],
      "source": [
        "len((2,2,2,2,2,2,2,2))"
      ]
    },
    {
      "cell_type": "code",
      "execution_count": 459,
      "metadata": {},
      "outputs": [
        {
          "data": {
            "text/plain": [
              "(16,)"
            ]
          },
          "execution_count": 459,
          "metadata": {},
          "output_type": "execute_result"
        }
      ],
      "source": [
        "ExpOf_iFractionOfCost(cost_matrix_4, 1)._unitary_().shape"
      ]
    },
    {
      "cell_type": "code",
      "execution_count": null,
      "metadata": {},
      "outputs": [],
      "source": []
    }
  ],
  "metadata": {
    "colab": {
      "collapsed_sections": [],
      "name": "Permutations-2",
      "provenance": []
    },
    "interpreter": {
      "hash": "df30e6bf5278a3537b48532e9b63bb2fb24294ca702fa1e8a294431e0b0acc2b"
    },
    "kernelspec": {
      "display_name": "Julia 1.7.2",
      "language": "python",
      "name": "python3"
    },
    "language_info": {
      "codemirror_mode": {
        "name": "ipython",
        "version": 3
      },
      "file_extension": ".py",
      "mimetype": "text/x-python",
      "name": "python",
      "nbconvert_exporter": "python",
      "pygments_lexer": "ipython3",
      "version": "3.9.12"
    }
  },
  "nbformat": 4,
  "nbformat_minor": 0
}
