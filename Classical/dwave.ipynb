{
 "cells": [
  {
   "cell_type": "code",
   "execution_count": 1,
   "metadata": {},
   "outputs": [],
   "source": [
    "import numpy as np\n",
    "import networkx as nx\n",
    "import dimod\n",
    "import dwave_networkx as dnx\n",
    "import pandas as pd\n",
    "import seaborn as sns\n",
    "from matplotlib import pyplot as plt"
   ]
  },
  {
   "cell_type": "markdown",
   "metadata": {},
   "source": [
    "### Cost Matrices"
   ]
  },
  {
   "cell_type": "code",
   "execution_count": 2,
   "metadata": {},
   "outputs": [],
   "source": [
    "def create_cost_matrix(n_towns):\n",
    "   \"\"\"Рандомная матрица с положительными элементами, \n",
    "   которая хранит длины рёбер между каждой парой городов\"\"\"\n",
    "\n",
    "   A = np.random.random((n_towns, n_towns))\n",
    "   \n",
    "   for i in range(n_towns):\n",
    "     A[i][i] = np.nan\n",
    "\n",
    "   return A"
   ]
  },
  {
   "cell_type": "code",
   "execution_count": 3,
   "metadata": {},
   "outputs": [],
   "source": [
    "def cost_of_permutation(cost_matrix, town_sequence):\n",
    "  cost = 0.0\n",
    "\n",
    "  for i in range(len(town_sequence)-1):\n",
    "    cost += cost_matrix [town_sequence[i]] [town_sequence[i+1]]\n",
    "  \n",
    "  return cost"
   ]
  },
  {
   "cell_type": "code",
   "execution_count": 4,
   "metadata": {},
   "outputs": [],
   "source": [
    "cost_matrix_4 = np.array([[np.nan    , 0.35271991, 0.96262685, 0.11727604],\n",
    "                          [0.13505078, np.nan    , 0.63915344, 0.43149425],\n",
    "                          [0.58432224, 0.83676812, np.nan    , 0.4879146 ],\n",
    "                          [0.14998587, 0.45394107, 0.2140258 , np.nan    ]])"
   ]
  },
  {
   "cell_type": "code",
   "execution_count": 5,
   "metadata": {},
   "outputs": [],
   "source": [
    "cost_matrix_4_2 = np.array([[    np.nan, 0.81622592, 0.20408823, 0.09008185],\n",
    "                            [0.76482761,     np.nan, 0.14736744, 0.3630235 ],\n",
    "                            [0.61341101, 0.77179601,     np.nan, 0.95344378],\n",
    "                            [0.55374766, 0.6944981 , 0.16269875,     np.nan]])"
   ]
  },
  {
   "cell_type": "code",
   "execution_count": 6,
   "metadata": {},
   "outputs": [],
   "source": [
    "cost_matrix_5 = np.array([[    np.nan, 0.76227914, 0.2634839 , 0.20971233, 0.42631259],\n",
    "                          [0.44639413,     np.nan, 0.55598626, 0.92765347, 0.31959185],\n",
    "                          [0.79979159, 0.73929719,     np.nan, 0.92673736, 0.14842685],\n",
    "                          [0.43804313, 0.20916616, 0.2693464 ,     np.nan, 0.91146279],\n",
    "                          [0.06022013, 0.70339376, 0.51852765, 0.77323457,     np.nan]])"
   ]
  },
  {
   "cell_type": "code",
   "execution_count": 7,
   "metadata": {},
   "outputs": [],
   "source": [
    "cost_matrix_6 = \\\n",
    "np.array([[    np.nan, 0.00165482, 0.72520661, 0.4163876 , 0.03288493, 0.54206491],\n",
    "          [0.74621655,     np.nan, 0.37808992, 0.95303594, 0.17005047, 0.61706156],\n",
    "          [0.01730168, 0.42465019,     np.nan, 0.34035056, 0.9397413 , 0.06493504],\n",
    "          [0.2761505 , 0.66518233, 0.42480788,     np.nan, 0.11856712, 0.34309329],\n",
    "          [0.82796128, 0.86227791, 0.29369849, 0.0604712 ,     np.nan, 0.54814749],\n",
    "          [0.56525883, 0.63791584, 0.29638851, 0.85863453, 0.75516877,     np.nan]])"
   ]
  },
  {
   "cell_type": "code",
   "execution_count": 8,
   "metadata": {},
   "outputs": [],
   "source": [
    "cost_matrix_7 = np.array([\n",
    "       [        np.nan, 7.79483870e-01, 2.46516516e-01, 4.14276710e-01,\n",
    "        8.89571789e-01, 7.57889375e-01, 7.95729409e-01],\n",
    "       [3.49235590e-02,         np.nan, 9.20405902e-01, 8.17663877e-01,\n",
    "        8.03191682e-01, 5.47471940e-01, 6.82288641e-01],\n",
    "       [1.55196154e-01, 7.01254285e-01,         np.nan, 3.41477772e-01,\n",
    "        8.49076627e-01, 8.99204839e-01, 2.16138721e-01],\n",
    "       [2.71884960e-02, 1.77042183e-01, 8.22268694e-02,         np.nan,\n",
    "        2.71236904e-01, 7.49329588e-01, 5.80932252e-01],\n",
    "       [6.52178051e-01, 3.04637898e-04, 7.40780993e-01, 5.46777448e-01,\n",
    "                np.nan, 3.05782054e-01, 3.73227063e-01],\n",
    "       [9.43146606e-01, 7.28633819e-01, 2.59561490e-01, 6.52658317e-01,\n",
    "        4.36989411e-01,         np.nan, 7.15042723e-01],\n",
    "       [6.49969984e-01, 2.00003228e-01, 7.31186114e-01, 8.09980875e-01,\n",
    "        8.76425288e-01, 2.36328971e-01,         np.nan]])"
   ]
  },
  {
   "cell_type": "code",
   "execution_count": 9,
   "metadata": {},
   "outputs": [],
   "source": [
    "cost_matrix_8 = np.array([\n",
    "    [    np.nan, 0.83911204, 0.7035106 , 0.39668363, 0.46117354, 0.19510413, 0.48658963, 0.46131103],\n",
    "    [0.5870892 ,     np.nan, 0.54862795, 0.74507107, 0.49289714, 0.47200892, 0.57741251, 0.62507757],\n",
    "    [0.46634288, 0.91587751,     np.nan, 0.35612168, 0.42860855, 0.12815892, 0.89677141, 0.85594071],\n",
    "    [0.53797555, 0.4979348 , 0.97516805,     np.nan, 0.01425964, 0.21532494, 0.3322861 , 0.0289443 ],\n",
    "    [0.22634373, 0.62941811, 0.33450535, 0.86398671,     np.nan, 0.50767408, 0.72648152, 0.99268613],\n",
    "    [0.41810008, 0.98537316, 0.81336165, 0.06436564, 0.58484745,     np.nan, 0.12191475, 0.81467971],\n",
    "    [0.94842273, 0.44981522, 0.93452495, 0.89825261, 0.36265244, 0.36477084,     np.nan, 0.26013962],\n",
    "    [0.01901475, 0.50642185, 0.91862145, 0.26389184, 0.29948766, 0.01025452, 0.32753958,     np.nan]])"
   ]
  },
  {
   "cell_type": "code",
   "execution_count": 10,
   "metadata": {},
   "outputs": [],
   "source": [
    "cost_matrix_8_2 = np.array([\n",
    "       [    np.nan, 0.64872847, 0.88020467, 0.78913892, 0.46785642, 0.69541255, 0.23191492, 0.85322733],\n",
    "       [0.46917114,     np.nan, 0.42555454, 0.52606282, 0.19376313, 0.48851406, 0.30183166, 0.02283085],\n",
    "       [0.1449283 , 0.74410943,     np.nan, 0.21722092, 0.92483096, 0.01475718, 0.08342113, 0.13317224],\n",
    "       [0.08553635, 0.56252109, 0.91751235,     np.nan, 0.82967563, 0.41104149, 0.02612125, 0.10715602],\n",
    "       [0.94803921, 0.04565049, 0.51695437, 0.00566878,     np.nan, 0.42112318, 0.24739168, 0.85457518],\n",
    "       [0.77870455, 0.82198046, 0.7048397 , 0.29999013, 0.6317126 ,     np.nan, 0.35259626, 0.6471396 ],\n",
    "       [0.51487495, 0.83665139, 0.18311281, 0.90557789, 0.18106142, 0.76075651,     np.nan, 0.54475754],\n",
    "       [0.63170062, 0.12843803, 0.79344824, 0.62246307, 0.36102696, 0.83841104, 0.75254801,     np.nan]])"
   ]
  },
  {
   "cell_type": "code",
   "execution_count": 11,
   "metadata": {},
   "outputs": [],
   "source": [
    "cost_matrix_9 = np.array([\n",
    "       [    np.nan, 0.67730004, 0.41469005, 0.79472044, 0.18201466,\n",
    "        0.46028408, 0.80285353, 0.72205716, 0.71496473],\n",
    "       [0.39370189,     np.nan, 0.92559661, 0.82061891, 0.39502622,\n",
    "        0.09982358, 0.48799828, 0.47965996, 0.62942811],\n",
    "       [0.54912218, 0.29675661,     np.nan, 0.10840787, 0.06461134,\n",
    "        0.18617408, 0.93330297, 0.96050468, 0.15551516],\n",
    "       [0.57658941, 0.66653557, 0.72491664,     np.nan, 0.87755139,\n",
    "        0.8373838 , 0.55504568, 0.91359404, 0.46189636],\n",
    "       [0.20427693, 0.11267771, 0.99134019, 0.26771698,     np.nan,\n",
    "        0.83409189, 0.04453648, 0.21849577, 0.84957441],\n",
    "       [0.96956966, 0.39490577, 0.5168001 , 0.56924986, 0.01914814,\n",
    "            np.nan, 0.05866781, 0.92840136, 0.84975596],\n",
    "       [0.8386292 , 0.96833296, 0.84341776, 0.48349312, 0.74474585,\n",
    "        0.32327426,     np.nan, 0.9752778 , 0.29314212],\n",
    "       [0.96141681, 0.19493041, 0.81237712, 0.22167303, 0.38524551,\n",
    "        0.3649113 , 0.66851447,     np.nan, 0.82661027],\n",
    "       [0.13551012, 0.91175874, 0.18618829, 0.09654281, 0.57258329,\n",
    "        0.27462785, 0.23385379, 0.594836  ,     np.nan]])"
   ]
  },
  {
   "cell_type": "code",
   "execution_count": 12,
   "metadata": {},
   "outputs": [],
   "source": [
    "cost_matrix_10 = np.array([\n",
    "    [       np.nan, 0.07942641, 0.99031838, 0.09895247, 0.72745531,\n",
    "        0.81045902, 0.15923533, 0.61330537, 0.90258873, 0.15491793],\n",
    "       [0.88407753,     np.nan, 0.06199901, 0.56877632, 0.70008972,\n",
    "        0.81340743, 0.84484164, 0.92044895, 0.59612563, 0.45129374],\n",
    "       [0.50613502, 0.10989179,     np.nan, 0.73065915, 0.85902533,\n",
    "        0.27992034, 0.22580289, 0.40041954, 0.66807122, 0.89457109],\n",
    "       [0.80156922, 0.67934361, 0.44204649,     np.nan, 0.16947546,\n",
    "        0.29116308, 0.84592144, 0.96306772, 0.98000683, 0.67636839],\n",
    "       [0.6794687 , 0.15517822, 0.70378366, 0.06865874,     np.nan,\n",
    "        0.41927295, 0.3731578 , 0.69591233, 0.64424128, 0.04614225],\n",
    "       [0.05896441, 0.85363734, 0.40025621, 0.13863461, 0.29386601,\n",
    "            np.nan, 0.60606968, 0.40311522, 0.32417107, 0.3095105 ],\n",
    "       [0.26764498, 0.99628721, 0.76874766, 0.44323412, 0.34564126,\n",
    "        0.46406834,     np.nan, 0.18756799, 0.11153533, 0.27771632],\n",
    "       [0.85918156, 0.4737215 , 0.47637782, 0.47882724, 0.45202033,\n",
    "        0.40306174, 0.69005201,     np.nan, 0.09939983, 0.05238272],\n",
    "       [0.4481055 , 0.89202079, 0.18795216, 0.47662974, 0.5363038 ,\n",
    "        0.00846634, 0.98229673, 0.57620242,     np.nan, 0.80506734],\n",
    "       [0.38888649, 0.25867673, 0.69360475, 0.56495989, 0.39199138,\n",
    "        0.27841065, 0.12511922, 0.95978543, 0.44909675,     np.nan]])"
   ]
  },
  {
   "cell_type": "code",
   "execution_count": 13,
   "metadata": {},
   "outputs": [],
   "source": [
    "def adjustCM(cost_matrix):\n",
    "    A = cost_matrix\n",
    "    A = np.r_[1e-5 * np.ones((1, len(A))), A]\n",
    "    A = np.c_[1e-5 * np.ones(len(A)), A]\n",
    "    A[0][0] = np.nan\n",
    "    return A"
   ]
  },
  {
   "cell_type": "markdown",
   "metadata": {},
   "source": [
    "### Моё аналитическое решение"
   ]
  },
  {
   "cell_type": "markdown",
   "metadata": {},
   "source": [
    "Переберём все перестановки в лексикографическом порядке.\n",
    "\n",
    "Будем итерироваться по номеру перестановки. Сначала переведём его в факториальную систему счисления [(factoradic)](https://en.wikipedia.org/wiki/Factorial_number_system). Полученные цифры будут совпадать с [кодом Лемера](https://en.wikipedia.org/wiki/Lehmer_code) перестановки. \n",
    "\n",
    "Затем по коду Лемера вычислим саму перестановку и затем её стоимость."
   ]
  },
  {
   "cell_type": "code",
   "execution_count": 14,
   "metadata": {},
   "outputs": [],
   "source": [
    "# Могут понадобиться факториалы, поэтому на всякий случай вычислим их заранее\n",
    "#\n",
    "# factorials[n] == n!\n",
    "\n",
    "factorials = [1]\n",
    "for i in range(30):\n",
    "  # Предполагаю, что n_towns < 30\n",
    "  factorials.append(factorials[i] * (i+1))"
   ]
  },
  {
   "cell_type": "code",
   "execution_count": 15,
   "metadata": {},
   "outputs": [],
   "source": [
    "def factoradic_from_perm_number(perm_number : int, factoradic_array):\n",
    "  \"\"\"Преобразует число в факториальную систему счисления.\n",
    "  Записывает полученные цифры в factoradic_array.\n",
    "  Нулевая цифра в массиве - самая значимая. Последняя цифра всегда равна 0.\n",
    "  Алгоритм из https://en.wikipedia.org/wiki/Factorial_number_system#Definition \"\"\"\n",
    "\n",
    "  N = perm_number\n",
    "  n_towns = len(factoradic_array)\n",
    "  assert N < factorials[n_towns]\n",
    "\n",
    "  for i in range(1, len(factoradic_array) + 1):\n",
    "    N, factoradic_array[-i] = divmod(N, i)\n",
    "  \n",
    "  return factoradic_array"
   ]
  },
  {
   "cell_type": "code",
   "execution_count": 16,
   "metadata": {},
   "outputs": [],
   "source": [
    "def permutation_from_factoradic(nums : np.ndarray):\n",
    "  \"\"\"Перезаписывает массив nums.\n",
    "  Если изначально там находилось число в факториальной системе, то потом там будет находиться перестановка.\n",
    "  Города в полученной перестановке нумеруются с 0. \n",
    "  Алгоритм из https://en.wikipedia.org/wiki/Lehmer_code#Encoding_and_decoding \"\"\"\n",
    "  for i in range(len(nums)-2, -1, -1):\n",
    "    for j in range(i+1, len(nums)):\n",
    "      if(nums[j] >= nums[i]):\n",
    "        nums[j] += 1\n",
    "  return nums"
   ]
  },
  {
   "cell_type": "code",
   "execution_count": 17,
   "metadata": {},
   "outputs": [],
   "source": [
    "def brute(cost_matrix):\n",
    "  \"\"\"Перебирает все возможные перестановки и запоминает их кост.\"\"\"\n",
    "\n",
    "  n_towns = len(cost_matrix)\n",
    "\n",
    "  factoradic_array = np.ndarray(n_towns, int)\n",
    "\n",
    "  answers_array = []\n",
    "\n",
    "  min_cost = np.inf\n",
    "  opt_perm_number = np.nan\n",
    "\n",
    "  for perm_number in range(factorials[n_towns]):\n",
    "    town_sequence = permutation_from_factoradic(\n",
    "                        factoradic_from_perm_number(perm_number, factoradic_array)\n",
    "                    )\n",
    "    cost = cost_of_permutation(\n",
    "        cost_matrix,\n",
    "        town_sequence\n",
    "        )\n",
    "\n",
    "    answers_array.append(cost)\n",
    "\n",
    "    if cost < min_cost:\n",
    "      min_cost = cost\n",
    "      opt_perm_number = perm_number\n",
    "\n",
    "  answers_df = pd.DataFrame(answers_array, columns = [\"cost\"])\n",
    "  mean = answers_df['cost'].mean()\n",
    "  answers_df['cost / mean'] = answers_df['cost'] / mean\n",
    "\n",
    "  return {\"opt_perm_number\": opt_perm_number,\n",
    "                 \"min_cost\": min_cost,\n",
    "                     \"mean\": mean,\n",
    "                      \"all\": answers_df}"
   ]
  },
  {
   "cell_type": "code",
   "execution_count": 18,
   "metadata": {},
   "outputs": [],
   "source": [
    "brute4 = brute(cost_matrix_4)\n",
    "brute4_2 = brute(cost_matrix_4_2)\n",
    "brute5 = brute(cost_matrix_5)\n",
    "brute6 = brute(cost_matrix_6)\n",
    "brute7 = brute(cost_matrix_7)\n",
    "brute8 = brute(cost_matrix_8)\n",
    "brute8_2 = brute(cost_matrix_8_2)\n",
    "brute9 = brute(cost_matrix_9)\n",
    "brute10 = brute(cost_matrix_10)"
   ]
  },
  {
   "cell_type": "code",
   "execution_count": 18,
   "metadata": {},
   "outputs": [],
   "source": [
    "def calculate_statistics(testing_results, n_towns, brute_results):\n",
    "    testing_results['cost / mean'] = testing_results['cost'] / brute_results['mean']\n",
    "    costs = brute_results['all']['cost'].sort_values(ignore_index = True)\n",
    "    testing_results['rank'] = costs.searchsorted(testing_results['cost'])\n",
    "    testing_results['rank'] += np.isclose(testing_results['cost'], costs[testing_results['rank']]) # иначе иногда получается rank = 0\n",
    "    testing_results['percentile_rank'] = testing_results['rank'] / factorials[n_towns]\n",
    "    testing_results['nfev * pr'] = testing_results['nfev'] * testing_results['percentile_rank']\n",
    "    return testing_results"
   ]
  },
  {
   "cell_type": "code",
   "execution_count": 19,
   "metadata": {},
   "outputs": [],
   "source": [
    "G4 = nx.from_numpy_matrix(adjustCM(cost_matrix_4_2), create_using = nx.DiGraph)"
   ]
  },
  {
   "cell_type": "code",
   "execution_count": 20,
   "metadata": {},
   "outputs": [],
   "source": [
    "def graph_from(cost_matrix):\n",
    "    c = adjustCM(cost_matrix)\n",
    "    n = len(c)\n",
    "    G = nx.from_numpy_matrix(c, create_using = nx.DiGraph)\n",
    "    G.remove_edges_from([(i, i) for i in range(n)])\n",
    "    return G"
   ]
  },
  {
   "cell_type": "code",
   "execution_count": 21,
   "metadata": {},
   "outputs": [],
   "source": [
    "G4.remove_edges_from([(i, i) for i in range(5)])"
   ]
  },
  {
   "cell_type": "code",
   "execution_count": 46,
   "metadata": {},
   "outputs": [
    {
     "data": {
      "text/plain": [
       "[0, 2, 3, 1, 4]"
      ]
     },
     "execution_count": 46,
     "metadata": {},
     "output_type": "execute_result"
    }
   ],
   "source": [
    "dnx.traveling_salesman(G4, dimod.ExactSolver(), start = 0)"
   ]
  },
  {
   "cell_type": "code",
   "execution_count": 49,
   "metadata": {},
   "outputs": [
    {
     "data": {
      "text/plain": [
       "0.8508703"
      ]
     },
     "execution_count": 49,
     "metadata": {},
     "output_type": "execute_result"
    }
   ],
   "source": [
    "cost_of_permutation(adjustCM(cost_matrix_4_2), [0, 2, 3, 1, 4])"
   ]
  },
  {
   "cell_type": "code",
   "execution_count": null,
   "metadata": {},
   "outputs": [],
   "source": [
    "dnx.traveling_salesman(G4, dimod.ExactSolver(), start = 0)"
   ]
  },
  {
   "cell_type": "code",
   "execution_count": 50,
   "metadata": {},
   "outputs": [
    {
     "data": {
      "text/plain": [
       "0.8508603"
      ]
     },
     "execution_count": 50,
     "metadata": {},
     "output_type": "execute_result"
    }
   ],
   "source": [
    "brute4_2['min_cost']"
   ]
  },
  {
   "cell_type": "code",
   "execution_count": 53,
   "metadata": {},
   "outputs": [
    {
     "ename": "",
     "evalue": "",
     "output_type": "error",
     "traceback": [
      "\u001b[1;31mThe Kernel crashed while executing code in the the current cell or a previous cell. Please review the code in the cell(s) to identify a possible cause of the failure. Click <a href='https://aka.ms/vscodeJupyterKernelCrash'>here</a> for more info. View Jupyter <a href='command:jupyter.viewOutput'>log</a> for further details."
     ]
    },
    {
     "ename": "",
     "evalue": "",
     "output_type": "error",
     "traceback": [
      "\u001b[1;31mCanceled future for execute_request message before replies were done"
     ]
    }
   ],
   "source": [
    "cost_of_permutation(adjustCM(cost_matrix_5), \n",
    "    dnx.traveling_salesman(graph_from(cost_matrix_5), dimod.ExactSolver())\n",
    ")"
   ]
  },
  {
   "cell_type": "code",
   "execution_count": 23,
   "metadata": {},
   "outputs": [
    {
     "data": {
      "text/plain": [
       "0.25234681999999997"
      ]
     },
     "execution_count": 23,
     "metadata": {},
     "output_type": "execute_result"
    }
   ],
   "source": [
    "cost_of_permutation(adjustCM(cost_matrix_4), \n",
    "    dnx.traveling_salesman(graph_from(cost_matrix_4), dimod.ExactSolver())\n",
    ")"
   ]
  },
  {
   "cell_type": "code",
   "execution_count": 24,
   "metadata": {},
   "outputs": [
    {
     "data": {
      "text/plain": [
       "[0, 2, 1, 4, 3]"
      ]
     },
     "execution_count": 24,
     "metadata": {},
     "output_type": "execute_result"
    }
   ],
   "source": [
    "dnx.traveling_salesman(graph_from(cost_matrix_4), dimod.ExactSolver(), start = 0)"
   ]
  },
  {
   "cell_type": "code",
   "execution_count": 25,
   "metadata": {},
   "outputs": [
    {
     "data": {
      "text/plain": [
       "0.46636262"
      ]
     },
     "execution_count": 25,
     "metadata": {},
     "output_type": "execute_result"
    }
   ],
   "source": [
    "cost_of_permutation(adjustCM(cost_matrix_4), [0, 2, 1, 4, 3])"
   ]
  },
  {
   "cell_type": "code",
   "execution_count": null,
   "metadata": {},
   "outputs": [],
   "source": [
    "brute(adjustCM(cost_matrix_4))"
   ]
  },
  {
   "cell_type": "code",
   "execution_count": null,
   "metadata": {},
   "outputs": [],
   "source": []
  }
 ],
 "metadata": {
  "kernelspec": {
   "display_name": "Python 3.9.13 ('dwave')",
   "language": "python",
   "name": "python3"
  },
  "language_info": {
   "codemirror_mode": {
    "name": "ipython",
    "version": 3
   },
   "file_extension": ".py",
   "mimetype": "text/x-python",
   "name": "python",
   "nbconvert_exporter": "python",
   "pygments_lexer": "ipython3",
   "version": "3.9.13"
  },
  "orig_nbformat": 4,
  "vscode": {
   "interpreter": {
    "hash": "8e6fb6e2411b98be801dd386d00433f5aba396f384ffc42549110934e01e884d"
   }
  }
 },
 "nbformat": 4,
 "nbformat_minor": 2
}
