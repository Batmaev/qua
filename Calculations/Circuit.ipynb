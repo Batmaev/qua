{
 "cells": [
  {
   "cell_type": "code",
   "execution_count": null,
   "metadata": {},
   "outputs": [],
   "source": [
    "import cirq, sympy, warnings, tikzplotlib\n",
    "from scipy.optimize import *\n",
    "import numpy as np\n",
    "import pandas as pd\n",
    "import seaborn as sns\n",
    "from matplotlib import pyplot as plt\n",
    "from io import StringIO"
   ]
  },
  {
   "cell_type": "markdown",
   "metadata": {},
   "source": [
    "### Cost Matrices"
   ]
  },
  {
   "cell_type": "code",
   "execution_count": null,
   "metadata": {},
   "outputs": [],
   "source": [
    "def create_cost_matrix(n_towns):\n",
    "   \"\"\"Рандомная матрица с положительными элементами, \n",
    "   которая хранит длины рёбер между каждой парой городов\"\"\"\n",
    "\n",
    "   A = np.random.random((n_towns, n_towns))\n",
    "   \n",
    "   for i in range(n_towns):\n",
    "     A[i][i] = np.nan\n",
    "\n",
    "   return A"
   ]
  },
  {
   "cell_type": "code",
   "execution_count": null,
   "metadata": {},
   "outputs": [],
   "source": [
    "def cost_of_permutation(cost_matrix, town_sequence):\n",
    "  cost = 0.0\n",
    "\n",
    "  for i in range(len(town_sequence)-1):\n",
    "    cost += cost_matrix [town_sequence[i]] [town_sequence[i+1]]\n",
    "  \n",
    "  return cost"
   ]
  },
  {
   "cell_type": "code",
   "execution_count": null,
   "metadata": {},
   "outputs": [],
   "source": [
    "cost_matrix_4 = np.array([[np.nan    , 0.35271991, 0.96262685, 0.11727604],\n",
    "                          [0.13505078, np.nan    , 0.63915344, 0.43149425],\n",
    "                          [0.58432224, 0.83676812, np.nan    , 0.4879146 ],\n",
    "                          [0.14998587, 0.45394107, 0.2140258 , np.nan    ]])"
   ]
  },
  {
   "cell_type": "code",
   "execution_count": null,
   "metadata": {},
   "outputs": [],
   "source": [
    "cost_matrix_6 = \\\n",
    "np.array([[    np.nan, 0.00165482, 0.72520661, 0.4163876 , 0.03288493, 0.54206491],\n",
    "          [0.74621655,     np.nan, 0.37808992, 0.95303594, 0.17005047, 0.61706156],\n",
    "          [0.01730168, 0.42465019,     np.nan, 0.34035056, 0.9397413 , 0.06493504],\n",
    "          [0.2761505 , 0.66518233, 0.42480788,     np.nan, 0.11856712, 0.34309329],\n",
    "          [0.82796128, 0.86227791, 0.29369849, 0.0604712 ,     np.nan, 0.54814749],\n",
    "          [0.56525883, 0.63791584, 0.29638851, 0.85863453, 0.75516877,     np.nan]])"
   ]
  },
  {
   "cell_type": "code",
   "execution_count": null,
   "metadata": {},
   "outputs": [],
   "source": [
    "cost_matrix_8 = np.array([\n",
    "    [    np.nan, 0.83911204, 0.7035106 , 0.39668363, 0.46117354, 0.19510413, 0.48658963, 0.46131103],\n",
    "    [0.5870892 ,     np.nan, 0.54862795, 0.74507107, 0.49289714, 0.47200892, 0.57741251, 0.62507757],\n",
    "    [0.46634288, 0.91587751,     np.nan, 0.35612168, 0.42860855, 0.12815892, 0.89677141, 0.85594071],\n",
    "    [0.53797555, 0.4979348 , 0.97516805,     np.nan, 0.01425964, 0.21532494, 0.3322861 , 0.0289443 ],\n",
    "    [0.22634373, 0.62941811, 0.33450535, 0.86398671,     np.nan, 0.50767408, 0.72648152, 0.99268613],\n",
    "    [0.41810008, 0.98537316, 0.81336165, 0.06436564, 0.58484745,     np.nan, 0.12191475, 0.81467971],\n",
    "    [0.94842273, 0.44981522, 0.93452495, 0.89825261, 0.36265244, 0.36477084,     np.nan, 0.26013962],\n",
    "    [0.01901475, 0.50642185, 0.91862145, 0.26389184, 0.29948766, 0.01025452, 0.32753958,     np.nan]])"
   ]
  },
  {
   "cell_type": "code",
   "execution_count": null,
   "metadata": {},
   "outputs": [],
   "source": [
    "cost_matrix_10 = np.array([\n",
    "    [       np.nan, 0.07942641, 0.99031838, 0.09895247, 0.72745531,\n",
    "        0.81045902, 0.15923533, 0.61330537, 0.90258873, 0.15491793],\n",
    "       [0.88407753,     np.nan, 0.06199901, 0.56877632, 0.70008972,\n",
    "        0.81340743, 0.84484164, 0.92044895, 0.59612563, 0.45129374],\n",
    "       [0.50613502, 0.10989179,     np.nan, 0.73065915, 0.85902533,\n",
    "        0.27992034, 0.22580289, 0.40041954, 0.66807122, 0.89457109],\n",
    "       [0.80156922, 0.67934361, 0.44204649,     np.nan, 0.16947546,\n",
    "        0.29116308, 0.84592144, 0.96306772, 0.98000683, 0.67636839],\n",
    "       [0.6794687 , 0.15517822, 0.70378366, 0.06865874,     np.nan,\n",
    "        0.41927295, 0.3731578 , 0.69591233, 0.64424128, 0.04614225],\n",
    "       [0.05896441, 0.85363734, 0.40025621, 0.13863461, 0.29386601,\n",
    "            np.nan, 0.60606968, 0.40311522, 0.32417107, 0.3095105 ],\n",
    "       [0.26764498, 0.99628721, 0.76874766, 0.44323412, 0.34564126,\n",
    "        0.46406834,     np.nan, 0.18756799, 0.11153533, 0.27771632],\n",
    "       [0.85918156, 0.4737215 , 0.47637782, 0.47882724, 0.45202033,\n",
    "        0.40306174, 0.69005201,     np.nan, 0.09939983, 0.05238272],\n",
    "       [0.4481055 , 0.89202079, 0.18795216, 0.47662974, 0.5363038 ,\n",
    "        0.00846634, 0.98229673, 0.57620242,     np.nan, 0.80506734],\n",
    "       [0.38888649, 0.25867673, 0.69360475, 0.56495989, 0.39199138,\n",
    "        0.27841065, 0.12511922, 0.95978543, 0.44909675,     np.nan]])"
   ]
  },
  {
   "cell_type": "markdown",
   "metadata": {},
   "source": [
    "### Аналитическое решение"
   ]
  },
  {
   "cell_type": "markdown",
   "metadata": {},
   "source": [
    "Переберём все перестановки в лексикографическом порядке.\n",
    "\n",
    "Будем итерироваться по номеру перестановки. Сначала переведём его в факториальную систему счисления [(factoradic)](https://en.wikipedia.org/wiki/Factorial_number_system). Полученные цифры будут совпадать с [кодом Лемера](https://en.wikipedia.org/wiki/Lehmer_code) перестановки. \n",
    "\n",
    "Затем по коду Лемера вычислим саму перестановку и затем её стоимость."
   ]
  },
  {
   "cell_type": "code",
   "execution_count": null,
   "metadata": {},
   "outputs": [],
   "source": [
    "# Могут понадобиться факториалы, поэтому на всякий случай вычислим их заранее\n",
    "#\n",
    "# factorials[n] == n!\n",
    "\n",
    "factorials = [1]\n",
    "for i in range(30):\n",
    "  # Предполагаю, что n_towns < 30\n",
    "  factorials.append(factorials[i] * (i+1))"
   ]
  },
  {
   "cell_type": "code",
   "execution_count": null,
   "metadata": {},
   "outputs": [],
   "source": [
    "def factoradic_from_perm_number(perm_number : int, factoradic_array):\n",
    "  \"\"\"Преобразует число в факториальную систему счисления.\n",
    "  Записывает полученные цифры в factoradic_array.\n",
    "  Нулевая цифра в массиве - самая значимая. Последняя цифра всегда равна 0.\n",
    "  Алгоритм из https://en.wikipedia.org/wiki/Factorial_number_system#Definition \"\"\"\n",
    "\n",
    "  N = perm_number\n",
    "  n_towns = len(factoradic_array)\n",
    "  assert N < factorials[n_towns]\n",
    "\n",
    "  for i in range(1, len(factoradic_array) + 1):\n",
    "    N, factoradic_array[-i] = divmod(N, i)\n",
    "  \n",
    "  return factoradic_array"
   ]
  },
  {
   "cell_type": "code",
   "execution_count": null,
   "metadata": {},
   "outputs": [],
   "source": [
    "def permutation_from_factoradic(nums : np.ndarray):\n",
    "  \"\"\"Перезаписывает массив nums.\n",
    "  Если изначально там находилось число в факториальной системе, то потом там будет находиться перестановка.\n",
    "  Города в полученной перестановке нумеруются с 0. \n",
    "  Алгоритм из https://en.wikipedia.org/wiki/Lehmer_code#Encoding_and_decoding \"\"\"\n",
    "  for i in range(len(nums)-2, -1, -1):\n",
    "    for j in range(i+1, len(nums)):\n",
    "      if(nums[j] >= nums[i]):\n",
    "        nums[j] += 1\n",
    "  return nums"
   ]
  },
  {
   "cell_type": "code",
   "execution_count": null,
   "metadata": {},
   "outputs": [],
   "source": [
    "def analytical(cost_matrix):\n",
    "  \"\"\"Перебирает все возможные перестановки и запоминает их кост.\n",
    "  Возвращает номер наименьшей перестановки и pd.DataFrame со всеми возможными костами\"\"\"\n",
    "\n",
    "  n_towns = len(cost_matrix)\n",
    "\n",
    "  factoradic_array = np.ndarray(n_towns, int)\n",
    "\n",
    "  answers_array = []\n",
    "\n",
    "  min_cost = np.inf\n",
    "  opt_perm_number = np.nan\n",
    "\n",
    "  for perm_number in range(factorials[n_towns]):\n",
    "    town_sequence = permutation_from_factoradic(\n",
    "                        factoradic_from_perm_number(perm_number, factoradic_array)\n",
    "                    )\n",
    "    cost = cost_of_permutation(\n",
    "        cost_matrix,\n",
    "        town_sequence\n",
    "        )\n",
    "\n",
    "    answers_array.append(cost)\n",
    "\n",
    "    if cost < min_cost:\n",
    "      min_cost = cost\n",
    "      opt_perm_number = perm_number\n",
    "\n",
    "  return {\"opt_perm_number\": opt_perm_number,\n",
    "          \"answers_table\": pd.DataFrame(answers_array, columns = [\"cost\"])}"
   ]
  },
  {
   "cell_type": "markdown",
   "metadata": {},
   "source": [
    "### Алгоритм Rotosolve"
   ]
  },
  {
   "cell_type": "code",
   "execution_count": null,
   "metadata": {},
   "outputs": [],
   "source": [
    "def rotosolve(f, x0, tol = 1e-3, max_iter = 150, verbose = False, abs = False):\n",
    "    \"\"\"Находит минимум функции f с помощью алгоритма Rotosolve.\n",
    "\n",
    "    Args:\n",
    "\n",
    "        x0  - начальная точка, можно взять рандомную\n",
    "\n",
    "        tol - итерации прекращаются, если улучшение за один цикл обновления вектора X составило меньше tol\n",
    "\n",
    "        abs - если True, то с величиной tol сравнивается не улучшение f, а его модуль\n",
    "\n",
    "        max_iter - максимальное число циклов обновления вектора x\n",
    "\n",
    "        verbose - если True, то сохранять историю значений f\n",
    "\n",
    "    Returns:\n",
    "\n",
    "        x, fun - точка минимума и его значение\n",
    "\n",
    "        num_iterations - число циклов обновления вектора x\n",
    "\n",
    "        nfev - число вычислений функции, оно равно 3 * len(x0) * num_iterations\n",
    "\n",
    "        cost_history - Python array\n",
    "    \"\"\"\n",
    "\n",
    "    position = x0\n",
    "    nfev = 0\n",
    "    num_iterations = 0\n",
    "    previous_cost = np.nan\n",
    "    current_cost = f(x0)\n",
    "    shifts_history = []\n",
    "\n",
    "    if verbose:\n",
    "        cost_history = [current_cost]\n",
    "    else:\n",
    "        cost_history = []\n",
    "\n",
    "    while num_iterations < max_iter:\n",
    "        if abs:\n",
    "            if np.abs(previous_cost - current_cost) < tol:\n",
    "                break\n",
    "        else:\n",
    "            if previous_cost - current_cost < tol:\n",
    "                break\n",
    "        \n",
    "        previous_cost = current_cost\n",
    "        for i, theta in enumerate(position):\n",
    "\n",
    "            position[i] = theta + np.pi / 2\n",
    "            cost_p = f(position)\n",
    "\n",
    "            position[i] = theta - np.pi / 2\n",
    "            cost_m = f(position)\n",
    "\n",
    "            atan = np.arctan2(2 * current_cost - cost_p - cost_m,\n",
    "                              cost_p - cost_m)\n",
    "            position[i] = theta - np.pi / 2 - atan % (2 * np.pi)\n",
    "\n",
    "            current_cost = f(position)\n",
    "            if verbose:\n",
    "                cost_history.append(current_cost)\n",
    "                shifts_history.append(- np.pi / 2 - atan % (2 * np.pi))\n",
    "\n",
    "            nfev += 3\n",
    "        num_iterations += 1\n",
    "\n",
    "    return {'fun': current_cost,\n",
    "       'position': position,\n",
    " 'num_iterations': num_iterations,\n",
    "           'nfev': nfev,\n",
    "   'cost_history': cost_history,\n",
    " 'shifts_history': shifts_history}\n"
   ]
  },
  {
   "cell_type": "code",
   "execution_count": null,
   "metadata": {},
   "outputs": [],
   "source": [
    "def rotosolve_x(f, x0, tol = 1e-2, max_iter = 150, verbose = False):\n",
    "    \"\"\"Находит минимум функции f с помощью алгоритма Rotosolve.\n",
    "\n",
    "    Args:\n",
    "\n",
    "        x0  - начальная точка, можно взять рандомную\n",
    "\n",
    "        tol - итерации прекращаются, если улучшение за один цикл обновления вектора X составило меньше tol\n",
    "\n",
    "        abs - если True, то с величиной tol сравнивается не улучшение f, а его модуль\n",
    "\n",
    "        max_iter - максимальное число циклов обновления вектора x\n",
    "\n",
    "        verbose - если True, то сохранять историю значений f\n",
    "\n",
    "    Returns:\n",
    "\n",
    "        x, fun - точка минимума и его значение\n",
    "\n",
    "        num_iterations - число циклов обновления вектора x\n",
    "\n",
    "        nfev - число вычислений функции, оно равно 3 * len(x0) * num_iterations\n",
    "\n",
    "        cost_history - Python array\n",
    "    \"\"\"\n",
    "\n",
    "    position = x0\n",
    "    nfev = 0\n",
    "    num_iterations = 0\n",
    "    max_shift_in_cycle = np.nan\n",
    "    current_cost = f(x0)\n",
    "    shifts_history = []\n",
    "\n",
    "    if verbose:\n",
    "        cost_history = [current_cost]\n",
    "    else:\n",
    "        cost_history = []\n",
    "\n",
    "    while num_iterations < max_iter and not max_shift_in_cycle < tol:\n",
    "        \n",
    "        max_shift_in_cycle = np.nan\n",
    "        for i, theta in enumerate(position):\n",
    "\n",
    "            position[i] = theta + np.pi / 2\n",
    "            cost_p = f(position)\n",
    "\n",
    "            position[i] = theta - np.pi / 2\n",
    "            cost_m = f(position)\n",
    "\n",
    "            atan = np.arctan2(2 * current_cost - cost_p - cost_m,\n",
    "                              cost_p - cost_m)\n",
    "            shift = - np.pi / 2 - atan % (2 * np.pi)\n",
    "            position[i] = theta + shift\n",
    "\n",
    "            if not abs(shift) < max_shift_in_cycle:\n",
    "                max_shift_in_cycle = abs(shift)\n",
    "\n",
    "            current_cost = f(position)\n",
    "            if verbose:\n",
    "                cost_history.append(current_cost)\n",
    "                shifts_history.append(shift)\n",
    "\n",
    "            nfev += 3\n",
    "        num_iterations += 1\n",
    "\n",
    "    return {'fun': current_cost,\n",
    "       'position': position,\n",
    " 'num_iterations': num_iterations,\n",
    "           'nfev': nfev,\n",
    "   'cost_history': cost_history,\n",
    " 'shifts_history': shifts_history}\n"
   ]
  },
  {
   "cell_type": "markdown",
   "metadata": {},
   "source": [
    "### Базовая схема (только Rx)"
   ]
  },
  {
   "cell_type": "code",
   "execution_count": null,
   "metadata": {},
   "outputs": [],
   "source": [
    "class RxCircuit:\n",
    "\n",
    "   def __init__(self, n_towns):\n",
    "      n_qubits = int(np.ceil(np.log2(factorials[n_towns])))\n",
    "\n",
    "      self.qubits = cirq.LineQubit.range(n_qubits)\n",
    "      self.circuit = cirq.Circuit()\n",
    "      self.simulator = cirq.Simulator()\n",
    "\n",
    "      self._town_sequence = np.ndarray(n_towns, int)\n",
    "      self.n_towns = n_towns\n",
    "\n",
    "      self._angle_names = [f'a_{i}' for i in range(n_qubits)]\n",
    "      angle_symbols = sympy.symbols(self._angle_names)\n",
    "      self._grad = np.ndarray(len(angle_symbols))\n",
    "      self._hess = np.ndarray((len(angle_symbols), len(angle_symbols)))\n",
    "\n",
    "    # Параметрические гейты\n",
    "      rx_gates = [cirq.rx(angle)(qubit)\n",
    "                  for (angle, qubit)\n",
    "                  in zip(angle_symbols, self.qubits)]\n",
    "\n",
    "      self.circuit.append(rx_gates)\n",
    "      \n",
    "      measurements = cirq.measure_each(*self.qubits)\n",
    "      self.circuit.append(cirq.Moment(measurements))\n",
    "\n",
    "\n",
    "   def measure(self, angles, repetitions = 1):\n",
    "\n",
    "      params = cirq.ParamResolver({\n",
    "         name: value for (name, value) in\n",
    "         zip(self._angle_names, angles)\n",
    "      })\n",
    "\n",
    "      return self.simulator.run(self.circuit, params, repetitions)\n",
    "\n",
    "\n",
    "   def cost_of_bits(self, bits, cost_matrix):\n",
    "      \"Вычисляет по последовательности битов перестановку и её стоимость\"\n",
    "      return cost_of_permutation(\n",
    "          cost_matrix,\n",
    "          permutation_from_factoradic(\n",
    "              factoradic_from_perm_number(\n",
    "                  cirq.big_endian_bits_to_int(bits) % factorials[self.n_towns],\n",
    "                  self._town_sequence\n",
    "              )\n",
    "          )\n",
    "      )\n",
    "\n",
    "\n",
    "   def costs(self, angles, cost_matrix, repetitions):\n",
    "      \"Повторяет измерения и каждый раз вычисляет кост\"\n",
    "\n",
    "      measurementDataFrame = self.measure(angles, repetitions).data\n",
    "\n",
    "      return measurementDataFrame.apply(\n",
    "          self.cost_of_bits, \n",
    "          axis = 1, raw = True, args = (cost_matrix,)\n",
    "          )\n",
    "   \n",
    "   def cost_derivative(self, angles, cost_matrix, repetitions = 100):\n",
    "      \"Сэмплирует и вычисляет производную в соответствии с Parameter Shift Rule\"\n",
    "\n",
    "      for i, theta in enumerate(angles):\n",
    "\n",
    "         angles[i] = theta + np.pi / 2\n",
    "         cost_plus = self.costs(angles, cost_matrix, repetitions).mean()\n",
    "\n",
    "         angles[i] = theta - np.pi / 2\n",
    "         cost_minus = self.costs(angles, cost_matrix, repetitions).mean()\n",
    "\n",
    "         self._grad[i] = (cost_plus - cost_minus) / 2\n",
    "         angles[i] = theta\n",
    "      \n",
    "      return self._grad\n",
    "\n",
    "   def cost_hess(self, angles, cost_matrix, repetitions = 100):\n",
    "      for i, theta_i in enumerate(angles):\n",
    "         for j, theta_j in enumerate(angles[:i+1]):\n",
    "            angles[i] = theta_i + np.pi / 2\n",
    "            angles[j] = theta_j + np.pi / 2\n",
    "            cpp = self.costs(angles, cost_matrix, repetitions).mean()\n",
    "\n",
    "            angles[j] = theta_j - np.pi / 2\n",
    "            cpm = self.costs(angles, cost_matrix, repetitions).mean()\n",
    "\n",
    "            angles[i] = theta_i - np.pi / 2\n",
    "            cmm = self.costs(angles, cost_matrix, repetitions).mean()\n",
    "\n",
    "            angles[j] = theta_j + np.pi / 2\n",
    "            cmp = self.costs(angles, cost_matrix, repetitions).mean()\n",
    "\n",
    "            self._hess[i][j] = self._hess[j][i] = (cpp - cpm - cmp + cmm) / 4\n",
    "\n",
    "            angles[i] = theta_i\n",
    "            angles[j] = theta_j\n",
    "            \n",
    "      return self._hess\n",
    "\n",
    "\n",
    "   def optimize(self, cost_matrix, \n",
    "               optimizer = rotosolve,\n",
    "               repetitions = 100,\n",
    "               **optimizer_kwargs):\n",
    "      \"\"\"\n",
    "      Вызывает функцию, заданную в аргументе optimizer.\n",
    "      С её помощью подбирает параметры гейтов так,\n",
    "      чтобы решить задачу коммивояжёра.\n",
    "      Маршрут вычисляется на основе результатов измерений снова и снова,\n",
    "      а затем суммарная длина пути усредняется. \n",
    "      Именно эту усреднённую длину пути мы пытаемся минимизировать.\n",
    "\n",
    "      Args:\n",
    "\n",
    "       cost_matrix - матрица размером n_towns × n_towns такая, что\n",
    "                     cost_matrix[i][j] есть длина пути между городами i и j\n",
    "\n",
    "       optimizer - одна из функций https://docs.scipy.org/doc/scipy/reference/optimize.html#global-optimization\n",
    "\n",
    "       repetitions - число повторений для усреднения коста. \n",
    "                     Для градиентных методов нужна высокая точность, \n",
    "                     так как они считают разность между близкими величинами.\n",
    "                     Могут потребоваться миллионы повторений.\n",
    "      \"\"\"\n",
    "\n",
    "      cost_lambda = lambda angles : self.costs(angles, cost_matrix, repetitions).mean()\n",
    "      jac_lambda  = lambda angles : self.cost_derivative(angles, cost_matrix, repetitions)\n",
    "      hess_lambda = lambda angles : self.cost_hess(angles, cost_matrix, repetitions)\n",
    "      \n",
    "\n",
    "      if 'jac' in optimizer.__code__.co_varnames:\n",
    "         optimizer_kwargs['jac'] = jac_lambda\n",
    "\n",
    "      if 'hess' in optimizer.__code__.co_varnames:\n",
    "         optimizer_kwargs['hess'] = hess_lambda\n",
    "\n",
    "      if optimizer == basinhopping or optimizer == minimize or optimizer == rotosolve:\n",
    "         if 'x0' not in optimizer_kwargs:\n",
    "            optimizer_kwargs['x0'] = [2 * np.pi * (np.random.random() - 0.5)\n",
    "                                    for _ in self._angle_names]\n",
    "      else:\n",
    "         if 'bounds' not in optimizer_kwargs:\n",
    "            if optimizer == shgo:\n",
    "               optimizer_kwargs['bounds'] = [(None, None) for _ in self._angle_names]\n",
    "            else:\n",
    "               optimizer_kwargs['bounds'] = [(-np.pi, np.pi) for _ in self._angle_names]\n",
    "\n",
    "      return optimizer(cost_lambda, **optimizer_kwargs)\n",
    "\n",
    "\n",
    "   def __str__(self):\n",
    "      return self.circuit.__str__()\n",
    "\n",
    "   def _repr_pretty_(self, *args):\n",
    "      \"Text output in Jupyter\"\n",
    "      return self.circuit._repr_pretty_(*args)"
   ]
  },
  {
   "cell_type": "markdown",
   "metadata": {},
   "source": [
    "### Схема RxCNOT"
   ]
  },
  {
   "cell_type": "code",
   "execution_count": null,
   "metadata": {},
   "outputs": [],
   "source": [
    "class RxCNOTCircuit(RxCircuit):\n",
    "   def __init__(self, n_towns, n_layer_pairs):\n",
    "      n_qubits = int(np.ceil(np.log2(factorials[n_towns])))\n",
    "\n",
    "      self.qubits = cirq.LineQubit.range(n_qubits)\n",
    "      self.circuit = cirq.Circuit()\n",
    "      self.simulator = cirq.Simulator()\n",
    "\n",
    "      self._town_sequence = np.ndarray(n_towns, int)\n",
    "      self.n_towns = n_towns\n",
    "\n",
    "      self._angle_names = [f'a_{i}' for i in range(n_layer_pairs * n_qubits)]\n",
    "      angle_symbols = sympy.symbols(self._angle_names)\n",
    "      self._grad = np.ndarray(len(angle_symbols))\n",
    "      self._hess = np.ndarray((len(angle_symbols), len(angle_symbols)))\n",
    "\n",
    "      # Параметрические гейты\n",
    "      for layer_pair in range(n_layer_pairs):\n",
    "          rx_gates = [cirq.rx(angle)(qubit)\n",
    "                      for (angle, qubit)\n",
    "                      in zip(\n",
    "                        angle_symbols[layer_pair*n_qubits : (layer_pair+1)*n_qubits],\n",
    "                        self.qubits) \n",
    "                    ]\n",
    "          self.circuit.append(cirq.Moment(rx_gates))\n",
    "\n",
    "          cnot_gates = [cirq.CNOT(q1, q2)\n",
    "                        for (q1, q2)\n",
    "                        in zip(self.qubits, self.qubits[1:]) ]\n",
    "          self.circuit.append(cnot_gates)\n",
    "\n",
    "      # Измерения\n",
    "      measurements = cirq.measure_each(*self.qubits)\n",
    "      self.circuit.append(cirq.Moment(measurements))"
   ]
  },
  {
   "cell_type": "markdown",
   "metadata": {},
   "source": [
    "### Функция тестирования"
   ]
  },
  {
   "cell_type": "code",
   "execution_count": null,
   "metadata": {},
   "outputs": [],
   "source": [
    "def extensively_test_circuit(cost_matrix, circuit, optimizer = rotosolve, iterations = 50, repetitions = 100, **optimizer_kwargs):\n",
    "  res = []\n",
    "\n",
    "  for _ in range(iterations):\n",
    "    res_n = circuit.optimize(cost_matrix, optimizer, repetitions, **optimizer_kwargs)\n",
    "    res.append((res_n['fun'], res_n['nfev'], res_n.get('njev'), res_n.get('nhev')))\n",
    "\n",
    "  return pd.DataFrame(res, columns = [\"cost\", \"nfev\", \"njev\", \"nhev\"]).fillna(0)"
   ]
  },
  {
   "cell_type": "markdown",
   "metadata": {},
   "source": [
    "### Density Plot для 4 городов"
   ]
  },
  {
   "cell_type": "code",
   "execution_count": null,
   "metadata": {},
   "outputs": [],
   "source": [
    "f4 = extensively_test_circuit(cost_matrix_4, RxCNOTCircuit(4, 1), abs = False)\n",
    "f4.mean()"
   ]
  },
  {
   "cell_type": "code",
   "execution_count": null,
   "metadata": {},
   "outputs": [],
   "source": [
    "f4"
   ]
  },
  {
   "cell_type": "code",
   "execution_count": null,
   "metadata": {},
   "outputs": [],
   "source": [
    "a4 = extensively_test_circuit(cost_matrix_4, RxCNOTCircuit(4, 1), abs = True, tol = 1e-2)\n",
    "a4.mean()"
   ]
  },
  {
   "cell_type": "code",
   "execution_count": null,
   "metadata": {},
   "outputs": [],
   "source": [
    "a4"
   ]
  },
  {
   "cell_type": "code",
   "execution_count": null,
   "metadata": {},
   "outputs": [],
   "source": [
    "anal4 = analytical(cost_matrix_4)"
   ]
  },
  {
   "cell_type": "code",
   "execution_count": null,
   "metadata": {},
   "outputs": [],
   "source": [
    "plt.figure(dpi = 100)\n",
    "sns.kdeplot(f4['cost'], label = '$\\Delta$f < tol')\n",
    "sns.kdeplot(a4['cost'], label = '|$\\Delta$f| < tol')\n",
    "plt.legend(title = \"остановка при:\")"
   ]
  },
  {
   "cell_type": "code",
   "execution_count": null,
   "metadata": {},
   "outputs": [],
   "source": [
    "plt.figure(dpi = 100)\n",
    "sns.kdeplot(f4['nfev'], label = '$\\Delta$f < tol')\n",
    "sns.kdeplot(a4['nfev'], label = '|$\\Delta$f| < tol')\n",
    "plt.legend(title = \"остановка при:\")"
   ]
  },
  {
   "cell_type": "code",
   "execution_count": null,
   "metadata": {},
   "outputs": [],
   "source": [
    "plt.style.use(\"default\")\n",
    "sns.set_theme()\n",
    "sns.set_palette('colorblind')"
   ]
  },
  {
   "cell_type": "code",
   "execution_count": null,
   "metadata": {},
   "outputs": [],
   "source": [
    "sns.color_palette('colorblind')"
   ]
  },
  {
   "cell_type": "code",
   "execution_count": null,
   "metadata": {},
   "outputs": [],
   "source": [
    "sns.set_style({\"font\": \"Times New Roman\"})"
   ]
  },
  {
   "cell_type": "code",
   "execution_count": null,
   "metadata": {},
   "outputs": [],
   "source": [
    "plt.figure(dpi = 100, figsize = (5, 3.6))\n",
    "ax =\\\n",
    "sns.kdeplot(anal4['answers_table']['cost'] , label = 'до запуска алгоритма', color = sns.color_palette(\"colorblind\")[1])\n",
    "sns.kdeplot(f4['cost'] , label = 'после запуска алгоритма')\n",
    "#sns.kdeplot(a4['cost'] , label = 'после запуска алгоритма')\n",
    "sns.scatterplot(x = [anal4['answers_table']['cost'][anal4['opt_perm_number']]], y = [0.05], color = \"black\", label = \"точное решение\", s = 36)\n",
    "plt.legend()\n",
    "ax.set_xlabel(\"стоимость\")\n",
    "ax.set_ylabel(\"плотность вероятности\")\n",
    "ax.set_title(\"Результаты алгоритма в случае 4 городов\")\n",
    "plt.savefig(\"../tex/4towns.pdf\", bbox_inches = \"tight\")"
   ]
  },
  {
   "cell_type": "markdown",
   "metadata": {},
   "source": [
    "### 6 городов"
   ]
  },
  {
   "cell_type": "code",
   "execution_count": null,
   "metadata": {},
   "outputs": [],
   "source": [
    "anal6 = analytical(cost_matrix_6)\n",
    "anal6['answers_table'].iloc[[anal6['opt_perm_number']]]"
   ]
  },
  {
   "cell_type": "code",
   "execution_count": null,
   "metadata": {},
   "outputs": [],
   "source": [
    "# 25 sec\n",
    "f6 = extensively_test_circuit(cost_matrix_6, RxCNOTCircuit(6, 1), abs = False)\n",
    "f6"
   ]
  },
  {
   "cell_type": "code",
   "execution_count": null,
   "metadata": {},
   "outputs": [],
   "source": [
    "f6_75 = extensively_test_circuit(cost_matrix_6, RxCNOTCircuit(6, 1), repetitions = 75)\n",
    "f6_75"
   ]
  },
  {
   "cell_type": "code",
   "execution_count": null,
   "metadata": {},
   "outputs": [],
   "source": [
    "a6 = extensively_test_circuit(cost_matrix_6, RxCNOTCircuit(6, 1), abs = True)\n",
    "a6"
   ]
  },
  {
   "cell_type": "code",
   "execution_count": null,
   "metadata": {},
   "outputs": [],
   "source": [
    "a6_tol = extensively_test_circuit(cost_matrix_6, RxCNOTCircuit(6, 1), abs = True, tol = 1e-2)"
   ]
  },
  {
   "cell_type": "code",
   "execution_count": null,
   "metadata": {},
   "outputs": [],
   "source": [
    "a6_tol"
   ]
  },
  {
   "cell_type": "code",
   "execution_count": null,
   "metadata": {},
   "outputs": [],
   "source": [
    "f6.mean(), a6.mean(), a6_tol.mean()"
   ]
  },
  {
   "cell_type": "code",
   "execution_count": null,
   "metadata": {},
   "outputs": [],
   "source": [
    "plt.figure(dpi = 100)\n",
    "sns.kdeplot(f6['cost'], label = '$\\Delta$f < tol')\n",
    "#sns.kdeplot(f6_75['cost'], label = '$\\Delta$f < tol, 75 повт.')\n",
    "sns.kdeplot(a6['cost'], label = '|$\\Delta$f| < tol')\n",
    "sns.kdeplot(a6_tol['cost'], label = '|$\\Delta$f| < 10 tol')\n",
    "sns.kdeplot(anal6['answers_table']['cost'], label = 'all')\n",
    "plt.legend()"
   ]
  },
  {
   "cell_type": "code",
   "execution_count": null,
   "metadata": {},
   "outputs": [],
   "source": [
    "plt.figure(dpi = 100)\n",
    "sns.kdeplot(f6['nfev'], label = '$\\Delta$f < tol')\n",
    "sns.kdeplot(a6['nfev'], label = '|$\\Delta$f| < tol')\n",
    "sns.kdeplot(a6_tol['nfev'], label = '|$\\Delta$f| < 10 tol')\n",
    "plt.legend(title = \"остановка при:\")"
   ]
  },
  {
   "cell_type": "code",
   "execution_count": null,
   "metadata": {},
   "outputs": [],
   "source": [
    "fh_6 = [RxCNOTCircuit(6, 1).optimize(cost_matrix_6, verbose = True)['cost_history'] for _ in range(4)]"
   ]
  },
  {
   "cell_type": "code",
   "execution_count": null,
   "metadata": {},
   "outputs": [],
   "source": [
    "plt.plot(pd.DataFrame(fh_6).transpose())"
   ]
  },
  {
   "cell_type": "code",
   "execution_count": null,
   "metadata": {},
   "outputs": [],
   "source": [
    "ah_6 = [RxCNOTCircuit(6, 1).optimize(cost_matrix_6, verbose = True, repetitions=75, abs = True)['cost_history'] for _ in range(4)]"
   ]
  },
  {
   "cell_type": "code",
   "execution_count": null,
   "metadata": {},
   "outputs": [],
   "source": [
    "plt.plot(pd.DataFrame(ah_6).transpose())\n",
    "plt.xlim(0, 50)"
   ]
  },
  {
   "cell_type": "code",
   "execution_count": null,
   "metadata": {},
   "outputs": [],
   "source": [
    "rolling_avs = [np.convolve(a, np.ones(3))/3 for a in ah_6]"
   ]
  },
  {
   "cell_type": "code",
   "execution_count": null,
   "metadata": {},
   "outputs": [],
   "source": [
    "plt.plot(pd.DataFrame(rolling_avs).transpose())"
   ]
  },
  {
   "cell_type": "markdown",
   "metadata": {},
   "source": [
    "### 8 Городов"
   ]
  },
  {
   "cell_type": "code",
   "execution_count": null,
   "metadata": {},
   "outputs": [],
   "source": [
    "anal8 = analytical(cost_matrix_8)\n",
    "anal8['answers_table'].iloc[[anal8['opt_perm_number']]]"
   ]
  },
  {
   "cell_type": "code",
   "execution_count": null,
   "metadata": {},
   "outputs": [],
   "source": [
    "f8 = extensively_test_circuit(cost_matrix_8, RxCNOTCircuit(8, 1))\n",
    "f8"
   ]
  },
  {
   "cell_type": "code",
   "execution_count": null,
   "metadata": {},
   "outputs": [],
   "source": [
    "f8.mean()"
   ]
  },
  {
   "cell_type": "code",
   "execution_count": null,
   "metadata": {},
   "outputs": [],
   "source": [
    "a8_tol = extensively_test_circuit(cost_matrix_8, RxCNOTCircuit(8, 1), tol = 1e-2, abs = True)\n",
    "a8_tol"
   ]
  },
  {
   "cell_type": "code",
   "execution_count": null,
   "metadata": {},
   "outputs": [],
   "source": [
    "plt.figure(dpi = 100)\n",
    "sns.kdeplot(f8['cost'], label = 'f8')\n",
    "sns.kdeplot(a8_tol['cost'], label = 'a8_tol')\n",
    "plt.legend()"
   ]
  },
  {
   "cell_type": "code",
   "execution_count": null,
   "metadata": {},
   "outputs": [],
   "source": [
    "plt.figure(dpi = 100)\n",
    "sns.kdeplot(f8['nfev'], label = 'f8')\n",
    "sns.kdeplot(a8_tol['nfev'], label = 'a8_tol')\n",
    "plt.legend()"
   ]
  },
  {
   "cell_type": "markdown",
   "metadata": {},
   "source": [
    "### 10 городов"
   ]
  },
  {
   "cell_type": "code",
   "execution_count": null,
   "metadata": {},
   "outputs": [],
   "source": [
    "anal10 = analytical(cost_matrix_10)\n",
    "anal10['answers_table'].iloc[[anal10['opt_perm_number']]]"
   ]
  },
  {
   "cell_type": "code",
   "execution_count": null,
   "metadata": {},
   "outputs": [],
   "source": [
    "# 30 min\n",
    "f10 = extensively_test_circuit(cost_matrix_10, RxCNOTCircuit(10, 1))\n",
    "f10"
   ]
  },
  {
   "cell_type": "code",
   "execution_count": null,
   "metadata": {},
   "outputs": [],
   "source": [
    "a10_tol = extensively_test_circuit(cost_matrix_10, RxCNOTCircuit(10, 1), abs = True, tol = 1e-2)\n",
    "a10_tol"
   ]
  },
  {
   "cell_type": "code",
   "execution_count": null,
   "metadata": {},
   "outputs": [],
   "source": [
    "f10.mean()"
   ]
  },
  {
   "cell_type": "code",
   "execution_count": null,
   "metadata": {},
   "outputs": [],
   "source": [
    "a10_tol.mean()"
   ]
  },
  {
   "cell_type": "code",
   "execution_count": null,
   "metadata": {},
   "outputs": [],
   "source": [
    "sns.kdeplot(f10['cost'] / anal10['answers_table']['cost'].mean())\n",
    "sns.kdeplot(a10_tol['cost'] / anal10['answers_table']['cost'].mean())"
   ]
  },
  {
   "cell_type": "markdown",
   "metadata": {},
   "source": [
    "### Сводная диаграмма"
   ]
  },
  {
   "cell_type": "code",
   "execution_count": null,
   "metadata": {},
   "outputs": [],
   "source": [
    "f4_ = f4[['cost', 'nfev']].copy()\n",
    "f4_['cost'] /= anal4['answers_table']['cost'].mean()\n",
    "\n",
    "f6_ = a6_tol[['cost', 'nfev']].copy()\n",
    "f6_['cost'] /= anal6['answers_table']['cost'].mean()\n",
    "\n",
    "f8_ = f8[['cost', 'nfev']].copy()\n",
    "f8_['cost'] /= anal8['answers_table']['cost'].mean()\n",
    "\n",
    "f10_ = a10_tol[['cost', 'nfev']].copy()\n",
    "f10_['cost'] /= anal10['answers_table']['cost'].mean()"
   ]
  },
  {
   "cell_type": "code",
   "execution_count": null,
   "metadata": {},
   "outputs": [],
   "source": [
    "f_all = pd.concat([f4_, f6_, f8_, f10_], keys = [4, 6, 8, 10], names = [\"n_towns\"])\n",
    "f_all"
   ]
  },
  {
   "cell_type": "code",
   "execution_count": null,
   "metadata": {},
   "outputs": [],
   "source": [
    "anal4_ = anal4['answers_table'] / anal4['answers_table']['cost'].mean()\n",
    "\n",
    "anal6_ = anal6['answers_table'] / anal6['answers_table']['cost'].mean()\n",
    "\n",
    "anal8_ = anal8['answers_table'] / anal8['answers_table']['cost'].mean()\n",
    "\n",
    "anal10_ = anal10['answers_table'] / anal10['answers_table']['cost'].mean()"
   ]
  },
  {
   "cell_type": "code",
   "execution_count": null,
   "metadata": {},
   "outputs": [],
   "source": [
    "anal_all = pd.concat([anal4_, anal6_, anal8_, anal10_], keys = [4, 6, 8, 10], names = [\"n_towns\"])"
   ]
  },
  {
   "cell_type": "code",
   "execution_count": null,
   "metadata": {},
   "outputs": [],
   "source": [
    "all_all = pd.concat([f_all, anal_all], keys = [\"anal\", \"f\"], names = [\"_\"])"
   ]
  },
  {
   "cell_type": "code",
   "execution_count": null,
   "metadata": {},
   "outputs": [],
   "source": [
    "normalized_best_costs = [\n",
    "    [4, anal4['answers_table']['cost'][anal4['opt_perm_number']] / anal4['answers_table']['cost'].mean()],\n",
    "    [6, anal6['answers_table']['cost'][anal6['opt_perm_number']] / anal6['answers_table']['cost'].mean()], \n",
    "    [8, anal8['answers_table']['cost'][anal8['opt_perm_number']] / anal8['answers_table']['cost'].mean()],\n",
    "    [10, anal10['answers_table']['cost'][anal10['opt_perm_number']] / anal10['answers_table']['cost'].mean()]\n",
    "]\n",
    "normalized_best_costs"
   ]
  },
  {
   "cell_type": "code",
   "execution_count": null,
   "metadata": {},
   "outputs": [],
   "source": [
    "true_sols = pd.DataFrame(normalized_best_costs, columns = [\"n_towns\", \"normalized_cost\"])"
   ]
  },
  {
   "cell_type": "code",
   "execution_count": null,
   "metadata": {},
   "outputs": [],
   "source": [
    "plt.figure(figsize = (6, 4.4), dpi = 100)\n",
    "sns.violinplot(data = all_all.reset_index(), \n",
    "               x = 'n_towns', y = 'cost', \n",
    "               hue = \"_\", \n",
    "               split = True, \n",
    "               linewidth = 0,\n",
    "               #bw = 0.25,\n",
    "               scale_hue = False,\n",
    "               #scale = \"width\"\n",
    "        )\n",
    "sns.stripplot(data = true_sols, x = 'n_towns', y = 'normalized_cost', color = 'black', jitter = False, label = 'точное решение', linewidth = 0.8, edgecolor = 'white')\n",
    "ax = plt.gca()\n",
    "handles, labels = ax.get_legend_handles_labels()\n",
    "ax.legend(handles = [handles[1], handles[0], handles[2]], labels = [\"до запуска алгоритма\", \"после запуска алгоритма\", \"точное решение\"])\n",
    "ax.set_xlabel(\"число городов\")\n",
    "ax.set_ylabel(\"нормированная стоимость\")\n",
    "plt.savefig(\"./violin.pdf\", dpi = 300, bbox_inches = \"tight\")"
   ]
  },
  {
   "cell_type": "markdown",
   "metadata": {},
   "source": [
    "### Сложность"
   ]
  },
  {
   "cell_type": "code",
   "execution_count": null,
   "metadata": {},
   "outputs": [],
   "source": []
  },
  {
   "cell_type": "code",
   "execution_count": null,
   "metadata": {},
   "outputs": [],
   "source": [
    "better_shares = [\n",
    "    np.sum(anal4['answers_table']['cost'] < f4['cost'].mean()) / factorials[4],\n",
    "    np.sum(anal6['answers_table']['cost'] < f6['cost'].mean()) / factorials[6],\n",
    "    np.sum(anal8['answers_table']['cost'] < f8['cost'].mean()) / factorials[8],\n",
    "    np.sum(anal10['answers_table']['cost'] < a10_tol['cost'].mean()) / factorials[10],\n",
    "]\n",
    "better_shares"
   ]
  },
  {
   "cell_type": "code",
   "execution_count": null,
   "metadata": {},
   "outputs": [],
   "source": [
    "1 / np.array(better_shares)"
   ]
  },
  {
   "cell_type": "code",
   "execution_count": null,
   "metadata": {},
   "outputs": [],
   "source": [
    "nfevs = [\n",
    "    f4['nfev'].mean(),\n",
    "    f6['nfev'].mean(),\n",
    "    f8['nfev'].mean(),\n",
    "    a10_tol['nfev'].mean(),\n",
    "]\n",
    "nfevs"
   ]
  },
  {
   "cell_type": "code",
   "execution_count": null,
   "metadata": {},
   "outputs": [],
   "source": [
    "performances = np.array(better_shares) * np.array(nfevs)"
   ]
  },
  {
   "cell_type": "code",
   "execution_count": null,
   "metadata": {},
   "outputs": [],
   "source": [
    "plt.plot(performances)"
   ]
  },
  {
   "cell_type": "code",
   "execution_count": null,
   "metadata": {},
   "outputs": [],
   "source": [
    "costs_4 = anal4['answers_table']['cost'].sort_values(ignore_index = True)\n",
    "costs_6 = anal6['answers_table']['cost'].sort_values(ignore_index = True)\n",
    "costs_8 = anal8['answers_table']['cost'].sort_values(ignore_index = True)\n",
    "costs_10 = anal10['answers_table']['cost'].sort_values(ignore_index = True)"
   ]
  },
  {
   "cell_type": "code",
   "execution_count": null,
   "metadata": {},
   "outputs": [],
   "source": [
    "def calc_nfev_bs(df, n_towns, all_costs_sorted):\n",
    "    df['rank'] = all_costs_sorted.searchsorted(df['cost'])\n",
    "    df['rank'] += np.isclose(df['cost'], all_costs_sorted[df['rank']]) # иначе иногда получается rank = 0\n",
    "    df['percentile_rank'] = df['rank'] / factorials[n_towns]\n",
    "    df['nfev * pr'] = df['nfev'] * df['percentile_rank']\n",
    "    df['N_cycles'] = df['nfev'] / np.ceil(np.log2(factorials[n_towns]))\n",
    "    return df"
   ]
  },
  {
   "cell_type": "code",
   "execution_count": null,
   "metadata": {},
   "outputs": [],
   "source": [
    "calc_nfev_bs(f4, 4, costs_4)\n",
    "calc_nfev_bs(a4, 4, costs_4)\n",
    "\n",
    "calc_nfev_bs(f6, 6, costs_6)\n",
    "calc_nfev_bs(a6, 6, costs_6)\n",
    "calc_nfev_bs(a6_tol, 6, costs_6)\n",
    "\n",
    "calc_nfev_bs(f8, 8, costs_8)\n",
    "calc_nfev_bs(a8_tol, 8, costs_8)\n",
    "\n",
    "calc_nfev_bs(f10, 10, costs_10)\n",
    "calc_nfev_bs(a10_tol, 10, costs_10);"
   ]
  },
  {
   "cell_type": "code",
   "execution_count": null,
   "metadata": {},
   "outputs": [],
   "source": [
    "f4['nfev * bs'] = f4['nfev'] * f4['better_share']\n",
    "f6['nfev * bs'] = f6['nfev'] * f6['better_share']\n",
    "f8['nfev * bs'] = f8['nfev'] * f8['better_share']\n",
    "f10['nfev * bs'] = f10['nfev'] * f10['better_share']\n",
    "\n",
    "a4['nfev * bs'] = a4['nfev'] * a4['better_share']\n",
    "a6['nfev * bs'] = a6['nfev'] * a6['better_share']\n",
    "a6_tol['nfev * bs'] = a6_tol['nfev'] * a6_tol['better_share']\n",
    "a8_tol['nfev * bs'] = a8_tol['nfev'] * a8_tol['better_share']\n",
    "a10_tol['nfev * bs'] = a10_tol['nfev'] * a10_tol['better_share']"
   ]
  },
  {
   "cell_type": "code",
   "execution_count": null,
   "metadata": {},
   "outputs": [],
   "source": [
    "a10_tol['nfev * bs'].median(), a10_tol['nfev * bs'].std()"
   ]
  },
  {
   "cell_type": "code",
   "execution_count": null,
   "metadata": {},
   "outputs": [],
   "source": [
    "trxye = pd.concat([f4, a6_tol, f8, a10_tol], keys = [4, 6, 8, 10], names = [\"n_towns\"])"
   ]
  },
  {
   "cell_type": "code",
   "execution_count": null,
   "metadata": {},
   "outputs": [],
   "source": [
    "sns.set_palette('muted')"
   ]
  },
  {
   "cell_type": "code",
   "execution_count": null,
   "metadata": {},
   "outputs": [],
   "source": [
    "plt.figure(figsize = (5, 3), dpi = 100)\n",
    "sns.boxplot(data = trxye.reset_index(), \n",
    "            x = 'n_towns', y = 'nfev * bs',\n",
    "            width = 0.7\n",
    "        )\n",
    "ax = plt.gca()\n",
    "ax.set_xlabel(\"число городов\")\n",
    "ax.set_ylabel(\"(nfev) × (percentile rank)\")\n",
    "ax.set_ylim(-0.1, 5)\n",
    "plt.fill_between([-0.5, 3.5], [1, 1], [5, 5], color = (0.4, 0.4, 0.5, 0.22))\n",
    "#plt.savefig(\"../tex/percentile.pdf\", dpi = 300, bbox_inches = \"tight\")"
   ]
  },
  {
   "cell_type": "code",
   "execution_count": null,
   "metadata": {},
   "outputs": [],
   "source": [
    "plt.figure(figsize = (7, 5.1), dpi = 100)\n",
    "sns.boxplot(data = trxye.reset_index(), \n",
    "            x = 'n_towns', y = 'N_cycles', \n",
    "        )\n",
    "ax = plt.gca()\n",
    "ax.set_xlabel(\"число городов\")\n",
    "#ax.set_ylabel(\"число затраченных циклов\")\n",
    "ax.set_ylim(0, 40)"
   ]
  },
  {
   "cell_type": "code",
   "execution_count": null,
   "metadata": {},
   "outputs": [],
   "source": [
    "from numpy import median"
   ]
  },
  {
   "cell_type": "code",
   "execution_count": null,
   "metadata": {},
   "outputs": [],
   "source": [
    "sns.pointplot(data = np.log(trxye['N_cycles']).reset_index(), x = 'n_towns', y = 'N_cycles',estimator = median)"
   ]
  },
  {
   "cell_type": "code",
   "execution_count": null,
   "metadata": {},
   "outputs": [],
   "source": []
  }
 ],
 "metadata": {
  "interpreter": {
   "hash": "df30e6bf5278a3537b48532e9b63bb2fb24294ca702fa1e8a294431e0b0acc2b"
  },
  "kernelspec": {
   "display_name": "Python 3.9.12 ('cirq')",
   "language": "python",
   "name": "python3"
  },
  "language_info": {
   "codemirror_mode": {
    "name": "ipython",
    "version": 3
   },
   "file_extension": ".py",
   "mimetype": "text/x-python",
   "name": "python",
   "nbconvert_exporter": "python",
   "pygments_lexer": "ipython3",
   "version": "3.9.12"
  },
  "orig_nbformat": 4
 },
 "nbformat": 4,
 "nbformat_minor": 2
}
