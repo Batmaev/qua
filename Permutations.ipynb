{
  "nbformat": 4,
  "nbformat_minor": 0,
  "metadata": {
    "interpreter": {
      "hash": "ed842573e7f1ac15cc54d2dd88a4c86bc618e4bb7a6e2a54562ba7147d681497"
    },
    "kernelspec": {
      "display_name": "Python 3.10.0 64-bit ('cirq': venv)",
      "name": "python3"
    },
    "language_info": {
      "codemirror_mode": {
        "name": "ipython",
        "version": 3
      },
      "file_extension": ".py",
      "mimetype": "text/x-python",
      "name": "python",
      "nbconvert_exporter": "python",
      "pygments_lexer": "ipython3",
      "version": "3.10.0"
    },
    "colab": {
      "name": "Permutations.ipynb",
      "provenance": [],
      "collapsed_sections": [],
      "include_colab_link": true
    }
  },
  "cells": [
    {
      "cell_type": "markdown",
      "metadata": {
        "id": "view-in-github",
        "colab_type": "text"
      },
      "source": [
        "<a href=\"https://colab.research.google.com/github/Batmaev/qua/blob/main/Permutations.ipynb\" target=\"_parent\"><img src=\"https://colab.research.google.com/assets/colab-badge.svg\" alt=\"Open In Colab\"/></a>"
      ]
    },
    {
      "cell_type": "code",
      "metadata": {
        "id": "1sHLYxo3OFcr"
      },
      "source": [
        "try:\n",
        "    import cirq\n",
        "except ImportError:\n",
        "    !pip install --quiet cirq --pre\n",
        "    import cirq\n",
        "import sympy\n",
        "import scipy.optimize\n",
        "import numpy as np"
      ],
      "execution_count": null,
      "outputs": []
    },
    {
      "cell_type": "markdown",
      "metadata": {
        "id": "jfczsm8YbuIu"
      },
      "source": [
        "# Задача коммивояжёра\n",
        "\n",
        "Ответом на задачу является последовательность, в которой мы посещаем города.\n",
        "\n",
        "Первый город можно выбрать $n$ способами. Если граф полный, то второй город можно выбрать $n-1$ способом, третий $n-2$ способами и так далее, суммарно $n!$ возможных последовательностей городов.\n",
        "\n",
        "Будем искать незамкнутые пути."
      ]
    },
    {
      "cell_type": "code",
      "metadata": {
        "id": "M7oLYTb9-PBL"
      },
      "source": [
        "# n_towns = 4"
      ],
      "execution_count": null,
      "outputs": []
    },
    {
      "cell_type": "code",
      "metadata": {
        "id": "d9NbpW5cOFcw"
      },
      "source": [
        "def create_cost_matrix(n_towns):\n",
        "   \"\"\"Рандомная симметричная матрица с положительными элементами, \n",
        "   которая хранит длины рёбер между каждой парой городов\"\"\"\n",
        "\n",
        "   A = np.random.random((n_towns, n_towns))\n",
        "   A -= np.tril(A)\n",
        "   \n",
        "   return A.T + A"
      ],
      "execution_count": null,
      "outputs": []
    },
    {
      "cell_type": "code",
      "metadata": {
        "id": "r1d3WAF98L4s"
      },
      "source": [
        "# cost_matrix_4 = create_cost_matrix(4)\n",
        "\n",
        "cost_matrix_4 = np.array([[0.        , 0.04711181, 0.01197604, 0.85992487],\n",
        "                          [0.04711181, 0.        , 0.68829915, 0.80606249],\n",
        "                          [0.01197604, 0.68829915, 0.        , 0.46924138],\n",
        "                          [0.85992487, 0.80606249, 0.46924138, 0.        ]])"
      ],
      "execution_count": null,
      "outputs": []
    },
    {
      "cell_type": "code",
      "metadata": {
        "id": "XupuQsMp3Pyg"
      },
      "source": [
        "def cost_of_permutation(cost_matrix, town_sequence):\n",
        "  cost = 0.0\n",
        "\n",
        "  for i in range(len(town_sequence)-1):\n",
        "    cost += cost_matrix [town_sequence[i]] [town_sequence[i+1]]\n",
        "  \n",
        "  return cost"
      ],
      "execution_count": null,
      "outputs": []
    },
    {
      "cell_type": "markdown",
      "metadata": {
        "id": "VyliWiQOdxU6"
      },
      "source": [
        "#### Аналитическое решение\n",
        "\n",
        "Переберём все перестановки в лексикографическом порядке.\n",
        "\n",
        "Будем итерироваться по номеру перестановки. Сначала переведём его в факториальную систему счисления [(factoradic)](https://en.wikipedia.org/wiki/Factorial_number_system). Полученные цифры будут совпадать с [кодом Лемера](https://en.wikipedia.org/wiki/Lehmer_code) перестановки. \n",
        "\n",
        "Затем по коду Лемера вычислим саму перестановку и затем её стоимость."
      ]
    },
    {
      "cell_type": "code",
      "metadata": {
        "id": "BKlh_Co7zEUC"
      },
      "source": [
        "# Для перевода из десятичной системы счисления в факториальную \n",
        "# понадобятся факториалы, поэтому вычислим их заранее:\n",
        "#\n",
        "# factorials[n] == n!\n",
        "\n",
        "factorials = [1]\n",
        "for i in range(30):\n",
        "  # Предполагаю, что n_towns < 30\n",
        "  factorials.append(factorials[i] * (i+1))"
      ],
      "execution_count": null,
      "outputs": []
    },
    {
      "cell_type": "code",
      "metadata": {
        "id": "Xy45oiiF8xmK"
      },
      "source": [
        "def factoradic_from_perm_number(perm_number : int, factoradic_array):\n",
        "  \"\"\"Преобразует число в факториальную систему счисления.\n",
        "  Записывает полученные цифры в factoradic_array.\n",
        "  Нулевая цифра в массиве - самая значимая. Последняя цифра всегда равна 0.\n",
        "  Алгоритм из https://en.wikipedia.org/wiki/Factorial_number_system#Definition \"\"\"\n",
        "\n",
        "  N = perm_number\n",
        "  n_towns = len(factoradic_array)\n",
        "\n",
        "  for i in range(len(factoradic_array)):\n",
        "    factoradic_array[i] = N // factorials[n_towns - i - 1]\n",
        "    N %= factorials[n_towns - i - 1]\n",
        "  \n",
        "  return factoradic_array"
      ],
      "execution_count": null,
      "outputs": []
    },
    {
      "cell_type": "code",
      "metadata": {
        "id": "6TDClEwksCPI"
      },
      "source": [
        "def permutation_from_factoradic(nums : np.ndarray):\n",
        "  \"\"\"Перезаписывает массив nums.\n",
        "  Если изначально там находилось число в факториальной системе, то потом там будет находиться перестановка.\n",
        "  Города в полученной перестановке нумеруются с 0. \n",
        "  Алгоритм из https://en.wikipedia.org/wiki/Lehmer_code#Encoding_and_decoding \"\"\"\n",
        "  for i in range(len(nums)-2, -1, -1):\n",
        "    for j in range(i+1, len(nums)):\n",
        "      if(nums[j] >= nums[i]):\n",
        "        nums[j] += 1\n",
        "  return nums"
      ],
      "execution_count": null,
      "outputs": []
    },
    {
      "cell_type": "code",
      "metadata": {
        "colab": {
          "base_uri": "https://localhost:8080/"
        },
        "id": "TY41NYsU2LVk",
        "outputId": "dd2de704-6c7a-43a4-e46e-15d981e1a23d"
      },
      "source": [
        "# Тест из Википедии\n",
        "permutation_from_factoradic([1, 4, 0, 3, 1, 1, 0]) \\\n",
        "                         == [1, 5, 0, 6, 3, 4, 2]"
      ],
      "execution_count": null,
      "outputs": [
        {
          "output_type": "execute_result",
          "data": {
            "text/plain": [
              "True"
            ]
          },
          "metadata": {},
          "execution_count": 8
        }
      ]
    },
    {
      "cell_type": "code",
      "metadata": {
        "id": "GolD8Qbq39I7"
      },
      "source": [
        "def analytical(cost_matrix):\n",
        "\n",
        "  n_towns = len(cost_matrix)\n",
        "\n",
        "  factoradic_array = np.ndarray(n_towns, int)\n",
        "\n",
        "  min_cost = np.inf\n",
        "  opt_perm_number = np.nan\n",
        "\n",
        "  for perm_number in range(factorials[n_towns]):\n",
        "    cost = cost_of_permutation(\n",
        "        cost_matrix,\n",
        "        permutation_from_factoradic(\n",
        "            factoradic_from_perm_number(perm_number, factoradic_array)\n",
        "            )\n",
        "        )\n",
        "    if cost < min_cost:\n",
        "      min_cost = cost\n",
        "      opt_perm_number = perm_number\n",
        "\n",
        "  return {\"min_cost\": min_cost, \n",
        "          \"order_of_towns\": permutation_from_factoradic(\n",
        "              factoradic_from_perm_number(opt_perm_number, factoradic_array)\n",
        "            )}"
      ],
      "execution_count": null,
      "outputs": []
    },
    {
      "cell_type": "code",
      "metadata": {
        "colab": {
          "base_uri": "https://localhost:8080/"
        },
        "id": "JpNl0CDU_tVx",
        "outputId": "50fcd4dc-5f57-4ba6-a436-8613b611502c"
      },
      "source": [
        "analytical(cost_matrix_4)"
      ],
      "execution_count": null,
      "outputs": [
        {
          "output_type": "execute_result",
          "data": {
            "text/plain": [
              "{'min_cost': 0.52832923, 'order_of_towns': array([1, 0, 2, 3])}"
            ]
          },
          "metadata": {},
          "execution_count": 10
        }
      ]
    },
    {
      "cell_type": "markdown",
      "metadata": {
        "id": "GiOIrx_zOFcz"
      },
      "source": [
        "## Цепь"
      ]
    },
    {
      "cell_type": "code",
      "metadata": {
        "id": "NeohnFKZOFc1"
      },
      "source": [
        "class FactoradicCirquit:\n",
        "   \"\"\"\n",
        "Схема из нескольких пар слоёв Rx и CNOT.\n",
        "Может подобрать оптимальные углы для гейтов Rx.\n",
        "\n",
        "3-я цифра ├ 0: ───Rx(a_0)───@───────────────────Rx(a_6)────@───────────────────\n",
        "                            │                              │\n",
        "    2-ая  ┌ 1: ───Rx(a_1)───X───@───────────────Rx(a_7)────X───@───────────────\n",
        "    цифра |                     │                              │\n",
        "          └ 2: ───Rx(a_2)───────X───@───────────Rx(a_8)────────X───@───────────\n",
        "                                    │                              │\n",
        "          ┌ 3: ───Rx(a_3)───────────X───@───────Rx(a_9)────────────X───@───────\n",
        "    1-ая  |                             │                              │\n",
        "    цифра | 4: ───Rx(a_4)───────────────X───@───Rx(a_10)───────────────X───@───\n",
        "          |                                 │                              │\n",
        "          └ 5: ───Rx(a_5)───────────────────X───Rx(a_11)───────────────────X───\n",
        "\n",
        "Блоки из кубитов кодируют цифры в факториальной системе счисления.\n",
        "Закодированная цифра равна числу кубитов в блоке таких, что |<1|ψ>| > 0.5\n",
        "   \"\"\"\n",
        "\n",
        "   def __init__(self, n_towns, n_layer_pairs):\n",
        "      # n_qubits = 1 + 2 + ... + n-1 = (n-1)n/2\n",
        "      n_qubits = (n_towns - 1) * n_towns // 2\n",
        "\n",
        "      self.qubits = cirq.LineQubit.range(n_qubits)\n",
        "      self.circuit = cirq.Circuit()\n",
        "      self.observables = [(cirq.Z(qubit)+1)/2 for qubit in self.qubits]\n",
        "      self.simulator = cirq.Simulator()\n",
        "\n",
        "      self._factoradic_array = np.ndarray(n_towns, int)\n",
        "\n",
        "      self._angle_names = [f'a_{i}' for i in range(n_layer_pairs * n_qubits)]\n",
        "      angle_symbols = sympy.symbols(self._angle_names)\n",
        "\n",
        "\n",
        "      for layer_pair in range(n_layer_pairs):\n",
        "          rx_gates = [cirq.rx(angle)(qubit)\n",
        "                      for (angle, qubit)\n",
        "                      in zip(angle_symbols[layer_pair*n_qubits : (layer_pair+1)*n_qubits],    self.qubits) ]\n",
        "          self.circuit.append(cirq.Moment(rx_gates))\n",
        "\n",
        "          cnot_gates = [cirq.CNOT(q1, q2)\n",
        "                        for (q1, q2)\n",
        "                        in zip(self.qubits, self.qubits[1:]) ]\n",
        "          self.circuit.append(cnot_gates)\n",
        "\n",
        "\n",
        "   def __str__(self):\n",
        "      return self.circuit.__str__()\n",
        "\n",
        "   def _repr_pretty_(self, *args):\n",
        "      \"Text output in Jupyter\"\n",
        "      return self.circuit._repr_pretty_(*args)\n",
        "\n",
        "\n",
        "   def calc_observables(self, angles, initial_state=None):\n",
        "      \"\"\"\n",
        "      Аргумент 'angles' должен быть массивом длины n_qubits * n_layer_pairs,\n",
        "      где n_qubits = n_towns * (n_towns - 1) / 2.\n",
        "      \"\"\"\n",
        "\n",
        "      params = cirq.ParamResolver({\n",
        "         name: value for (name, value) in\n",
        "         zip(self._angle_names, angles)\n",
        "      })\n",
        "\n",
        "      return self.simulator.simulate_expectation_values_sweep(\n",
        "         self.circuit, self.observables, params, initial_state=initial_state\n",
        "      )\n",
        "\n",
        "\n",
        "   def calc_factoradic(self, angles, initial_state = None):\n",
        "      \"\"\"\n",
        "      Запускает симуляцию с заданными углами для гейтов Rx\n",
        "      и возвращает номер полученной перестановки в факториальной системе счисления.\n",
        "      Этот номер в виде массива цифр также записывается в self._factoradic_array.\n",
        "      \"\"\"\n",
        "\n",
        "      [bits] = np.real(self.calc_observables(angles, initial_state))\n",
        "      # Значения observbles лежат от 0 до 1. Округлим их, чтобы получить нули и единицы.\n",
        "      bits = np.rint(bits)\n",
        "\n",
        "\n",
        "      bit_pos = 0\n",
        "      for digit_number_from_end in range(len(self._factoradic_array)):\n",
        "\n",
        "        # Нулевая цифра с конца равна нулю.\n",
        "        # Первая цифра с конца меньше либо равна 1, вторая - меньше либо равна 2 и так далее.\n",
        "        #\n",
        "        # Для каждой цифры суммируем digit_number_from_end элементов массива bits.\n",
        "\n",
        "        digit_value = 0\n",
        "        for _ in range(digit_number_from_end):\n",
        "          digit_value += bits[bit_pos]\n",
        "          bit_pos += 1 \n",
        "\n",
        "        self._factoradic_array[- 1 - digit_number_from_end] = digit_value\n",
        "\n",
        "      return self._factoradic_array\n",
        "\n",
        "\n",
        "   def cost(self, angles, cost_matrix, initial_state=None):\n",
        "      self.calc_factoradic(angles, initial_state)\n",
        "      return cost_of_permutation(\n",
        "          cost_matrix,\n",
        "          permutation_from_factoradic(self._factoradic_array)\n",
        "      )\n",
        "\n",
        "\n",
        "   def optimize_without_constraints(self, cost_matrix, optimizer = scipy.optimize.basinhopping,\n",
        "                                    initial_state = None, **optimizer_kwargs):\n",
        "      \"\"\"\n",
        "      Вызывает функцию, заданную в аргументе optimizer.\n",
        "      С её помощью подбирает параметры гейтов так,\n",
        "      чтобы минимизировать суммарную длину пути в задаче коммивояжёра.\n",
        "      Маршрут вычисляется на основе округлённых до 0 и 1 средних значений наблюдаемых,\n",
        "      заданных в self.observables.\n",
        "\n",
        "      Args:\n",
        "\n",
        "       cost_matrix - матрица размером n_towns × n_towns такая, что\n",
        "                     cost_matrix[i][j] есть длина пути между городами i и j\n",
        "\n",
        "       optimizer - одна из функций https://docs.scipy.org/doc/scipy/reference/optimize.html#global-optimization\n",
        "\n",
        "      \"\"\"\n",
        "\n",
        "      cost_lambda  = lambda angles : self.cost(angles, cost_matrix, initial_state)\n",
        "\n",
        "      if optimizer == scipy.optimize.basinhopping:\n",
        "         if 'x0' in optimizer_kwargs:\n",
        "            return optimizer(cost_lambda, **optimizer_kwargs)\n",
        "         else:\n",
        "            x0 = [2 * np.pi * (np.random.random() - 0.5)\n",
        "                            for _ in self._angle_names]\n",
        "            return optimizer(cost_lambda, x0, **optimizer_kwargs)\n",
        "      else:\n",
        "         if 'bounds' in optimizer_kwargs:\n",
        "            return optimizer(cost_lambda, **optimizer_kwargs)\n",
        "         else:\n",
        "            bounds = [(-np.pi, np.pi) for _ in self._angle_names]\n",
        "            return optimizer(cost_lambda, bounds, **optimizer_kwargs)"
      ],
      "execution_count": null,
      "outputs": []
    },
    {
      "cell_type": "code",
      "metadata": {
        "colab": {
          "base_uri": "https://localhost:8080/"
        },
        "id": "ijj0rJJ6aByN",
        "outputId": "a1810f27-7984-42c8-c22f-dbf7f4d5493c"
      },
      "source": [
        "qaoaInstance_4_1 = FactoradicCirquit(n_towns = 4, n_layer_pairs = 1)\n",
        "qaoaInstance_4_1"
      ],
      "execution_count": null,
      "outputs": [
        {
          "output_type": "execute_result",
          "data": {
            "text/plain": [
              "0: ───Rx(a_0)───@───────────────────\n",
              "                │\n",
              "1: ───Rx(a_1)───X───@───────────────\n",
              "                    │\n",
              "2: ───Rx(a_2)───────X───@───────────\n",
              "                        │\n",
              "3: ───Rx(a_3)───────────X───@───────\n",
              "                            │\n",
              "4: ───Rx(a_4)───────────────X───@───\n",
              "                                │\n",
              "5: ───Rx(a_5)───────────────────X───"
            ]
          },
          "metadata": {},
          "execution_count": 12
        }
      ]
    },
    {
      "cell_type": "markdown",
      "metadata": {
        "id": "SIVtMz-gw-_E"
      },
      "source": [
        "В качестве классического оптимизатора я пробовал использовать:\n",
        "\n",
        "| Алгоритм | Комментарий | Максимальная протестированная цепь |\n",
        "|---------:|-------------|---------------|\n",
        "|`scipy.optimize.basinhopping`| быстро работает, но не всегда точно, может понадобиться запустить несколько раз| 6 городов, 2 пары слоёв (2 min) |\n",
        "| `dual_annealing` | хорошо работает, но медленно | 6 городов, 1 пара слоёв (14 min) |\n",
        "|`differential_evolution` | хорошо работает, но медленно | 6 городов, 1 пара слоёв (22 min) |\n",
        "| `shgo` | плохо работает |\n",
        "\n",
        "По умолчанию используется `basinhopping`."
      ]
    },
    {
      "cell_type": "code",
      "metadata": {
        "colab": {
          "base_uri": "https://localhost:8080/"
        },
        "id": "cb9w2__haVPB",
        "outputId": "2d3a955f-f9ff-45a1-c80c-ad3e4cd7c58d"
      },
      "source": [
        "# with scipy.optimize.basinhopping\n",
        "optimizeResult_4_1 = qaoaInstance_4_1.optimize_without_constraints(cost_matrix_4)\n",
        "optimizeResult_4_1"
      ],
      "execution_count": null,
      "outputs": [
        {
          "output_type": "execute_result",
          "data": {
            "text/plain": [
              "                        fun: 0.52832923\n",
              " lowest_optimization_result:       fun: 0.52832923\n",
              " hess_inv: array([[1, 0, 0, 0, 0, 0],\n",
              "       [0, 1, 0, 0, 0, 0],\n",
              "       [0, 0, 1, 0, 0, 0],\n",
              "       [0, 0, 0, 1, 0, 0],\n",
              "       [0, 0, 0, 0, 1, 0],\n",
              "       [0, 0, 0, 0, 0, 1]])\n",
              "      jac: array([0., 0., 0., 0., 0., 0.])\n",
              "  message: 'Optimization terminated successfully.'\n",
              "     nfev: 7\n",
              "      nit: 0\n",
              "     njev: 1\n",
              "   status: 0\n",
              "  success: True\n",
              "        x: array([2.06846712, 1.56650307, 0.34412043, 1.15650966, 1.04056943,\n",
              "       2.4276422 ])\n",
              "                    message: ['requested number of basinhopping iterations completed successfully']\n",
              "      minimization_failures: 0\n",
              "                       nfev: 777\n",
              "                        nit: 100\n",
              "                       njev: 111\n",
              "                          x: array([2.06846712, 1.56650307, 0.34412043, 1.15650966, 1.04056943,\n",
              "       2.4276422 ])"
            ]
          },
          "metadata": {},
          "execution_count": 15
        }
      ]
    },
    {
      "cell_type": "code",
      "metadata": {
        "colab": {
          "base_uri": "https://localhost:8080/"
        },
        "id": "j_GoTO-Eapzs",
        "outputId": "624480a9-600f-427c-d09d-b319023dc2f8"
      },
      "source": [
        "# Вычислим найденную перестановку\n",
        "# (Сейчас совпало с аналитическим решением)\n",
        "permutation_from_factoradic(\n",
        " qaoaInstance_4_1.calc_factoradic(optimizeResult_4_1.x)   \n",
        ")"
      ],
      "execution_count": null,
      "outputs": [
        {
          "output_type": "execute_result",
          "data": {
            "text/plain": [
              "array([1, 0, 2, 3])"
            ]
          },
          "metadata": {},
          "execution_count": 16
        }
      ]
    },
    {
      "cell_type": "markdown",
      "metadata": {
        "id": "bZ3QCvErVdnK"
      },
      "source": [
        "### Повторим процедуру для другого числа слоёв"
      ]
    },
    {
      "cell_type": "code",
      "metadata": {
        "colab": {
          "base_uri": "https://localhost:8080/"
        },
        "id": "9Amh4-S0OFc4",
        "outputId": "be3bf712-6e82-439c-8ef5-59191b2f1a1f"
      },
      "source": [
        "qaoaInstance_4_2 = FactoradicCirquit(4, 2)\n",
        "qaoaInstance_4_2"
      ],
      "execution_count": null,
      "outputs": [
        {
          "output_type": "execute_result",
          "data": {
            "text/plain": [
              "0: ───Rx(a_0)───@───────────────────Rx(a_6)────@───────────────────\n",
              "                │                              │\n",
              "1: ───Rx(a_1)───X───@───────────────Rx(a_7)────X───@───────────────\n",
              "                    │                              │\n",
              "2: ───Rx(a_2)───────X───@───────────Rx(a_8)────────X───@───────────\n",
              "                        │                              │\n",
              "3: ───Rx(a_3)───────────X───@───────Rx(a_9)────────────X───@───────\n",
              "                            │                              │\n",
              "4: ───Rx(a_4)───────────────X───@───Rx(a_10)───────────────X───@───\n",
              "                                │                              │\n",
              "5: ───Rx(a_5)───────────────────X───Rx(a_11)───────────────────X───"
            ]
          },
          "metadata": {},
          "execution_count": 17
        }
      ]
    },
    {
      "cell_type": "code",
      "metadata": {
        "colab": {
          "base_uri": "https://localhost:8080/"
        },
        "id": "JoQ4nb04OFc6",
        "outputId": "7d4d7e4d-2224-42c3-d4dd-74468f4570df"
      },
      "source": [
        "optimizeResult_4_2 = qaoaInstance_4_2.optimize_without_constraints(cost_matrix_4)\n",
        "optimizeResult_4_2"
      ],
      "execution_count": null,
      "outputs": [
        {
          "output_type": "execute_result",
          "data": {
            "text/plain": [
              "                        fun: 0.52832923\n",
              " lowest_optimization_result:       fun: 0.52832923\n",
              " hess_inv: array([[1, 0, 0, 0, 0, 0, 0, 0, 0, 0, 0, 0],\n",
              "       [0, 1, 0, 0, 0, 0, 0, 0, 0, 0, 0, 0],\n",
              "       [0, 0, 1, 0, 0, 0, 0, 0, 0, 0, 0, 0],\n",
              "       [0, 0, 0, 1, 0, 0, 0, 0, 0, 0, 0, 0],\n",
              "       [0, 0, 0, 0, 1, 0, 0, 0, 0, 0, 0, 0],\n",
              "       [0, 0, 0, 0, 0, 1, 0, 0, 0, 0, 0, 0],\n",
              "       [0, 0, 0, 0, 0, 0, 1, 0, 0, 0, 0, 0],\n",
              "       [0, 0, 0, 0, 0, 0, 0, 1, 0, 0, 0, 0],\n",
              "       [0, 0, 0, 0, 0, 0, 0, 0, 1, 0, 0, 0],\n",
              "       [0, 0, 0, 0, 0, 0, 0, 0, 0, 1, 0, 0],\n",
              "       [0, 0, 0, 0, 0, 0, 0, 0, 0, 0, 1, 0],\n",
              "       [0, 0, 0, 0, 0, 0, 0, 0, 0, 0, 0, 1]])\n",
              "      jac: array([0., 0., 0., 0., 0., 0., 0., 0., 0., 0., 0., 0.])\n",
              "  message: 'Optimization terminated successfully.'\n",
              "     nfev: 13\n",
              "      nit: 0\n",
              "     njev: 1\n",
              "   status: 0\n",
              "  success: True\n",
              "        x: array([ 1.87255714, -3.67280128,  0.36844108, -2.04150122,  2.61531993,\n",
              "        1.2071472 ,  1.26572708,  0.44710062, -2.34341103,  2.75215245,\n",
              "        2.19068359,  5.27793585])\n",
              "                    message: ['requested number of basinhopping iterations completed successfully']\n",
              "      minimization_failures: 0\n",
              "                       nfev: 1313\n",
              "                        nit: 100\n",
              "                       njev: 101\n",
              "                          x: array([ 1.87255714, -3.67280128,  0.36844108, -2.04150122,  2.61531993,\n",
              "        1.2071472 ,  1.26572708,  0.44710062, -2.34341103,  2.75215245,\n",
              "        2.19068359,  5.27793585])"
            ]
          },
          "metadata": {},
          "execution_count": 18
        }
      ]
    },
    {
      "cell_type": "code",
      "metadata": {
        "colab": {
          "base_uri": "https://localhost:8080/"
        },
        "id": "YYPEzMBsy6kG",
        "outputId": "5fb019f3-8d0a-4909-9929-a3f69d47235b"
      },
      "source": [
        "# Найдённое решение совпало с аналитическим\n",
        "permutation_from_factoradic(\n",
        " qaoaInstance_4_2.calc_factoradic(optimizeResult_4_2.x)   \n",
        ")"
      ],
      "execution_count": null,
      "outputs": [
        {
          "output_type": "execute_result",
          "data": {
            "text/plain": [
              "array([1, 0, 2, 3])"
            ]
          },
          "metadata": {},
          "execution_count": 19
        }
      ]
    },
    {
      "cell_type": "markdown",
      "metadata": {
        "id": "p_A0rc7oT7Ux"
      },
      "source": [
        "### Повторим процедуру c бóльшим числом городов"
      ]
    },
    {
      "cell_type": "code",
      "metadata": {
        "id": "YEgC-gai-TAD"
      },
      "source": [
        "# n_towns = 6"
      ],
      "execution_count": null,
      "outputs": []
    },
    {
      "cell_type": "code",
      "metadata": {
        "id": "jBgJQEPX0PAk"
      },
      "source": [
        "# cost_matrix_6 = create_cost_matrix(6)"
      ],
      "execution_count": null,
      "outputs": []
    },
    {
      "cell_type": "code",
      "metadata": {
        "id": "dw-8YHDq2dY8"
      },
      "source": [
        "cost_matrix_6 = np.array([[0.        , 0.641366  , 0.91674456, 0.6834148 , 0.72798224, 0.70088125],\n",
        "                          [0.641366  , 0.        , 0.52118999, 0.97268979, 0.04808934, 0.55098949],\n",
        "                          [0.91674456, 0.52118999, 0.        , 0.2881217 , 0.94889384, 0.41340382],\n",
        "                          [0.6834148 , 0.97268979, 0.2881217 , 0.        , 0.67249453, 0.75849091],\n",
        "                          [0.72798224, 0.04808934, 0.94889384, 0.67249453, 0.        , 0.81587317],\n",
        "                          [0.70088125, 0.55098949, 0.41340382, 0.75849091, 0.81587317, 0.        ]])"
      ],
      "execution_count": null,
      "outputs": []
    },
    {
      "cell_type": "code",
      "metadata": {
        "colab": {
          "base_uri": "https://localhost:8080/"
        },
        "id": "98srEptt0dmu",
        "outputId": "b0423790-2607-49d6-fc55-a26dcb0969d6"
      },
      "source": [
        "analytical(cost_matrix_6)"
      ],
      "execution_count": null,
      "outputs": [
        {
          "output_type": "execute_result",
          "data": {
            "text/plain": [
              "{'min_cost': 1.98401915, 'order_of_towns': array([4, 1, 5, 2, 3, 0])}"
            ]
          },
          "metadata": {},
          "execution_count": 16
        }
      ]
    },
    {
      "cell_type": "code",
      "metadata": {
        "id": "_iqozHw45i4E",
        "colab": {
          "base_uri": "https://localhost:8080/"
        },
        "outputId": "8ddf8361-e936-446c-fe0b-e78bec5425c5"
      },
      "source": [
        "qaoaInstance_6_1 = FactoradicCirquit(6, 1)\n",
        "qaoaInstance_6_1"
      ],
      "execution_count": null,
      "outputs": [
        {
          "output_type": "execute_result",
          "data": {
            "text/plain": [
              "0: ────Rx(a_0)────@───────────────────────────────────────────────────────\n",
              "                  │\n",
              "1: ────Rx(a_1)────X───@───────────────────────────────────────────────────\n",
              "                      │\n",
              "2: ────Rx(a_2)────────X───@───────────────────────────────────────────────\n",
              "                          │\n",
              "3: ────Rx(a_3)────────────X───@───────────────────────────────────────────\n",
              "                              │\n",
              "4: ────Rx(a_4)────────────────X───@───────────────────────────────────────\n",
              "                                  │\n",
              "5: ────Rx(a_5)────────────────────X───@───────────────────────────────────\n",
              "                                      │\n",
              "6: ────Rx(a_6)────────────────────────X───@───────────────────────────────\n",
              "                                          │\n",
              "7: ────Rx(a_7)────────────────────────────X───@───────────────────────────\n",
              "                                              │\n",
              "8: ────Rx(a_8)────────────────────────────────X───@───────────────────────\n",
              "                                                  │\n",
              "9: ────Rx(a_9)────────────────────────────────────X───@───────────────────\n",
              "                                                      │\n",
              "10: ───Rx(a_10)───────────────────────────────────────X───@───────────────\n",
              "                                                          │\n",
              "11: ───Rx(a_11)───────────────────────────────────────────X───@───────────\n",
              "                                                              │\n",
              "12: ───Rx(a_12)───────────────────────────────────────────────X───@───────\n",
              "                                                                  │\n",
              "13: ───Rx(a_13)───────────────────────────────────────────────────X───@───\n",
              "                                                                      │\n",
              "14: ───Rx(a_14)───────────────────────────────────────────────────────X───"
            ]
          },
          "metadata": {},
          "execution_count": 26
        }
      ]
    },
    {
      "cell_type": "code",
      "metadata": {
        "colab": {
          "base_uri": "https://localhost:8080/"
        },
        "id": "2rIv0AXe7XG7",
        "outputId": "2bf54fb8-6a92-41a3-ae5b-4ce3cef43f6f"
      },
      "source": [
        "# 1 min; правильный результат получился с 3 попытки\n",
        "optimizeResult_6_1 = qaoaInstance_6_1.optimize_without_constraints(cost_matrix_6)\n",
        "optimizeResult_6_1"
      ],
      "execution_count": null,
      "outputs": [
        {
          "output_type": "execute_result",
          "data": {
            "text/plain": [
              "                        fun: 1.98401915\n",
              " lowest_optimization_result:       fun: 1.98401915\n",
              " hess_inv: array([[1, 0, 0, 0, 0, 0, 0, 0, 0, 0, 0, 0, 0, 0, 0],\n",
              "       [0, 1, 0, 0, 0, 0, 0, 0, 0, 0, 0, 0, 0, 0, 0],\n",
              "       [0, 0, 1, 0, 0, 0, 0, 0, 0, 0, 0, 0, 0, 0, 0],\n",
              "       [0, 0, 0, 1, 0, 0, 0, 0, 0, 0, 0, 0, 0, 0, 0],\n",
              "       [0, 0, 0, 0, 1, 0, 0, 0, 0, 0, 0, 0, 0, 0, 0],\n",
              "       [0, 0, 0, 0, 0, 1, 0, 0, 0, 0, 0, 0, 0, 0, 0],\n",
              "       [0, 0, 0, 0, 0, 0, 1, 0, 0, 0, 0, 0, 0, 0, 0],\n",
              "       [0, 0, 0, 0, 0, 0, 0, 1, 0, 0, 0, 0, 0, 0, 0],\n",
              "       [0, 0, 0, 0, 0, 0, 0, 0, 1, 0, 0, 0, 0, 0, 0],\n",
              "       [0, 0, 0, 0, 0, 0, 0, 0, 0, 1, 0, 0, 0, 0, 0],\n",
              "       [0, 0, 0, 0, 0, 0, 0, 0, 0, 0, 1, 0, 0, 0, 0],\n",
              "       [0, 0, 0, 0, 0, 0, 0, 0, 0, 0, 0, 1, 0, 0, 0],\n",
              "       [0, 0, 0, 0, 0, 0, 0, 0, 0, 0, 0, 0, 1, 0, 0],\n",
              "       [0, 0, 0, 0, 0, 0, 0, 0, 0, 0, 0, 0, 0, 1, 0],\n",
              "       [0, 0, 0, 0, 0, 0, 0, 0, 0, 0, 0, 0, 0, 0, 1]])\n",
              "      jac: array([0., 0., 0., 0., 0., 0., 0., 0., 0., 0., 0., 0., 0., 0., 0.])\n",
              "  message: 'Optimization terminated successfully.'\n",
              "     nfev: 16\n",
              "      nit: 0\n",
              "     njev: 1\n",
              "   status: 0\n",
              "  success: True\n",
              "        x: array([-0.86751609,  0.06781947, -3.65873669, -1.68742467,  0.89851628,\n",
              "        5.26879097, -1.69961872,  1.44198919,  3.792449  ,  2.24693774,\n",
              "       -2.45696556,  0.6151751 ,  1.83445813, -2.80091404,  0.72087561])\n",
              "                    message: ['requested number of basinhopping iterations completed successfully']\n",
              "      minimization_failures: 0\n",
              "                       nfev: 1776\n",
              "                        nit: 100\n",
              "                       njev: 111\n",
              "                          x: array([-0.86751609,  0.06781947, -3.65873669, -1.68742467,  0.89851628,\n",
              "        5.26879097, -1.69961872,  1.44198919,  3.792449  ,  2.24693774,\n",
              "       -2.45696556,  0.6151751 ,  1.83445813, -2.80091404,  0.72087561])"
            ]
          },
          "metadata": {},
          "execution_count": 76
        }
      ]
    },
    {
      "cell_type": "code",
      "metadata": {
        "colab": {
          "base_uri": "https://localhost:8080/"
        },
        "id": "Q8DFbEmzGELp",
        "outputId": "0c6c8bfe-ae72-4a72-b87d-5535e436fb2e"
      },
      "source": [
        "# Найденное решение совпало с аналитическим, но города идут в обратном порядке\n",
        "permutation_from_factoradic(\n",
        " qaoaInstance_6_1.calc_factoradic(optimizeResult_6_1.x)   \n",
        ")"
      ],
      "execution_count": null,
      "outputs": [
        {
          "output_type": "execute_result",
          "data": {
            "text/plain": [
              "array([4, 1, 5, 2, 3, 0])"
            ]
          },
          "metadata": {},
          "execution_count": 78
        }
      ]
    },
    {
      "cell_type": "markdown",
      "metadata": {
        "id": "se3VCFHeOlMq"
      },
      "source": [
        "### Повторим процедуру с другими классическими алгоритмами"
      ]
    },
    {
      "cell_type": "code",
      "metadata": {
        "colab": {
          "base_uri": "https://localhost:8080/"
        },
        "id": "IQo_QTelOmo5",
        "outputId": "057997b8-19ec-40c4-b701-235c046fc5a1"
      },
      "source": [
        "# 14 min\n",
        "optimizeResult_6_1_dual_annealing = \\\n",
        "      qaoaInstance_6_1.optimize_without_constraints(cost_matrix_6, scipy.optimize.dual_annealing)\n",
        "\n",
        "# Правильный результат fun с первой попытки\n",
        "optimizeResult_6_1_dual_annealing"
      ],
      "execution_count": null,
      "outputs": [
        {
          "output_type": "execute_result",
          "data": {
            "text/plain": [
              "     fun: 1.98401915\n",
              " message: ['Maximum number of iteration reached']\n",
              "    nfev: 30065\n",
              "    nhev: 0\n",
              "     nit: 1000\n",
              "    njev: 4\n",
              "  status: 0\n",
              " success: True\n",
              "       x: array([-1.27603555, -0.12620801,  1.71307007,  1.88765894, -0.56034365,\n",
              "       -1.10659781,  2.63195353,  1.39154285,  2.44487135, -1.73855537,\n",
              "       -2.45242554, -2.54673846,  1.78854471, -0.88641502,  0.62889439])"
            ]
          },
          "metadata": {},
          "execution_count": 24
        }
      ]
    },
    {
      "cell_type": "code",
      "metadata": {
        "colab": {
          "base_uri": "https://localhost:8080/"
        },
        "id": "qBrb1rMWP5Db",
        "outputId": "5d8c0818-dd46-44f8-efc9-1b6a20c4be55"
      },
      "source": [
        "# 22 min\n",
        "optimizeResult_6_1_differential_evolution = \\\n",
        "      qaoaInstance_6_1.optimize_without_constraints(cost_matrix_6, scipy.optimize.differential_evolution)\n",
        "\n",
        "# Правильный результат fun с первой попытки\n",
        "optimizeResult_6_1_differential_evolution"
      ],
      "execution_count": null,
      "outputs": [
        {
          "output_type": "execute_result",
          "data": {
            "text/plain": [
              "     fun: 1.98401915\n",
              " message: 'Optimization terminated successfully.'\n",
              "    nfev: 45916\n",
              "     nit: 203\n",
              " success: True\n",
              "       x: array([-1.07983279,  1.23363206, -1.85081767, -1.75983306, -0.77134198,\n",
              "        1.3020096 ,  2.51769799,  0.76962934,  1.97038225, -1.85314893,\n",
              "        1.60192788,  2.44207473, -1.72526104,  0.56719756,  0.86617056])"
            ]
          },
          "metadata": {},
          "execution_count": 27
        }
      ]
    },
    {
      "cell_type": "markdown",
      "metadata": {
        "id": "rWkkqvndv970"
      },
      "source": [
        "### Когда алгоритм не справляется"
      ]
    },
    {
      "cell_type": "code",
      "metadata": {
        "colab": {
          "base_uri": "https://localhost:8080/"
        },
        "id": "9m9sICm6trQq",
        "outputId": "5b14b87f-2282-4214-d66f-64e2477ad4d4"
      },
      "source": [
        "# Увеличим число слоёв до двух\n",
        "qaoaInstance_6_2 = FactoradicCirquit(6, 2)\n",
        "qaoaInstance_6_2"
      ],
      "execution_count": null,
      "outputs": [
        {
          "output_type": "execute_result",
          "data": {
            "text/plain": [
              "0: ────Rx(a_0)────@───────────────────────────────────────────────────────Rx(a_15)───@───────────────────────────────────────────────────────\n",
              "                  │                                                                  │\n",
              "1: ────Rx(a_1)────X───@───────────────────────────────────────────────────Rx(a_16)───X───@───────────────────────────────────────────────────\n",
              "                      │                                                                  │\n",
              "2: ────Rx(a_2)────────X───@───────────────────────────────────────────────Rx(a_17)───────X───@───────────────────────────────────────────────\n",
              "                          │                                                                  │\n",
              "3: ────Rx(a_3)────────────X───@───────────────────────────────────────────Rx(a_18)───────────X───@───────────────────────────────────────────\n",
              "                              │                                                                  │\n",
              "4: ────Rx(a_4)────────────────X───@───────────────────────────────────────Rx(a_19)───────────────X───@───────────────────────────────────────\n",
              "                                  │                                                                  │\n",
              "5: ────Rx(a_5)────────────────────X───@───────────────────────────────────Rx(a_20)───────────────────X───@───────────────────────────────────\n",
              "                                      │                                                                  │\n",
              "6: ────Rx(a_6)────────────────────────X───@───────────────────────────────Rx(a_21)───────────────────────X───@───────────────────────────────\n",
              "                                          │                                                                  │\n",
              "7: ────Rx(a_7)────────────────────────────X───@───────────────────────────Rx(a_22)───────────────────────────X───@───────────────────────────\n",
              "                                              │                                                                  │\n",
              "8: ────Rx(a_8)────────────────────────────────X───@───────────────────────Rx(a_23)───────────────────────────────X───@───────────────────────\n",
              "                                                  │                                                                  │\n",
              "9: ────Rx(a_9)────────────────────────────────────X───@───────────────────Rx(a_24)───────────────────────────────────X───@───────────────────\n",
              "                                                      │                                                                  │\n",
              "10: ───Rx(a_10)───────────────────────────────────────X───@───────────────Rx(a_25)───────────────────────────────────────X───@───────────────\n",
              "                                                          │                                                                  │\n",
              "11: ───Rx(a_11)───────────────────────────────────────────X───@───────────Rx(a_26)───────────────────────────────────────────X───@───────────\n",
              "                                                              │                                                                  │\n",
              "12: ───Rx(a_12)───────────────────────────────────────────────X───@───────Rx(a_27)───────────────────────────────────────────────X───@───────\n",
              "                                                                  │                                                                  │\n",
              "13: ───Rx(a_13)───────────────────────────────────────────────────X───@───Rx(a_28)───────────────────────────────────────────────────X───@───\n",
              "                                                                      │                                                                  │\n",
              "14: ───Rx(a_14)───────────────────────────────────────────────────────X───Rx(a_29)───────────────────────────────────────────────────────X───"
            ]
          },
          "metadata": {},
          "execution_count": 19
        }
      ]
    },
    {
      "cell_type": "code",
      "metadata": {
        "colab": {
          "base_uri": "https://localhost:8080/"
        },
        "id": "0zlmlDQ7tx0E",
        "outputId": "3829f175-e875-4d71-f4d8-7833cbc043b8"
      },
      "source": [
        "# 2 min\n",
        "qaoaInstance_6_2.optimize_without_constraints(cost_matrix_6)"
      ],
      "execution_count": null,
      "outputs": [
        {
          "output_type": "execute_result",
          "data": {
            "text/plain": [
              "                        fun: 2.0285865899999997\n",
              " lowest_optimization_result:       fun: 2.0285865899999997\n",
              " hess_inv: array([[1, 0, 0, 0, 0, 0, 0, 0, 0, 0, 0, 0, 0, 0, 0, 0, 0, 0, 0, 0, 0, 0,\n",
              "        0, 0, 0, 0, 0, 0, 0, 0],\n",
              "       [0, 1, 0, 0, 0, 0, 0, 0, 0, 0, 0, 0, 0, 0, 0, 0, 0, 0, 0, 0, 0, 0,\n",
              "        0, 0, 0, 0, 0, 0, 0, 0],\n",
              "       [0, 0, 1, 0, 0, 0, 0, 0, 0, 0, 0, 0, 0, 0, 0, 0, 0, 0, 0, 0, 0, 0,\n",
              "        0, 0, 0, 0, 0, 0, 0, 0],\n",
              "       [0, 0, 0, 1, 0, 0, 0, 0, 0, 0, 0, 0, 0, 0, 0, 0, 0, 0, 0, 0, 0, 0,\n",
              "        0, 0, 0, 0, 0, 0, 0, 0],\n",
              "       [0, 0, 0, 0, 1, 0, 0, 0, 0, 0, 0, 0, 0, 0, 0, 0, 0, 0, 0, 0, 0, 0,\n",
              "        0, 0, 0, 0, 0, 0, 0, 0],\n",
              "       [0, 0, 0, 0, 0, 1, 0, 0, 0, 0, 0, 0, 0, 0, 0, 0, 0, 0, 0, 0, 0, 0,\n",
              "        0, 0, 0, 0, 0, 0, 0, 0],\n",
              "       [0, 0, 0, 0, 0, 0, 1, 0, 0, 0, 0, 0, 0, 0, 0, 0, 0, 0, 0, 0, 0, 0,\n",
              "        0, 0, 0, 0, 0, 0, 0, 0],\n",
              "       [0, 0, 0, 0, 0, 0, 0, 1, 0, 0, 0, 0, 0, 0, 0, 0, 0, 0, 0, 0, 0, 0,\n",
              "        0, 0, 0, 0, 0, 0, 0, 0],\n",
              "       [0, 0, 0, 0, 0, 0, 0, 0, 1, 0, 0, 0, 0, 0, 0, 0, 0, 0, 0, 0, 0, 0,\n",
              "        0, 0, 0, 0, 0, 0, 0, 0],\n",
              "       [0, 0, 0, 0, 0, 0, 0, 0, 0, 1, 0, 0, 0, 0, 0, 0, 0, 0, 0, 0, 0, 0,\n",
              "        0, 0, 0, 0, 0, 0, 0, 0],\n",
              "       [0, 0, 0, 0, 0, 0, 0, 0, 0, 0, 1, 0, 0, 0, 0, 0, 0, 0, 0, 0, 0, 0,\n",
              "        0, 0, 0, 0, 0, 0, 0, 0],\n",
              "       [0, 0, 0, 0, 0, 0, 0, 0, 0, 0, 0, 1, 0, 0, 0, 0, 0, 0, 0, 0, 0, 0,\n",
              "        0, 0, 0, 0, 0, 0, 0, 0],\n",
              "       [0, 0, 0, 0, 0, 0, 0, 0, 0, 0, 0, 0, 1, 0, 0, 0, 0, 0, 0, 0, 0, 0,\n",
              "        0, 0, 0, 0, 0, 0, 0, 0],\n",
              "       [0, 0, 0, 0, 0, 0, 0, 0, 0, 0, 0, 0, 0, 1, 0, 0, 0, 0, 0, 0, 0, 0,\n",
              "        0, 0, 0, 0, 0, 0, 0, 0],\n",
              "       [0, 0, 0, 0, 0, 0, 0, 0, 0, 0, 0, 0, 0, 0, 1, 0, 0, 0, 0, 0, 0, 0,\n",
              "        0, 0, 0, 0, 0, 0, 0, 0],\n",
              "       [0, 0, 0, 0, 0, 0, 0, 0, 0, 0, 0, 0, 0, 0, 0, 1, 0, 0, 0, 0, 0, 0,\n",
              "        0, 0, 0, 0, 0, 0, 0, 0],\n",
              "       [0, 0, 0, 0, 0, 0, 0, 0, 0, 0, 0, 0, 0, 0, 0, 0, 1, 0, 0, 0, 0, 0,\n",
              "        0, 0, 0, 0, 0, 0, 0, 0],\n",
              "       [0, 0, 0, 0, 0, 0, 0, 0, 0, 0, 0, 0, 0, 0, 0, 0, 0, 1, 0, 0, 0, 0,\n",
              "        0, 0, 0, 0, 0, 0, 0, 0],\n",
              "       [0, 0, 0, 0, 0, 0, 0, 0, 0, 0, 0, 0, 0, 0, 0, 0, 0, 0, 1, 0, 0, 0,\n",
              "        0, 0, 0, 0, 0, 0, 0, 0],\n",
              "       [0, 0, 0, 0, 0, 0, 0, 0, 0, 0, 0, 0, 0, 0, 0, 0, 0, 0, 0, 1, 0, 0,\n",
              "        0, 0, 0, 0, 0, 0, 0, 0],\n",
              "       [0, 0, 0, 0, 0, 0, 0, 0, 0, 0, 0, 0, 0, 0, 0, 0, 0, 0, 0, 0, 1, 0,\n",
              "        0, 0, 0, 0, 0, 0, 0, 0],\n",
              "       [0, 0, 0, 0, 0, 0, 0, 0, 0, 0, 0, 0, 0, 0, 0, 0, 0, 0, 0, 0, 0, 1,\n",
              "        0, 0, 0, 0, 0, 0, 0, 0],\n",
              "       [0, 0, 0, 0, 0, 0, 0, 0, 0, 0, 0, 0, 0, 0, 0, 0, 0, 0, 0, 0, 0, 0,\n",
              "        1, 0, 0, 0, 0, 0, 0, 0],\n",
              "       [0, 0, 0, 0, 0, 0, 0, 0, 0, 0, 0, 0, 0, 0, 0, 0, 0, 0, 0, 0, 0, 0,\n",
              "        0, 1, 0, 0, 0, 0, 0, 0],\n",
              "       [0, 0, 0, 0, 0, 0, 0, 0, 0, 0, 0, 0, 0, 0, 0, 0, 0, 0, 0, 0, 0, 0,\n",
              "        0, 0, 1, 0, 0, 0, 0, 0],\n",
              "       [0, 0, 0, 0, 0, 0, 0, 0, 0, 0, 0, 0, 0, 0, 0, 0, 0, 0, 0, 0, 0, 0,\n",
              "        0, 0, 0, 1, 0, 0, 0, 0],\n",
              "       [0, 0, 0, 0, 0, 0, 0, 0, 0, 0, 0, 0, 0, 0, 0, 0, 0, 0, 0, 0, 0, 0,\n",
              "        0, 0, 0, 0, 1, 0, 0, 0],\n",
              "       [0, 0, 0, 0, 0, 0, 0, 0, 0, 0, 0, 0, 0, 0, 0, 0, 0, 0, 0, 0, 0, 0,\n",
              "        0, 0, 0, 0, 0, 1, 0, 0],\n",
              "       [0, 0, 0, 0, 0, 0, 0, 0, 0, 0, 0, 0, 0, 0, 0, 0, 0, 0, 0, 0, 0, 0,\n",
              "        0, 0, 0, 0, 0, 0, 1, 0],\n",
              "       [0, 0, 0, 0, 0, 0, 0, 0, 0, 0, 0, 0, 0, 0, 0, 0, 0, 0, 0, 0, 0, 0,\n",
              "        0, 0, 0, 0, 0, 0, 0, 1]])\n",
              "      jac: array([0., 0., 0., 0., 0., 0., 0., 0., 0., 0., 0., 0., 0., 0., 0., 0., 0.,\n",
              "       0., 0., 0., 0., 0., 0., 0., 0., 0., 0., 0., 0., 0.])\n",
              "  message: 'Optimization terminated successfully.'\n",
              "     nfev: 31\n",
              "      nit: 0\n",
              "     njev: 1\n",
              "   status: 0\n",
              "  success: True\n",
              "        x: array([-0.61498601,  1.40191049, -5.1137854 ,  4.83003118,  1.0353062 ,\n",
              "       -1.34775413,  4.93400262,  0.10225572,  0.30881759, -1.31536103,\n",
              "        1.69933676, -3.7930043 ,  0.31632281,  2.35752691, -1.48521089,\n",
              "       -0.30629236, -3.51553447,  2.81828715,  1.82694233,  2.8797388 ,\n",
              "       -0.60368036,  1.39478736,  1.89542249,  1.50159803, -1.64234193,\n",
              "        0.57837023, -1.40156785, -1.5481881 ,  1.08503962, -2.18766793])\n",
              "                    message: ['requested number of basinhopping iterations completed successfully']\n",
              "      minimization_failures: 0\n",
              "                       nfev: 3131\n",
              "                        nit: 100\n",
              "                       njev: 101\n",
              "                          x: array([-0.61498601,  1.40191049, -5.1137854 ,  4.83003118,  1.0353062 ,\n",
              "       -1.34775413,  4.93400262,  0.10225572,  0.30881759, -1.31536103,\n",
              "        1.69933676, -3.7930043 ,  0.31632281,  2.35752691, -1.48521089,\n",
              "       -0.30629236, -3.51553447,  2.81828715,  1.82694233,  2.8797388 ,\n",
              "       -0.60368036,  1.39478736,  1.89542249,  1.50159803, -1.64234193,\n",
              "        0.57837023, -1.40156785, -1.5481881 ,  1.08503962, -2.18766793])"
            ]
          },
          "metadata": {},
          "execution_count": 24
        }
      ]
    },
    {
      "cell_type": "markdown",
      "metadata": {
        "id": "G-UqhCqVFEzl"
      },
      "source": [
        "Не совпало с костом аналитического решения (1.984). Я сделал 5 попыток.\n",
        "\n",
        "Я попробовал использовать другие алгоритмы для оптимизации (`scipy.optimize.dual_annealing` и `differential_evolution`), но они работали дольше 40 минут и я их прервал.\n",
        "\n",
        "По-видимому, два слоя -- это слишком много."
      ]
    },
    {
      "cell_type": "code",
      "metadata": {
        "id": "-UUqGLEyK1uc"
      },
      "source": [
        ""
      ],
      "execution_count": null,
      "outputs": []
    },
    {
      "cell_type": "markdown",
      "metadata": {
        "id": "oWea9jZFRJxE"
      },
      "source": [
        "Семь городов требуют 21 кубит и считаются бесконечно долго."
      ]
    },
    {
      "cell_type": "markdown",
      "metadata": {
        "id": "lIy017PzSp9L"
      },
      "source": [
        "Восемь городов требуют 28 кубитов. Cirq не может такое промоделировать из-за\n",
        "\n",
        "(1) ошибок округления  \n",
        "\n",
        "(2) и из-за того, что в Google Colab недостаточно оперативной памяти."
      ]
    },
    {
      "cell_type": "markdown",
      "metadata": {
        "id": "qjGHI9KrTIx-"
      },
      "source": [
        "## Вывод\n",
        "\n",
        "1. С ростом количества параметров классический оптимизатор в QAOA работает всё хуже и хуже. \n"
      ]
    },
    {
      "cell_type": "markdown",
      "metadata": {
        "id": "_2wjewNlTL3E"
      },
      "source": [
        "2. Кажется, что наличие квантовой схемы делает оптимизацию только сложнее.\n",
        "\n",
        " Можно было с тем же успехом вместо квантовой цепи использовать какую-то произвольную формулу с параметром, скажем, \n",
        "$$x_n = \\operatorname{round}\\bigl(\\sin^2(\\theta_n)\\bigr), \\qquad n = 1,\\: 2 \\ldots \\text{n_qubits}$$\n",
        "На основе битов $x_n$ можно вычислить перестановку и её стоимость. Параметры $\\theta_n$ можно варьировать.\n",
        "\n",
        " Всё будет подобно коду, написанному выше. Только вместо квантовой цепи будет классическая формула.\n",
        "\n",
        " Я не проверял, но думаю, что тогда алгоритм оптимизации сойдётся за плюс-минус такое же количество итераций, что и в случае наличия квантовой цепи."
      ]
    },
    {
      "cell_type": "markdown",
      "metadata": {
        "id": "pkUardm_0pKq"
      },
      "source": [
        "3. Возможно, стоит использовать какой-то другой набор гейтов вместо `Rx` и `CNOT`. \n",
        "\n",
        "4. Но, кажется, чтобы квантовая цепь давала хоть какой-то выигрыш, эволюция состояния должна зависеть от матрицы расстояний между городами. Цепь должна как бы знать кост-функцию.\n",
        "\n",
        " Я не знаю, какие есть хорошие способы этого добиться."
      ]
    },
    {
      "cell_type": "code",
      "metadata": {
        "id": "2T5YX3znSlIJ"
      },
      "source": [
        ""
      ],
      "execution_count": null,
      "outputs": []
    }
  ]
}