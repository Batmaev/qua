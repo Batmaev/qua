{
  "nbformat": 4,
  "nbformat_minor": 0,
  "metadata": {
    "interpreter": {
      "hash": "ed842573e7f1ac15cc54d2dd88a4c86bc618e4bb7a6e2a54562ba7147d681497"
    },
    "kernelspec": {
      "display_name": "Python 3.10.0 64-bit ('cirq': venv)",
      "name": "python3"
    },
    "language_info": {
      "codemirror_mode": {
        "name": "ipython",
        "version": 3
      },
      "file_extension": ".py",
      "mimetype": "text/x-python",
      "name": "python",
      "nbconvert_exporter": "python",
      "pygments_lexer": "ipython3",
      "version": "3.10.0"
    },
    "colab": {
      "name": "Permutations.ipynb",
      "provenance": [],
      "collapsed_sections": [],
      "include_colab_link": true
    }
  },
  "cells": [
    {
      "cell_type": "markdown",
      "metadata": {
        "id": "view-in-github",
        "colab_type": "text"
      },
      "source": [
        "<a href=\"https://colab.research.google.com/github/Batmaev/qua/blob/main/Permutations.ipynb\" target=\"_parent\"><img src=\"https://colab.research.google.com/assets/colab-badge.svg\" alt=\"Open In Colab\"/></a>"
      ]
    },
    {
      "cell_type": "code",
      "metadata": {
        "id": "1sHLYxo3OFcr"
      },
      "source": [
        "try:\n",
        "    import cirq\n",
        "except ImportError:\n",
        "    !pip install --quiet cirq --pre\n",
        "    import cirq\n",
        "import sympy\n",
        "from scipy.optimize import *\n",
        "import numpy as np"
      ],
      "execution_count": null,
      "outputs": []
    },
    {
      "cell_type": "markdown",
      "metadata": {
        "id": "jfczsm8YbuIu"
      },
      "source": [
        "# Задача коммивояжёра\n",
        "\n",
        "Ответом на задачу является последовательность, в которой мы посещаем города.\n",
        "\n",
        "Первый город можно выбрать $n$ способами. Если граф полный, то второй город можно выбрать $n-1$ способом, третий $n-2$ способами и так далее, суммарно $n!$ возможных последовательностей городов.\n",
        "\n",
        "Будем искать незамкнутые пути."
      ]
    },
    {
      "cell_type": "code",
      "metadata": {
        "id": "M7oLYTb9-PBL"
      },
      "source": [
        "# n_towns = 4"
      ],
      "execution_count": null,
      "outputs": []
    },
    {
      "cell_type": "code",
      "metadata": {
        "id": "d9NbpW5cOFcw"
      },
      "source": [
        "def create_cost_matrix(n_towns):\n",
        "   \"\"\"Рандомная симметричная матрица с положительными элементами, \n",
        "   которая хранит длины рёбер между каждой парой городов\"\"\"\n",
        "\n",
        "   A = np.random.random((n_towns, n_towns))\n",
        "   A -= np.tril(A)\n",
        "   \n",
        "   return A.T + A"
      ],
      "execution_count": null,
      "outputs": []
    },
    {
      "cell_type": "code",
      "metadata": {
        "id": "r1d3WAF98L4s"
      },
      "source": [
        "# cost_matrix_4 = create_cost_matrix(4)\n",
        "\n",
        "cost_matrix_4 = np.array([[0.        , 0.04711181, 0.01197604, 0.85992487],\n",
        "                          [0.04711181, 0.        , 0.68829915, 0.80606249],\n",
        "                          [0.01197604, 0.68829915, 0.        , 0.46924138],\n",
        "                          [0.85992487, 0.80606249, 0.46924138, 0.        ]])"
      ],
      "execution_count": null,
      "outputs": []
    },
    {
      "cell_type": "code",
      "metadata": {
        "id": "XupuQsMp3Pyg"
      },
      "source": [
        "def cost_of_permutation(cost_matrix, town_sequence):\n",
        "  cost = 0.0\n",
        "\n",
        "  for i in range(len(town_sequence)-1):\n",
        "    cost += cost_matrix [town_sequence[i]] [town_sequence[i+1]]\n",
        "  \n",
        "  return cost"
      ],
      "execution_count": null,
      "outputs": []
    },
    {
      "cell_type": "markdown",
      "metadata": {
        "id": "VyliWiQOdxU6"
      },
      "source": [
        "#### Аналитическое решение\n",
        "\n",
        "Переберём все перестановки в лексикографическом порядке.\n",
        "\n",
        "Будем итерироваться по номеру перестановки. Сначала переведём его в факториальную систему счисления [(factoradic)](https://en.wikipedia.org/wiki/Factorial_number_system). Полученные цифры будут совпадать с [кодом Лемера](https://en.wikipedia.org/wiki/Lehmer_code) перестановки. \n",
        "\n",
        "Затем по коду Лемера вычислим саму перестановку и затем её стоимость."
      ]
    },
    {
      "cell_type": "code",
      "metadata": {
        "id": "BKlh_Co7zEUC"
      },
      "source": [
        "# Для перевода из десятичной системы счисления в факториальную \n",
        "# понадобятся факториалы, поэтому вычислим их заранее:\n",
        "#\n",
        "# factorials[n] == n!\n",
        "\n",
        "factorials = [1]\n",
        "for i in range(30):\n",
        "  # Предполагаю, что n_towns < 30\n",
        "  factorials.append(factorials[i] * (i+1))"
      ],
      "execution_count": null,
      "outputs": []
    },
    {
      "cell_type": "code",
      "metadata": {
        "id": "Xy45oiiF8xmK"
      },
      "source": [
        "def factoradic_from_perm_number(perm_number : int, factoradic_array):\n",
        "  \"\"\"Преобразует число в факториальную систему счисления.\n",
        "  Записывает полученные цифры в factoradic_array.\n",
        "  Нулевая цифра в массиве - самая значимая. Последняя цифра всегда равна 0.\n",
        "  Алгоритм из https://en.wikipedia.org/wiki/Factorial_number_system#Definition \"\"\"\n",
        "\n",
        "  N = perm_number\n",
        "  n_towns = len(factoradic_array)\n",
        "\n",
        "  for i in range(len(factoradic_array)):\n",
        "    factoradic_array[i] = N // factorials[n_towns - i - 1]\n",
        "    N %= factorials[n_towns - i - 1]\n",
        "  \n",
        "  return factoradic_array"
      ],
      "execution_count": null,
      "outputs": []
    },
    {
      "cell_type": "code",
      "metadata": {
        "id": "6TDClEwksCPI"
      },
      "source": [
        "def permutation_from_factoradic(nums : np.ndarray):\n",
        "  \"\"\"Перезаписывает массив nums.\n",
        "  Если изначально там находилось число в факториальной системе, то потом там будет находиться перестановка.\n",
        "  Города в полученной перестановке нумеруются с 0. \n",
        "  Алгоритм из https://en.wikipedia.org/wiki/Lehmer_code#Encoding_and_decoding \"\"\"\n",
        "  for i in range(len(nums)-2, -1, -1):\n",
        "    for j in range(i+1, len(nums)):\n",
        "      if(nums[j] >= nums[i]):\n",
        "        nums[j] += 1\n",
        "  return nums"
      ],
      "execution_count": null,
      "outputs": []
    },
    {
      "cell_type": "code",
      "metadata": {
        "colab": {
          "base_uri": "https://localhost:8080/"
        },
        "id": "TY41NYsU2LVk",
        "outputId": "d5381684-c8fc-42e1-f94c-c11bfe37a2a7"
      },
      "source": [
        "# Тест из Википедии\n",
        "permutation_from_factoradic([1, 4, 0, 3, 1, 1, 0]) \\\n",
        "                         == [1, 5, 0, 6, 3, 4, 2]"
      ],
      "execution_count": null,
      "outputs": [
        {
          "output_type": "execute_result",
          "data": {
            "text/plain": [
              "True"
            ]
          },
          "metadata": {},
          "execution_count": 9
        }
      ]
    },
    {
      "cell_type": "code",
      "metadata": {
        "id": "GolD8Qbq39I7"
      },
      "source": [
        "def analytical(cost_matrix):\n",
        "\n",
        "  n_towns = len(cost_matrix)\n",
        "\n",
        "  factoradic_array = np.ndarray(n_towns, int)\n",
        "\n",
        "  min_cost = np.inf\n",
        "  opt_perm_number = np.nan\n",
        "\n",
        "  for perm_number in range(factorials[n_towns]):\n",
        "    cost = cost_of_permutation(\n",
        "        cost_matrix,\n",
        "        permutation_from_factoradic(\n",
        "            factoradic_from_perm_number(perm_number, factoradic_array)\n",
        "            )\n",
        "        )\n",
        "    if cost < min_cost:\n",
        "      min_cost = cost\n",
        "      opt_perm_number = perm_number\n",
        "\n",
        "  return {\"min_cost\": min_cost, \n",
        "          \"order_of_towns\": permutation_from_factoradic(\n",
        "              factoradic_from_perm_number(opt_perm_number, factoradic_array)\n",
        "            )}"
      ],
      "execution_count": null,
      "outputs": []
    },
    {
      "cell_type": "code",
      "metadata": {
        "colab": {
          "base_uri": "https://localhost:8080/"
        },
        "id": "JpNl0CDU_tVx",
        "outputId": "daf62eaf-ed2c-43d6-b22c-685f1a0f5c95"
      },
      "source": [
        "analytical(cost_matrix_4)"
      ],
      "execution_count": null,
      "outputs": [
        {
          "output_type": "execute_result",
          "data": {
            "text/plain": [
              "{'min_cost': 0.52832923, 'order_of_towns': array([1, 0, 2, 3])}"
            ]
          },
          "metadata": {},
          "execution_count": 11
        }
      ]
    },
    {
      "cell_type": "markdown",
      "metadata": {
        "id": "GiOIrx_zOFcz"
      },
      "source": [
        "## Цепь"
      ]
    },
    {
      "cell_type": "code",
      "metadata": {
        "id": "NeohnFKZOFc1"
      },
      "source": [
        "class FactoradicCirquit:\n",
        "   \"\"\"\n",
        "Схема из нескольких пар слоёв Rx и CNOT.\n",
        "Может подобрать оптимальные углы для гейтов Rx.\n",
        "\n",
        "3-я цифра ├ 0: ───Rx(a_0)───@───────────────────Rx(a_6)────@───────────────────M──\n",
        "                            │                              │\n",
        "    2-ая  ┌ 1: ───Rx(a_1)───X───@───────────────Rx(a_7)────X───@───────────────M──\n",
        "    цифра |                     │                              │\n",
        "          └ 2: ───Rx(a_2)───────X───@───────────Rx(a_8)────────X───@───────────M──\n",
        "                                    │                              │\n",
        "          ┌ 3: ───Rx(a_3)───────────X───@───────Rx(a_9)────────────X───@───────M──\n",
        "    1-ая  |                             │                              │\n",
        "    цифра | 4: ───Rx(a_4)───────────────X───@───Rx(a_10)───────────────X───@───M──\n",
        "          |                                 │                              │\n",
        "          └ 5: ───Rx(a_5)───────────────────X───Rx(a_11)───────────────────X───M──\n",
        "\n",
        "Блоки из кубитов кодируют цифры в факториальной системе счисления.\n",
        "Закодированная цифра равна сумме единиц, получившихся в результате измерения.\n",
        "   \"\"\"\n",
        "\n",
        "   def __init__(self, n_towns, n_layer_pairs):\n",
        "      # n_qubits = 1 + 2 + ... + n-1 = (n-1)n/2\n",
        "      n_qubits = (n_towns - 1) * n_towns // 2\n",
        "\n",
        "      self.qubits = cirq.LineQubit.range(n_qubits)\n",
        "      self.circuit = cirq.Circuit()\n",
        "      self.simulator = cirq.Simulator()\n",
        "\n",
        "      self._town_sequence = np.ndarray(n_towns, int)\n",
        "\n",
        "      self._angle_names = [f'a_{i}' for i in range(n_layer_pairs * n_qubits)]\n",
        "      angle_symbols = sympy.symbols(self._angle_names)\n",
        "\n",
        "\n",
        "      for layer_pair in range(n_layer_pairs):\n",
        "          rx_gates = [cirq.rx(angle)(qubit)\n",
        "                      for (angle, qubit)\n",
        "                      in zip(angle_symbols[layer_pair*n_qubits : (layer_pair+1)*n_qubits],    self.qubits) ]\n",
        "          self.circuit.append(cirq.Moment(rx_gates))\n",
        "\n",
        "          cnot_gates = [cirq.CNOT(q1, q2)\n",
        "                        for (q1, q2)\n",
        "                        in zip(self.qubits, self.qubits[1:]) ]\n",
        "          self.circuit.append(cnot_gates)\n",
        "\n",
        "      measurements = cirq.measure_each(*self.qubits)\n",
        "      self.circuit.append(cirq.Moment(measurements))\n",
        "\n",
        "\n",
        "   def measure(self, angles, repetitions = 1):\n",
        "      \"\"\"\n",
        "      Аргумент 'angles' должен быть массивом длины n_qubits * n_layer_pairs,\n",
        "      где n_qubits = n_towns * (n_towns - 1) / 2.\n",
        "      \"\"\"\n",
        "\n",
        "      params = cirq.ParamResolver({\n",
        "         name: value for (name, value) in\n",
        "         zip(self._angle_names, angles)\n",
        "      })\n",
        "\n",
        "      return self.simulator.run_sweep(self.circuit, params, repetitions)[0]\n",
        "\n",
        "\n",
        "   def town_sequence_from_bits(self, bits):\n",
        "      \"\"\"Вычисляет перестановку на основе результатов измерений\n",
        "      записывает её в self._town_sequence и возвращает её\"\"\"\n",
        "\n",
        "      # Сначала запишем в self._town_sequence номер перестановки \n",
        "      # в факториальной системе счисления, а потом вычислим саму перестановку\n",
        "      # при помощи внешней функции permutation_from_factoradic\n",
        "\n",
        "      bit_pos = 0\n",
        "      for digit_number_from_end in range(len(self._town_sequence)):\n",
        "\n",
        "        # Нулевая цифра с конца равна нулю.\n",
        "        # Первая цифра с конца меньше либо равна 1, вторая - меньше либо равна 2 и так далее.\n",
        "        #\n",
        "        # Для каждой цифры суммируем digit_number_from_end элементов массива bits.\n",
        "\n",
        "        digit_value = 0\n",
        "        for _ in range(digit_number_from_end):\n",
        "          digit_value += bits[bit_pos]\n",
        "          bit_pos += 1 \n",
        "\n",
        "        self._town_sequence[- 1 - digit_number_from_end] = digit_value\n",
        "\n",
        "      return permutation_from_factoradic(self._town_sequence)\n",
        "\n",
        "\n",
        "   def cost_of_bits(self, bits, cost_matrix):\n",
        "      \"Вычисляет по последовательности битов перестановку и её стоимость\"\n",
        "      return cost_of_permutation(\n",
        "          cost_matrix,\n",
        "          self.town_sequence_from_bits(bits)\n",
        "      )\n",
        "\n",
        "\n",
        "   def costs(self, angles, cost_matrix, repetitions):\n",
        "      \"\"\"Чтобы погрешность среднего была меньше 10^-3, \n",
        "      repetitions должно быть порядка миллиона\"\"\"\n",
        "\n",
        "      measurementDataFrame = self.measure(angles, repetitions).data\n",
        "\n",
        "      return measurementDataFrame.apply(\n",
        "          self.cost_of_bits, \n",
        "          axis = 1, raw = True, args = (cost_matrix,)\n",
        "          )\n",
        "\n",
        "\n",
        "   def optimize_without_constraints(self, cost_matrix, \n",
        "                                    optimizer = differential_evolution,\n",
        "                                    repetitions = 100,\n",
        "                                    **optimizer_kwargs):\n",
        "      \"\"\"\n",
        "      Вызывает функцию, заданную в аргументе optimizer.\n",
        "      С её помощью подбирает параметры гейтов так,\n",
        "      чтобы решить задачу коммивояжёра.\n",
        "      Маршрут вычисляется на основе результатов измерений снова и снова,\n",
        "      а затем суммарная длина пути усредняется. \n",
        "      Именно эту усреднённую длину пути мы пытаемся минимизировать.\n",
        "\n",
        "      Args:\n",
        "\n",
        "       cost_matrix - матрица размером n_towns × n_towns такая, что\n",
        "                     cost_matrix[i][j] есть длина пути между городами i и j\n",
        "\n",
        "       optimizer - одна из функций https://docs.scipy.org/doc/scipy/reference/optimize.html#global-optimization\n",
        "\n",
        "       repetitions - число повторений для усреднения коста. \n",
        "                     Для градиентных методов нужна высокая точность, \n",
        "                     так как они считают разность между близкими величинами.\n",
        "                     Могут потребоваться миллионы повторений.\n",
        "      \"\"\"\n",
        "\n",
        "      cost_lambda = lambda angles : self.costs(angles, cost_matrix, repetitions).mean()\n",
        "\n",
        "      if optimizer == basinhopping or optimizer == minimize:\n",
        "         if 'x0' not in optimizer_kwargs:\n",
        "            optimizer_kwargs['x0'] = [2 * np.pi * (np.random.random() - 0.5)\n",
        "                                    for _ in self._angle_names]\n",
        "      else:\n",
        "         if 'bounds' not in optimizer_kwargs:\n",
        "            optimizer_kwargs['bounds'] = [(-np.pi, np.pi) for _ in self._angle_names]\n",
        "\n",
        "      return optimizer(cost_lambda, **optimizer_kwargs)\n",
        "\n",
        "\n",
        "   def __str__(self):\n",
        "      return self.circuit.__str__()\n",
        "\n",
        "   def _repr_pretty_(self, *args):\n",
        "      \"Text output in Jupyter\"\n",
        "      return self.circuit._repr_pretty_(*args)"
      ],
      "execution_count": null,
      "outputs": []
    },
    {
      "cell_type": "code",
      "metadata": {
        "colab": {
          "base_uri": "https://localhost:8080/"
        },
        "id": "ijj0rJJ6aByN",
        "outputId": "42ac1088-5cde-4b54-ed92-35e6e234e213"
      },
      "source": [
        "circuitInstance_4_1 = FactoradicCirquit(n_towns = 4, n_layer_pairs = 1)\n",
        "circuitInstance_4_1"
      ],
      "execution_count": null,
      "outputs": [
        {
          "output_type": "execute_result",
          "data": {
            "text/plain": [
              "0: ───Rx(a_0)───@───────────────────M───\n",
              "                │\n",
              "1: ───Rx(a_1)───X───@───────────────M───\n",
              "                    │\n",
              "2: ───Rx(a_2)───────X───@───────────M───\n",
              "                        │\n",
              "3: ───Rx(a_3)───────────X───@───────M───\n",
              "                            │\n",
              "4: ───Rx(a_4)───────────────X───@───M───\n",
              "                                │\n",
              "5: ───Rx(a_5)───────────────────X───M───"
            ]
          },
          "metadata": {},
          "execution_count": 15
        }
      ]
    },
    {
      "cell_type": "markdown",
      "metadata": {
        "id": "kGYqWMzFvK9w"
      },
      "source": [
        "#### Существующая погрешность\n",
        "\n",
        "Оценим стандартное отклонение величины `cost`:"
      ]
    },
    {
      "cell_type": "code",
      "metadata": {
        "colab": {
          "base_uri": "https://localhost:8080/"
        },
        "id": "x_UsnNJ4vyFX",
        "outputId": "7e64b4ff-8129-435f-e000-1a14cb6c5c7e"
      },
      "source": [
        "angles = np.ones(6)\n",
        "circuitInstance_4_1.costs(angles, cost_matrix_4, repetitions=100).std()"
      ],
      "execution_count": null,
      "outputs": [
        {
          "output_type": "execute_result",
          "data": {
            "text/plain": [
              "0.3825670685598723"
            ]
          },
          "metadata": {},
          "execution_count": 15
        }
      ]
    },
    {
      "cell_type": "markdown",
      "metadata": {
        "id": "Y-L9CSe9EVvq"
      },
      "source": [
        "Стандартное отклонение величины `cost_averaged` в $\\sqrt{N_\\text{repetitions}}$ раз меньше.\n",
        "\n",
        "Например, при миллионе повторений погрешность величины `cost_averaged` будет около `0.004`. \n",
        "\n",
        "С таким количеством повторений дифференциальный спуск работает долго."
      ]
    },
    {
      "cell_type": "markdown",
      "metadata": {
        "id": "a6dxHK_cYQv5"
      },
      "source": [
        "#### Допустимый уровень погрешности\n",
        "\n",
        "Нужно, чтобы погрешность коста была много меньше, чем разность костов между любыми двумя путями:      \n",
        "\n",
        "$$\\sigma_\\text{cost_averaged} \\ll \\underset{i,j}{\\min} |\\operatorname{cost}_i - \\operatorname{cost}_j|$$\n",
        "\n",
        "Оценим минимальную разность костов между путями.\n",
        "\n",
        "Кост отдельного ребра лежит от $0$ до $1$. \n",
        "\n",
        "Кост пути лежит от $0$ до $n-1$. $\\;\\;(n = n_\\text{towns})$\n",
        "\n",
        "В этом диапазоне расположено $n!$ возможных путей, соответственно расстояние между ними порядка \n",
        "\n",
        "$$\\frac{n-1}{n!} \\approx \\frac{1}{(n-1)!}$$\n",
        "\n",
        "В итоге\n",
        "\n",
        "$$\\frac{\\sigma_\\text{cost}}{\\sqrt{N_\\text{repetitions}}} \\ll \\frac{1}{(n-1)!} $$\n",
        "\n",
        "$$N_\\text{repetitions} = O\\bigl((n-1)!^2\\bigr)$$\n",
        "\n",
        "Ужасно(((\n",
        "\n",
        "Запустить полный перебор будет быстрее, чем один раз вычислить `cost_averaged`."
      ]
    },
    {
      "cell_type": "markdown",
      "metadata": {
        "id": "J-CM_TCqhH-D"
      },
      "source": [
        "#### Испытания\n",
        "\n",
        "Классические оптимизаторы `scipy.optimize.differential_evolution` и `dual_annealing` всё равно каким-то чудом работают (со 100 повторениями).\n",
        "\n",
        "Любопытно, что `differential_evolution` (вопреки названию) не использует дифференциирование. "
      ]
    },
    {
      "cell_type": "code",
      "metadata": {
        "colab": {
          "base_uri": "https://localhost:8080/"
        },
        "id": "f0JR9mNhcRxN",
        "outputId": "af9c1fee-d043-4e4b-c0eb-daf7e42ba908"
      },
      "source": [
        "# differential_evolution\n",
        "# 30 sec, success\n",
        "circuitInstance_4_1.optimize_without_constraints(cost_matrix_4)"
      ],
      "execution_count": null,
      "outputs": [
        {
          "output_type": "execute_result",
          "data": {
            "text/plain": [
              "     fun: 0.5283292299999991\n",
              " message: 'Optimization terminated successfully.'\n",
              "    nfev: 2439\n",
              "     nit: 24\n",
              " success: True\n",
              "       x: array([0.04548137, 0.04558345, 0.06161271, 0.11698397, 0.41172122,\n",
              "       2.95171758])"
            ]
          },
          "metadata": {},
          "execution_count": 19
        }
      ]
    },
    {
      "cell_type": "code",
      "metadata": {
        "colab": {
          "base_uri": "https://localhost:8080/"
        },
        "id": "EyFnmmG9cvk5",
        "outputId": "fdf2c409-d1db-45cb-97ec-d926114304f3"
      },
      "source": [
        "# 2 min, success\n",
        "circuitInstance_4_1.optimize_without_constraints(cost_matrix_4, dual_annealing)"
      ],
      "execution_count": null,
      "outputs": [
        {
          "output_type": "execute_result",
          "data": {
            "text/plain": [
              "     fun: 0.5283292299999991\n",
              " message: ['Maximum number of iteration reached']\n",
              "    nfev: 14066\n",
              "    nhev: 0\n",
              "     nit: 1000\n",
              "    njev: 295\n",
              "  status: 0\n",
              " success: True\n",
              "       x: array([ 0.30663331,  0.07381871,  0.13764033, -0.28406106,  2.58826168,\n",
              "       -3.06467442])"
            ]
          },
          "metadata": {},
          "execution_count": 18
        }
      ]
    },
    {
      "cell_type": "markdown",
      "metadata": {
        "id": "TnphGtwciEi-"
      },
      "source": [
        "Остальные классические оптимизаторы плохо работают:"
      ]
    },
    {
      "cell_type": "code",
      "metadata": {
        "colab": {
          "base_uri": "https://localhost:8080/"
        },
        "id": "3h5Vtgm70_Bq",
        "outputId": "20a710f2-ce14-43f1-8c2f-17f7a2741372"
      },
      "source": [
        "# ~approximately success, 7 min \n",
        "circuitInstance_4_1.optimize_without_constraints(cost_matrix_4, minimize, repetitions = 10**4, method = 'nelder-mead')"
      ],
      "execution_count": null,
      "outputs": [
        {
          "output_type": "execute_result",
          "data": {
            "text/plain": [
              " final_simplex: (array([[-3.44471701e-02, -3.37047192e-03, -8.47815190e-02,\n",
              "        -3.68147381e-02,  3.64371586e+00,  3.04323728e+00],\n",
              "       [-3.44471701e-02, -3.37047192e-03, -8.47815190e-02,\n",
              "        -3.68147381e-02,  3.64371586e+00,  3.04323728e+00],\n",
              "       [-3.44471701e-02, -3.37047192e-03, -8.47815190e-02,\n",
              "        -3.68147381e-02,  3.64371586e+00,  3.04323728e+00],\n",
              "       [-3.44471701e-02, -3.37047192e-03, -8.47815190e-02,\n",
              "        -3.68147381e-02,  3.64371586e+00,  3.04323728e+00],\n",
              "       [-3.44471701e-02, -3.37047192e-03, -8.47815190e-02,\n",
              "        -3.68147381e-02,  3.64371586e+00,  3.04323728e+00],\n",
              "       [-3.44471701e-02, -3.37047192e-03, -8.47815190e-02,\n",
              "        -3.68147381e-02,  3.64371586e+00,  3.04323728e+00],\n",
              "       [-3.44471701e-02, -3.37047192e-03, -8.47815190e-02,\n",
              "        -3.68147381e-02,  3.64371586e+00,  3.04323728e+00]]), array([0.53005052, 0.53038633, 0.53108431, 0.53162714, 0.53165076,\n",
              "       0.53172206, 0.5325661 ]))\n",
              "           fun: 0.5300505169370482\n",
              "       message: 'Maximum number of function evaluations has been exceeded.'\n",
              "          nfev: 1200\n",
              "           nit: 488\n",
              "        status: 1\n",
              "       success: False\n",
              "             x: array([-3.44471701e-02, -3.37047192e-03, -8.47815190e-02, -3.68147381e-02,\n",
              "        3.64371586e+00,  3.04323728e+00])"
            ]
          },
          "metadata": {},
          "execution_count": 14
        }
      ]
    },
    {
      "cell_type": "code",
      "metadata": {
        "colab": {
          "base_uri": "https://localhost:8080/"
        },
        "id": "s6R7DpS130CJ",
        "outputId": "c1d78003-21ca-4a4f-8391-8105155f13ca"
      },
      "source": [
        "# Fail, 8 min\n",
        "circuitInstance_4_1.optimize_without_constraints(cost_matrix_4, minimize, 10**5, method='BFGS')"
      ],
      "execution_count": null,
      "outputs": [
        {
          "output_type": "execute_result",
          "data": {
            "text/plain": [
              "      fun: 1.387791301352183\n",
              " hess_inv: array([[ 0.66449409, -0.24582682, -0.13325578, -0.15410054, -0.27027345,\n",
              "        -0.21901418],\n",
              "       [-0.24582682,  0.82425257, -0.09273823, -0.11238576, -0.20048564,\n",
              "        -0.16656984],\n",
              "       [-0.13325578, -0.09273823,  0.95256417, -0.06061766, -0.11009826,\n",
              "        -0.09382111],\n",
              "       [-0.15410054, -0.11238576, -0.06061766,  0.92928332, -0.1244333 ,\n",
              "        -0.1013265 ],\n",
              "       [-0.27027345, -0.20048564, -0.11009826, -0.1244333 ,  0.78365465,\n",
              "        -0.17300688],\n",
              "       [-0.21901418, -0.16656984, -0.09382111, -0.1013265 , -0.17300688,\n",
              "         0.86553483]])\n",
              "      jac: array([98275.10268055, 48354.98488411, 12524.96059544, 42300.74258596,\n",
              "       92451.10514301, 97143.73923972])\n",
              "  message: 'Desired error not necessarily achieved due to precision loss.'\n",
              "     nfev: 131\n",
              "      nit: 1\n",
              "     njev: 17\n",
              "   status: 2\n",
              "  success: False\n",
              "        x: array([ 1.30533178,  2.62006331,  0.10503384, -0.0166915 ,  2.2282903 ,\n",
              "       -1.89141241])"
            ]
          },
          "metadata": {},
          "execution_count": 23
        }
      ]
    },
    {
      "cell_type": "code",
      "metadata": {
        "colab": {
          "base_uri": "https://localhost:8080/"
        },
        "id": "cb9w2__haVPB",
        "outputId": "93291497-799d-491b-8611-0edffa1828b4"
      },
      "source": [
        "# 12 min, fail\n",
        "optimizeResult_4_1 = circuitInstance_4_1.optimize_without_constraints(cost_matrix_4, basinhopping, repetitions=1000)\n",
        "optimizeResult_4_1"
      ],
      "execution_count": null,
      "outputs": [
        {
          "output_type": "execute_result",
          "data": {
            "text/plain": [
              "                        fun: 1.079744480930002\n",
              " lowest_optimization_result:       fun: 1.079744480930002\n",
              " hess_inv: array([[1.02472507, 1.20272017, 0.88122054, 0.75914089, 0.04465742,\n",
              "        0.32792516],\n",
              "       [1.20272017, 1.68105849, 0.84230359, 1.19271383, 0.35343789,\n",
              "        0.61936331],\n",
              "       [0.88122054, 0.84230359, 1.8666406 , 1.08604586, 0.26975885,\n",
              "        0.54482786],\n",
              "       [0.75914089, 1.19271383, 1.08604586, 2.22425495, 0.24708063,\n",
              "        0.59320288],\n",
              "       [0.04465742, 0.35343789, 0.26975885, 0.24708063, 1.02344534,\n",
              "        0.11000714],\n",
              "       [0.32792516, 0.61936331, 0.54482786, 0.59320288, 0.11000714,\n",
              "        1.28386033]])\n",
              "      jac: array([2238006.24033037,  235710.78819348,  817634.01667181,\n",
              "       1581867.47014926,  625223.53183085,  878972.97798556])\n",
              "  message: 'Desired error not necessarily achieved due to precision loss.'\n",
              "     nfev: 172\n",
              "      nit: 1\n",
              "     njev: 23\n",
              "   status: 2\n",
              "  success: False\n",
              "        x: array([-1.7467565 , -0.61127046,  0.35957316,  5.29431684, -1.67225414,\n",
              "       -2.70272117])\n",
              "                    message: ['requested number of basinhopping iterations completed successfully']\n",
              "      minimization_failures: 101\n",
              "                       nfev: 18212\n",
              "                        nit: 100\n",
              "                       njev: 2426\n",
              "                          x: array([-1.7467565 , -0.61127046,  0.35957316,  5.29431684, -1.67225414,\n",
              "       -2.70272117])"
            ]
          },
          "metadata": {},
          "execution_count": 16
        }
      ]
    },
    {
      "cell_type": "code",
      "metadata": {
        "id": "2T5YX3znSlIJ"
      },
      "source": [
        ""
      ],
      "execution_count": null,
      "outputs": []
    }
  ]
}