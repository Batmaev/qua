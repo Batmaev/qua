{
 "cells": [
  {
   "cell_type": "code",
   "execution_count": 3,
   "metadata": {},
   "outputs": [],
   "source": [
    "import cirq\n",
    "import sympy\n",
    "from scipy.optimize import *\n",
    "import numpy as np\n",
    "import plotly.express as px\n",
    "import plotly.graph_objects as go\n",
    "import pandas as pd\n",
    "from scipy.linalg import fractional_matrix_power\n",
    "import itertools"
   ]
  },
  {
   "cell_type": "code",
   "execution_count": 4,
   "metadata": {},
   "outputs": [],
   "source": [
    "cost_matrix_4 = np.array([[np.nan    , 0.35271991, 0.96262685, 0.11727604],\n",
    "                          [0.13505078, np.nan    , 0.63915344, 0.43149425],\n",
    "                          [0.58432224, 0.83676812, np.nan    , 0.4879146 ],\n",
    "                          [0.14998587, 0.45394107, 0.2140258 , np.nan    ]])"
   ]
  },
  {
   "cell_type": "markdown",
   "metadata": {},
   "source": [
    "## Аналитическое решение"
   ]
  },
  {
   "cell_type": "code",
   "execution_count": 5,
   "metadata": {},
   "outputs": [],
   "source": [
    "def cost_of_permutation(cost_matrix, town_sequence):\n",
    "  cost = 0.0\n",
    "\n",
    "  for i in range(len(town_sequence)-1):\n",
    "    cost += cost_matrix [town_sequence[i]] [town_sequence[i+1]]\n",
    "  \n",
    "  return cost"
   ]
  },
  {
   "cell_type": "code",
   "execution_count": 6,
   "metadata": {},
   "outputs": [],
   "source": [
    "# Для перевода из десятичной системы счисления в факториальную \n",
    "# понадобятся факториалы, поэтому вычислим их заранее:\n",
    "#\n",
    "# factorials[n] == n!\n",
    "\n",
    "factorials = [1]\n",
    "for i in range(30):\n",
    "  # Предполагаю, что n_towns < 30\n",
    "  factorials.append(factorials[i] * (i+1))"
   ]
  },
  {
   "cell_type": "code",
   "execution_count": 7,
   "metadata": {},
   "outputs": [],
   "source": [
    "def factoradic_from_perm_number(perm_number : int, factoradic_array):\n",
    "  \"\"\"Преобразует число в факториальную систему счисления.\n",
    "  Записывает полученные цифры в factoradic_array.\n",
    "  Нулевая цифра в массиве - самая значимая. Последняя цифра всегда равна 0.\n",
    "  Алгоритм из https://en.wikipedia.org/wiki/Factorial_number_system#Definition \"\"\"\n",
    "\n",
    "  N = perm_number\n",
    "  n_towns = len(factoradic_array)\n",
    "  assert N < factorials[n_towns]\n",
    "\n",
    "  for i in range(len(factoradic_array)):\n",
    "    factoradic_array[i] = N // factorials[n_towns - i - 1]\n",
    "    N %= factorials[n_towns - i - 1]\n",
    "  \n",
    "  return factoradic_array"
   ]
  },
  {
   "cell_type": "code",
   "execution_count": 8,
   "metadata": {},
   "outputs": [],
   "source": [
    "def permutation_from_factoradic(nums : np.ndarray):\n",
    "  \"\"\"Перезаписывает массив nums.\n",
    "  Если изначально там находилось число в факториальной системе, то потом там будет находиться перестановка.\n",
    "  Города в полученной перестановке нумеруются с 0. \n",
    "  Алгоритм из https://en.wikipedia.org/wiki/Lehmer_code#Encoding_and_decoding \"\"\"\n",
    "  for i in range(len(nums)-2, -1, -1):\n",
    "    for j in range(i+1, len(nums)):\n",
    "      if(nums[j] >= nums[i]):\n",
    "        nums[j] += 1\n",
    "  return nums"
   ]
  },
  {
   "cell_type": "code",
   "execution_count": 9,
   "metadata": {},
   "outputs": [],
   "source": [
    "def analytical(cost_matrix):\n",
    "\n",
    "  n_towns = len(cost_matrix)\n",
    "\n",
    "  factoradic_array = np.ndarray(n_towns, int)\n",
    "\n",
    "  answers_array = []\n",
    "\n",
    "  min_cost = np.inf\n",
    "  opt_perm_number = np.nan\n",
    "\n",
    "  for perm_number in range(factorials[n_towns]):\n",
    "    town_sequence = permutation_from_factoradic(\n",
    "                        factoradic_from_perm_number(perm_number, factoradic_array)\n",
    "                    )\n",
    "    cost = cost_of_permutation(\n",
    "        cost_matrix,\n",
    "        town_sequence\n",
    "        )\n",
    "\n",
    "    answers_array.append([town_sequence.copy(), cost])\n",
    "\n",
    "    if cost < min_cost:\n",
    "      min_cost = cost\n",
    "      opt_perm_number = perm_number\n",
    "\n",
    "  # return {\"min_cost\": min_cost, \n",
    "  #         \"order_of_towns\": permutation_from_factoradic(\n",
    "  #             factoradic_from_perm_number(opt_perm_number, factoradic_array)\n",
    "  #           ) }\n",
    "  return {\"opt_perm_number\": opt_perm_number,\n",
    "          \"answers_table\": pd.DataFrame(answers_array, columns = [\"order of towns\", \"cost\"])}"
   ]
  },
  {
   "cell_type": "code",
   "execution_count": 10,
   "metadata": {},
   "outputs": [
    {
     "data": {
      "text/html": [
       "<div>\n",
       "<style scoped>\n",
       "    .dataframe tbody tr th:only-of-type {\n",
       "        vertical-align: middle;\n",
       "    }\n",
       "\n",
       "    .dataframe tbody tr th {\n",
       "        vertical-align: top;\n",
       "    }\n",
       "\n",
       "    .dataframe thead th {\n",
       "        text-align: right;\n",
       "    }\n",
       "</style>\n",
       "<table border=\"1\" class=\"dataframe\">\n",
       "  <thead>\n",
       "    <tr style=\"text-align: right;\">\n",
       "      <th></th>\n",
       "      <th>order of towns</th>\n",
       "      <th>cost</th>\n",
       "    </tr>\n",
       "  </thead>\n",
       "  <tbody>\n",
       "    <tr>\n",
       "      <th>7</th>\n",
       "      <td>[1, 0, 3, 2]</td>\n",
       "      <td>0.466353</td>\n",
       "    </tr>\n",
       "  </tbody>\n",
       "</table>\n",
       "</div>"
      ],
      "text/plain": [
       "  order of towns      cost\n",
       "7   [1, 0, 3, 2]  0.466353"
      ]
     },
     "execution_count": 10,
     "metadata": {},
     "output_type": "execute_result"
    }
   ],
   "source": [
    "anal = analytical(cost_matrix_4)\n",
    "anal['answers_table'].loc[[anal['opt_perm_number']]]\n",
    "# = Оптимальный путь:"
   ]
  },
  {
   "cell_type": "code",
   "execution_count": 11,
   "metadata": {},
   "outputs": [
    {
     "data": {
      "text/html": [
       "<div>\n",
       "<style scoped>\n",
       "    .dataframe tbody tr th:only-of-type {\n",
       "        vertical-align: middle;\n",
       "    }\n",
       "\n",
       "    .dataframe tbody tr th {\n",
       "        vertical-align: top;\n",
       "    }\n",
       "\n",
       "    .dataframe thead th {\n",
       "        text-align: right;\n",
       "    }\n",
       "</style>\n",
       "<table border=\"1\" class=\"dataframe\">\n",
       "  <thead>\n",
       "    <tr style=\"text-align: right;\">\n",
       "      <th></th>\n",
       "      <th>order of towns</th>\n",
       "      <th>cost</th>\n",
       "    </tr>\n",
       "  </thead>\n",
       "  <tbody>\n",
       "    <tr>\n",
       "      <th>0</th>\n",
       "      <td>[0, 1, 2, 3]</td>\n",
       "      <td>1.479788</td>\n",
       "    </tr>\n",
       "    <tr>\n",
       "      <th>1</th>\n",
       "      <td>[0, 1, 3, 2]</td>\n",
       "      <td>0.998240</td>\n",
       "    </tr>\n",
       "    <tr>\n",
       "      <th>2</th>\n",
       "      <td>[0, 2, 1, 3]</td>\n",
       "      <td>2.230889</td>\n",
       "    </tr>\n",
       "    <tr>\n",
       "      <th>3</th>\n",
       "      <td>[0, 2, 3, 1]</td>\n",
       "      <td>1.904483</td>\n",
       "    </tr>\n",
       "    <tr>\n",
       "      <th>4</th>\n",
       "      <td>[0, 3, 1, 2]</td>\n",
       "      <td>1.210371</td>\n",
       "    </tr>\n",
       "    <tr>\n",
       "      <th>5</th>\n",
       "      <td>[0, 3, 2, 1]</td>\n",
       "      <td>1.168070</td>\n",
       "    </tr>\n",
       "    <tr>\n",
       "      <th>6</th>\n",
       "      <td>[1, 0, 2, 3]</td>\n",
       "      <td>1.585592</td>\n",
       "    </tr>\n",
       "    <tr>\n",
       "      <th>7</th>\n",
       "      <td>[1, 0, 3, 2]</td>\n",
       "      <td>0.466353</td>\n",
       "    </tr>\n",
       "    <tr>\n",
       "      <th>8</th>\n",
       "      <td>[1, 2, 0, 3]</td>\n",
       "      <td>1.340752</td>\n",
       "    </tr>\n",
       "    <tr>\n",
       "      <th>9</th>\n",
       "      <td>[1, 2, 3, 0]</td>\n",
       "      <td>1.277054</td>\n",
       "    </tr>\n",
       "    <tr>\n",
       "      <th>10</th>\n",
       "      <td>[1, 3, 0, 2]</td>\n",
       "      <td>1.544107</td>\n",
       "    </tr>\n",
       "    <tr>\n",
       "      <th>11</th>\n",
       "      <td>[1, 3, 2, 0]</td>\n",
       "      <td>1.229842</td>\n",
       "    </tr>\n",
       "    <tr>\n",
       "      <th>12</th>\n",
       "      <td>[2, 0, 1, 3]</td>\n",
       "      <td>1.368536</td>\n",
       "    </tr>\n",
       "    <tr>\n",
       "      <th>13</th>\n",
       "      <td>[2, 0, 3, 1]</td>\n",
       "      <td>1.155539</td>\n",
       "    </tr>\n",
       "    <tr>\n",
       "      <th>14</th>\n",
       "      <td>[2, 1, 0, 3]</td>\n",
       "      <td>1.089095</td>\n",
       "    </tr>\n",
       "    <tr>\n",
       "      <th>15</th>\n",
       "      <td>[2, 1, 3, 0]</td>\n",
       "      <td>1.418248</td>\n",
       "    </tr>\n",
       "    <tr>\n",
       "      <th>16</th>\n",
       "      <td>[2, 3, 0, 1]</td>\n",
       "      <td>0.990620</td>\n",
       "    </tr>\n",
       "    <tr>\n",
       "      <th>17</th>\n",
       "      <td>[2, 3, 1, 0]</td>\n",
       "      <td>1.076906</td>\n",
       "    </tr>\n",
       "    <tr>\n",
       "      <th>18</th>\n",
       "      <td>[3, 0, 1, 2]</td>\n",
       "      <td>1.141859</td>\n",
       "    </tr>\n",
       "    <tr>\n",
       "      <th>19</th>\n",
       "      <td>[3, 0, 2, 1]</td>\n",
       "      <td>1.949381</td>\n",
       "    </tr>\n",
       "    <tr>\n",
       "      <th>20</th>\n",
       "      <td>[3, 1, 0, 2]</td>\n",
       "      <td>1.551619</td>\n",
       "    </tr>\n",
       "    <tr>\n",
       "      <th>21</th>\n",
       "      <td>[3, 1, 2, 0]</td>\n",
       "      <td>1.677417</td>\n",
       "    </tr>\n",
       "    <tr>\n",
       "      <th>22</th>\n",
       "      <td>[3, 2, 0, 1]</td>\n",
       "      <td>1.151068</td>\n",
       "    </tr>\n",
       "    <tr>\n",
       "      <th>23</th>\n",
       "      <td>[3, 2, 1, 0]</td>\n",
       "      <td>1.185845</td>\n",
       "    </tr>\n",
       "  </tbody>\n",
       "</table>\n",
       "</div>"
      ],
      "text/plain": [
       "   order of towns      cost\n",
       "0    [0, 1, 2, 3]  1.479788\n",
       "1    [0, 1, 3, 2]  0.998240\n",
       "2    [0, 2, 1, 3]  2.230889\n",
       "3    [0, 2, 3, 1]  1.904483\n",
       "4    [0, 3, 1, 2]  1.210371\n",
       "5    [0, 3, 2, 1]  1.168070\n",
       "6    [1, 0, 2, 3]  1.585592\n",
       "7    [1, 0, 3, 2]  0.466353\n",
       "8    [1, 2, 0, 3]  1.340752\n",
       "9    [1, 2, 3, 0]  1.277054\n",
       "10   [1, 3, 0, 2]  1.544107\n",
       "11   [1, 3, 2, 0]  1.229842\n",
       "12   [2, 0, 1, 3]  1.368536\n",
       "13   [2, 0, 3, 1]  1.155539\n",
       "14   [2, 1, 0, 3]  1.089095\n",
       "15   [2, 1, 3, 0]  1.418248\n",
       "16   [2, 3, 0, 1]  0.990620\n",
       "17   [2, 3, 1, 0]  1.076906\n",
       "18   [3, 0, 1, 2]  1.141859\n",
       "19   [3, 0, 2, 1]  1.949381\n",
       "20   [3, 1, 0, 2]  1.551619\n",
       "21   [3, 1, 2, 0]  1.677417\n",
       "22   [3, 2, 0, 1]  1.151068\n",
       "23   [3, 2, 1, 0]  1.185845"
      ]
     },
     "execution_count": 11,
     "metadata": {},
     "output_type": "execute_result"
    }
   ],
   "source": [
    "anal['answers_table']"
   ]
  },
  {
   "cell_type": "code",
   "execution_count": 12,
   "metadata": {},
   "outputs": [
    {
     "data": {
      "application/vnd.plotly.v1+json": {
       "config": {
        "plotlyServerURL": "https://plot.ly"
       },
       "data": [
        {
         "hovertemplate": "variable=cost<br>Номер перестановки=%{x}<br>Cost=%{y}<extra></extra>",
         "legendgroup": "cost",
         "marker": {
          "color": "#636efa",
          "symbol": "circle"
         },
         "mode": "markers",
         "name": "cost",
         "orientation": "v",
         "showlegend": true,
         "type": "scatter",
         "x": [
          0,
          1,
          2,
          3,
          4,
          5,
          6,
          7,
          8,
          9,
          10,
          11,
          12,
          13,
          14,
          15,
          16,
          17,
          18,
          19,
          20,
          21,
          22,
          23
         ],
         "xaxis": "x",
         "y": [
          1.47978795,
          0.99823996,
          2.23088922,
          1.90448252,
          1.21037055,
          1.16806996,
          1.58559223,
          0.46635262,
          1.3407517199999999,
          1.27705391,
          1.54410697,
          1.2298422900000001,
          1.3685364,
          1.15553935,
          1.08909494,
          1.41824824,
          0.99062038,
          1.07690645,
          1.14185922,
          1.94938084,
          1.5516187000000001,
          1.67741675,
          1.15106795,
          1.1858447
         ],
         "yaxis": "y"
        }
       ],
       "layout": {
        "legend": {
         "title": {
          "text": "variable"
         },
         "tracegroupgap": 0
        },
        "margin": {
         "t": 60
        },
        "template": {
         "data": {
          "bar": [
           {
            "error_x": {
             "color": "#f2f5fa"
            },
            "error_y": {
             "color": "#f2f5fa"
            },
            "marker": {
             "line": {
              "color": "rgb(17,17,17)",
              "width": 0.5
             },
             "pattern": {
              "fillmode": "overlay",
              "size": 10,
              "solidity": 0.2
             }
            },
            "type": "bar"
           }
          ],
          "barpolar": [
           {
            "marker": {
             "line": {
              "color": "rgb(17,17,17)",
              "width": 0.5
             },
             "pattern": {
              "fillmode": "overlay",
              "size": 10,
              "solidity": 0.2
             }
            },
            "type": "barpolar"
           }
          ],
          "carpet": [
           {
            "aaxis": {
             "endlinecolor": "#A2B1C6",
             "gridcolor": "#506784",
             "linecolor": "#506784",
             "minorgridcolor": "#506784",
             "startlinecolor": "#A2B1C6"
            },
            "baxis": {
             "endlinecolor": "#A2B1C6",
             "gridcolor": "#506784",
             "linecolor": "#506784",
             "minorgridcolor": "#506784",
             "startlinecolor": "#A2B1C6"
            },
            "type": "carpet"
           }
          ],
          "choropleth": [
           {
            "colorbar": {
             "outlinewidth": 0,
             "ticks": ""
            },
            "type": "choropleth"
           }
          ],
          "contour": [
           {
            "colorbar": {
             "outlinewidth": 0,
             "ticks": ""
            },
            "colorscale": [
             [
              0,
              "#0d0887"
             ],
             [
              0.1111111111111111,
              "#46039f"
             ],
             [
              0.2222222222222222,
              "#7201a8"
             ],
             [
              0.3333333333333333,
              "#9c179e"
             ],
             [
              0.4444444444444444,
              "#bd3786"
             ],
             [
              0.5555555555555556,
              "#d8576b"
             ],
             [
              0.6666666666666666,
              "#ed7953"
             ],
             [
              0.7777777777777778,
              "#fb9f3a"
             ],
             [
              0.8888888888888888,
              "#fdca26"
             ],
             [
              1,
              "#f0f921"
             ]
            ],
            "type": "contour"
           }
          ],
          "contourcarpet": [
           {
            "colorbar": {
             "outlinewidth": 0,
             "ticks": ""
            },
            "type": "contourcarpet"
           }
          ],
          "heatmap": [
           {
            "colorbar": {
             "outlinewidth": 0,
             "ticks": ""
            },
            "colorscale": [
             [
              0,
              "#0d0887"
             ],
             [
              0.1111111111111111,
              "#46039f"
             ],
             [
              0.2222222222222222,
              "#7201a8"
             ],
             [
              0.3333333333333333,
              "#9c179e"
             ],
             [
              0.4444444444444444,
              "#bd3786"
             ],
             [
              0.5555555555555556,
              "#d8576b"
             ],
             [
              0.6666666666666666,
              "#ed7953"
             ],
             [
              0.7777777777777778,
              "#fb9f3a"
             ],
             [
              0.8888888888888888,
              "#fdca26"
             ],
             [
              1,
              "#f0f921"
             ]
            ],
            "type": "heatmap"
           }
          ],
          "heatmapgl": [
           {
            "colorbar": {
             "outlinewidth": 0,
             "ticks": ""
            },
            "colorscale": [
             [
              0,
              "#0d0887"
             ],
             [
              0.1111111111111111,
              "#46039f"
             ],
             [
              0.2222222222222222,
              "#7201a8"
             ],
             [
              0.3333333333333333,
              "#9c179e"
             ],
             [
              0.4444444444444444,
              "#bd3786"
             ],
             [
              0.5555555555555556,
              "#d8576b"
             ],
             [
              0.6666666666666666,
              "#ed7953"
             ],
             [
              0.7777777777777778,
              "#fb9f3a"
             ],
             [
              0.8888888888888888,
              "#fdca26"
             ],
             [
              1,
              "#f0f921"
             ]
            ],
            "type": "heatmapgl"
           }
          ],
          "histogram": [
           {
            "marker": {
             "pattern": {
              "fillmode": "overlay",
              "size": 10,
              "solidity": 0.2
             }
            },
            "type": "histogram"
           }
          ],
          "histogram2d": [
           {
            "colorbar": {
             "outlinewidth": 0,
             "ticks": ""
            },
            "colorscale": [
             [
              0,
              "#0d0887"
             ],
             [
              0.1111111111111111,
              "#46039f"
             ],
             [
              0.2222222222222222,
              "#7201a8"
             ],
             [
              0.3333333333333333,
              "#9c179e"
             ],
             [
              0.4444444444444444,
              "#bd3786"
             ],
             [
              0.5555555555555556,
              "#d8576b"
             ],
             [
              0.6666666666666666,
              "#ed7953"
             ],
             [
              0.7777777777777778,
              "#fb9f3a"
             ],
             [
              0.8888888888888888,
              "#fdca26"
             ],
             [
              1,
              "#f0f921"
             ]
            ],
            "type": "histogram2d"
           }
          ],
          "histogram2dcontour": [
           {
            "colorbar": {
             "outlinewidth": 0,
             "ticks": ""
            },
            "colorscale": [
             [
              0,
              "#0d0887"
             ],
             [
              0.1111111111111111,
              "#46039f"
             ],
             [
              0.2222222222222222,
              "#7201a8"
             ],
             [
              0.3333333333333333,
              "#9c179e"
             ],
             [
              0.4444444444444444,
              "#bd3786"
             ],
             [
              0.5555555555555556,
              "#d8576b"
             ],
             [
              0.6666666666666666,
              "#ed7953"
             ],
             [
              0.7777777777777778,
              "#fb9f3a"
             ],
             [
              0.8888888888888888,
              "#fdca26"
             ],
             [
              1,
              "#f0f921"
             ]
            ],
            "type": "histogram2dcontour"
           }
          ],
          "mesh3d": [
           {
            "colorbar": {
             "outlinewidth": 0,
             "ticks": ""
            },
            "type": "mesh3d"
           }
          ],
          "parcoords": [
           {
            "line": {
             "colorbar": {
              "outlinewidth": 0,
              "ticks": ""
             }
            },
            "type": "parcoords"
           }
          ],
          "pie": [
           {
            "automargin": true,
            "type": "pie"
           }
          ],
          "scatter": [
           {
            "marker": {
             "line": {
              "color": "#283442"
             }
            },
            "type": "scatter"
           }
          ],
          "scatter3d": [
           {
            "line": {
             "colorbar": {
              "outlinewidth": 0,
              "ticks": ""
             }
            },
            "marker": {
             "colorbar": {
              "outlinewidth": 0,
              "ticks": ""
             }
            },
            "type": "scatter3d"
           }
          ],
          "scattercarpet": [
           {
            "marker": {
             "colorbar": {
              "outlinewidth": 0,
              "ticks": ""
             }
            },
            "type": "scattercarpet"
           }
          ],
          "scattergeo": [
           {
            "marker": {
             "colorbar": {
              "outlinewidth": 0,
              "ticks": ""
             }
            },
            "type": "scattergeo"
           }
          ],
          "scattergl": [
           {
            "marker": {
             "line": {
              "color": "#283442"
             }
            },
            "type": "scattergl"
           }
          ],
          "scattermapbox": [
           {
            "marker": {
             "colorbar": {
              "outlinewidth": 0,
              "ticks": ""
             }
            },
            "type": "scattermapbox"
           }
          ],
          "scatterpolar": [
           {
            "marker": {
             "colorbar": {
              "outlinewidth": 0,
              "ticks": ""
             }
            },
            "type": "scatterpolar"
           }
          ],
          "scatterpolargl": [
           {
            "marker": {
             "colorbar": {
              "outlinewidth": 0,
              "ticks": ""
             }
            },
            "type": "scatterpolargl"
           }
          ],
          "scatterternary": [
           {
            "marker": {
             "colorbar": {
              "outlinewidth": 0,
              "ticks": ""
             }
            },
            "type": "scatterternary"
           }
          ],
          "surface": [
           {
            "colorbar": {
             "outlinewidth": 0,
             "ticks": ""
            },
            "colorscale": [
             [
              0,
              "#0d0887"
             ],
             [
              0.1111111111111111,
              "#46039f"
             ],
             [
              0.2222222222222222,
              "#7201a8"
             ],
             [
              0.3333333333333333,
              "#9c179e"
             ],
             [
              0.4444444444444444,
              "#bd3786"
             ],
             [
              0.5555555555555556,
              "#d8576b"
             ],
             [
              0.6666666666666666,
              "#ed7953"
             ],
             [
              0.7777777777777778,
              "#fb9f3a"
             ],
             [
              0.8888888888888888,
              "#fdca26"
             ],
             [
              1,
              "#f0f921"
             ]
            ],
            "type": "surface"
           }
          ],
          "table": [
           {
            "cells": {
             "fill": {
              "color": "#506784"
             },
             "line": {
              "color": "rgb(17,17,17)"
             }
            },
            "header": {
             "fill": {
              "color": "#2a3f5f"
             },
             "line": {
              "color": "rgb(17,17,17)"
             }
            },
            "type": "table"
           }
          ]
         },
         "layout": {
          "annotationdefaults": {
           "arrowcolor": "#f2f5fa",
           "arrowhead": 0,
           "arrowwidth": 1
          },
          "autotypenumbers": "strict",
          "coloraxis": {
           "colorbar": {
            "outlinewidth": 0,
            "ticks": ""
           }
          },
          "colorscale": {
           "diverging": [
            [
             0,
             "#8e0152"
            ],
            [
             0.1,
             "#c51b7d"
            ],
            [
             0.2,
             "#de77ae"
            ],
            [
             0.3,
             "#f1b6da"
            ],
            [
             0.4,
             "#fde0ef"
            ],
            [
             0.5,
             "#f7f7f7"
            ],
            [
             0.6,
             "#e6f5d0"
            ],
            [
             0.7,
             "#b8e186"
            ],
            [
             0.8,
             "#7fbc41"
            ],
            [
             0.9,
             "#4d9221"
            ],
            [
             1,
             "#276419"
            ]
           ],
           "sequential": [
            [
             0,
             "#0d0887"
            ],
            [
             0.1111111111111111,
             "#46039f"
            ],
            [
             0.2222222222222222,
             "#7201a8"
            ],
            [
             0.3333333333333333,
             "#9c179e"
            ],
            [
             0.4444444444444444,
             "#bd3786"
            ],
            [
             0.5555555555555556,
             "#d8576b"
            ],
            [
             0.6666666666666666,
             "#ed7953"
            ],
            [
             0.7777777777777778,
             "#fb9f3a"
            ],
            [
             0.8888888888888888,
             "#fdca26"
            ],
            [
             1,
             "#f0f921"
            ]
           ],
           "sequentialminus": [
            [
             0,
             "#0d0887"
            ],
            [
             0.1111111111111111,
             "#46039f"
            ],
            [
             0.2222222222222222,
             "#7201a8"
            ],
            [
             0.3333333333333333,
             "#9c179e"
            ],
            [
             0.4444444444444444,
             "#bd3786"
            ],
            [
             0.5555555555555556,
             "#d8576b"
            ],
            [
             0.6666666666666666,
             "#ed7953"
            ],
            [
             0.7777777777777778,
             "#fb9f3a"
            ],
            [
             0.8888888888888888,
             "#fdca26"
            ],
            [
             1,
             "#f0f921"
            ]
           ]
          },
          "colorway": [
           "#636efa",
           "#EF553B",
           "#00cc96",
           "#ab63fa",
           "#FFA15A",
           "#19d3f3",
           "#FF6692",
           "#B6E880",
           "#FF97FF",
           "#FECB52"
          ],
          "font": {
           "color": "#f2f5fa"
          },
          "geo": {
           "bgcolor": "rgb(17,17,17)",
           "lakecolor": "rgb(17,17,17)",
           "landcolor": "rgb(17,17,17)",
           "showlakes": true,
           "showland": true,
           "subunitcolor": "#506784"
          },
          "hoverlabel": {
           "align": "left"
          },
          "hovermode": "closest",
          "mapbox": {
           "style": "dark"
          },
          "paper_bgcolor": "rgb(17,17,17)",
          "plot_bgcolor": "rgb(17,17,17)",
          "polar": {
           "angularaxis": {
            "gridcolor": "#506784",
            "linecolor": "#506784",
            "ticks": ""
           },
           "bgcolor": "rgb(17,17,17)",
           "radialaxis": {
            "gridcolor": "#506784",
            "linecolor": "#506784",
            "ticks": ""
           }
          },
          "scene": {
           "xaxis": {
            "backgroundcolor": "rgb(17,17,17)",
            "gridcolor": "#506784",
            "gridwidth": 2,
            "linecolor": "#506784",
            "showbackground": true,
            "ticks": "",
            "zerolinecolor": "#C8D4E3"
           },
           "yaxis": {
            "backgroundcolor": "rgb(17,17,17)",
            "gridcolor": "#506784",
            "gridwidth": 2,
            "linecolor": "#506784",
            "showbackground": true,
            "ticks": "",
            "zerolinecolor": "#C8D4E3"
           },
           "zaxis": {
            "backgroundcolor": "rgb(17,17,17)",
            "gridcolor": "#506784",
            "gridwidth": 2,
            "linecolor": "#506784",
            "showbackground": true,
            "ticks": "",
            "zerolinecolor": "#C8D4E3"
           }
          },
          "shapedefaults": {
           "line": {
            "color": "#f2f5fa"
           }
          },
          "sliderdefaults": {
           "bgcolor": "#C8D4E3",
           "bordercolor": "rgb(17,17,17)",
           "borderwidth": 1,
           "tickwidth": 0
          },
          "ternary": {
           "aaxis": {
            "gridcolor": "#506784",
            "linecolor": "#506784",
            "ticks": ""
           },
           "baxis": {
            "gridcolor": "#506784",
            "linecolor": "#506784",
            "ticks": ""
           },
           "bgcolor": "rgb(17,17,17)",
           "caxis": {
            "gridcolor": "#506784",
            "linecolor": "#506784",
            "ticks": ""
           }
          },
          "title": {
           "x": 0.05
          },
          "updatemenudefaults": {
           "bgcolor": "#506784",
           "borderwidth": 0
          },
          "xaxis": {
           "automargin": true,
           "gridcolor": "#283442",
           "linecolor": "#506784",
           "ticks": "",
           "title": {
            "standoff": 15
           },
           "zerolinecolor": "#283442",
           "zerolinewidth": 2
          },
          "yaxis": {
           "automargin": true,
           "gridcolor": "#283442",
           "linecolor": "#506784",
           "ticks": "",
           "title": {
            "standoff": 15
           },
           "zerolinecolor": "#283442",
           "zerolinewidth": 2
          }
         }
        },
        "xaxis": {
         "anchor": "y",
         "domain": [
          0,
          1
         ],
         "title": {
          "text": "Номер перестановки"
         }
        },
        "yaxis": {
         "anchor": "x",
         "domain": [
          0,
          1
         ],
         "title": {
          "text": "Cost"
         }
        }
       }
      }
     },
     "metadata": {},
     "output_type": "display_data"
    }
   ],
   "source": [
    "px.scatter(anal[\"answers_table\"][\"cost\"], template=\"plotly_dark\", labels = {\"index\": \"Номер перестановки\", \"value\": \"Cost\"})"
   ]
  },
  {
   "cell_type": "markdown",
   "metadata": {},
   "source": [
    "## Гейты для цепи"
   ]
  },
  {
   "cell_type": "code",
   "execution_count": 13,
   "metadata": {},
   "outputs": [],
   "source": [
    "class iSwapQudits(cirq.EigenGate):\n",
    "    \"\"\"iSWAP for qudits, possibly raised into some power\"\"\"\n",
    "    \n",
    "    def __init__(self, dim, exponent = 1, global_shift = 0):\n",
    "        super(iSwapQudits, self)\n",
    "        self.dim = dim\n",
    "        self._exponent = exponent\n",
    "        self._global_shift = global_shift\n",
    "        self._canonical_exponent_cached = None\n",
    "\n",
    "    def _qid_shape_(self):\n",
    "        return (self.dim, self.dim)\n",
    "\n",
    "    def _with_exponent(self, exponent) -> 'cirq.EigenGate':\n",
    "        \"\"\"Return the same kind of gate, but with a different exponent.\n",
    "        Child classes should override this method if they have an __init__\n",
    "        method with a differing signature.\n",
    "        \"\"\"\n",
    "        # pylint: disable=unexpected-keyword-arg\n",
    "        if self._global_shift == 0:\n",
    "            return type(self)(self.dim, exponent=exponent)\n",
    "        return type(self)(self.dim, exponent=exponent, global_shift=self._global_shift)\n",
    "        # pylint: enable=unexpected-keyword-arg\n",
    "\n",
    "    def _eigen_shifts(self):\n",
    "        \"\"\"Describes the eigenvalues of the gate's matrix.\n",
    "        By default, this just extracts the shifts by calling\n",
    "        self._eigen_components(). However, because that method generates\n",
    "        matrices it may be extremely expensive.\n",
    "        Returns:\n",
    "            A list of floats. Each float in the list corresponds to one of the\n",
    "            eigenvalues of the gate's matrix, before accounting for any global\n",
    "            shift. Each float is the θ in λ = exp(i π θ) (where λ is the\n",
    "            eigenvalue).\n",
    "        \"\"\"\n",
    "        return [0.5, -0.5, 0]\n",
    "\n",
    "    def _eigen_components(self):\n",
    "        \"\"\"Describes the eigendecomposition of the gate's matrix.\n",
    "        Returns:\n",
    "            A list of EigenComponent tuples. Each tuple in the list\n",
    "            corresponds to one of the eigenspaces of the gate's matrix. Each\n",
    "            tuple has two elements. The first element of a tuple is the θ in\n",
    "            λ = exp(i π θ) (where λ is the eigenvalue of the eigenspace). The\n",
    "            second element is a projection matrix onto the eigenspace.\n",
    "        Examples:\n",
    "            The Pauli Z gate's eigencomponents are:\n",
    "                [\n",
    "                    (0, np.array([[1, 0],\n",
    "                                  [0, 0]])),\n",
    "                    (1, np.array([[0, 0],\n",
    "                                  [0, 1]])),\n",
    "                ]\n",
    "            Valid eigencomponents for Rz(π) = -iZ are:\n",
    "                [\n",
    "                    (-0.5, np.array([[1, 0],\n",
    "                                     [0, 0]])),\n",
    "                    (+0.5, np.array([[0, 0],\n",
    "                                     [0, 1]])),\n",
    "                ]\n",
    "            But in principle you could also use this:\n",
    "                [\n",
    "                    (+1.5, np.array([[1, 0],\n",
    "                                     [0, 0]])),\n",
    "                    (-0.5, np.array([[0, 0],\n",
    "                                     [0, 1]])),\n",
    "                ]\n",
    "                The choice between -0.5 and +1.5 does not affect the gate's\n",
    "                matrix, but it does affect the matrix of powers of the gates\n",
    "                (because (x+2)*s != x*s (mod 2) when s is a real number).\n",
    "            The Pauli X gate's eigencomponents are:\n",
    "                [\n",
    "                    (0, np.array([[0.5, 0.5],\n",
    "                                  [0.5, 0.5]])),\n",
    "                    (1, np.array([[+0.5, -0.5],\n",
    "                                  [-0.5, +0.5]])),\n",
    "                ]\n",
    "        \"\"\"\n",
    "        return [\n",
    "            ( 0.5, np.array([\n",
    "                                [\n",
    "                                    int(i1 == i2 and o1 == o2)\n",
    "                                    - 2*int(i1 == i2 == o1 == o2)\n",
    "                                    + int(i1 == o2 and i2 == o1)\n",
    "                                    for i1 in range(self.dim) for o1 in range(self.dim) \n",
    "                                ] # ~ ArrayFlatten in Wolfram?\n",
    "                                for i2 in range(self.dim) for o2 in range(self.dim)\n",
    "                            ]) / 2\n",
    "            ),\n",
    "            (-0.5, np.array([\n",
    "                                [\n",
    "                                    int(i1 == i2 and o1 == o2)\n",
    "                                    - int(i1 == o2 and i2 == o1)\n",
    "                                    for i1 in range(self.dim) for o1 in range(self.dim)\n",
    "                                ]\n",
    "                                for i2 in range(self.dim) for o2 in range(self.dim)\n",
    "                            ]) / 2\n",
    "            ),\n",
    "            (0,    np.array([\n",
    "                                [\n",
    "                                    int(i1 == i2 == o1 == o2) \n",
    "                                    for i1 in range(self.dim) for o1 in range(self.dim)\n",
    "                                ]\n",
    "                                for i2 in range(self.dim) for o2 in range(self.dim)\n",
    "                            ])\n",
    "            ),\n",
    "        ]\n",
    "\n",
    "    def _circuit_diagram_info_(self, args):\n",
    "        return cirq.CircuitDiagramInfo([\"↓\", \"↑\"], \n",
    "                                    exponent = self.exponent, exponent_qubit_index = 0)"
   ]
  },
  {
   "cell_type": "code",
   "execution_count": 14,
   "metadata": {},
   "outputs": [
    {
     "data": {
      "text/plain": [
       "array([[1.+0.j, 0.+0.j, 0.+0.j, 0.+0.j],\n",
       "       [0.+0.j, 0.+0.j, 0.+1.j, 0.+0.j],\n",
       "       [0.+0.j, 0.+1.j, 0.+0.j, 0.+0.j],\n",
       "       [0.+0.j, 0.+0.j, 0.+0.j, 1.+0.j]])"
      ]
     },
     "execution_count": 14,
     "metadata": {},
     "output_type": "execute_result"
    }
   ],
   "source": [
    "iSwapQudits(2)._unitary_()"
   ]
  },
  {
   "cell_type": "code",
   "execution_count": 15,
   "metadata": {},
   "outputs": [],
   "source": [
    "# Для инициализации\n",
    "class ModuloPlus(cirq.Gate):\n",
    "    \"\"\"Переводит кудит из состояния |i> в |(i+j) mod dim>,\n",
    "    где dim - размерность кудита\"\"\"\n",
    "    def __init__(self, dim, val):\n",
    "        super(ModuloPlus, self)\n",
    "        self.dim = dim\n",
    "        self.val = val\n",
    "\n",
    "    def _qid_shape_(self):\n",
    "        return (self.dim,)\n",
    "    \n",
    "    def _unitary_(self):\n",
    "        return np.array([\n",
    "            [int(i == (k - self.val) % self.dim) for i in range(self.dim)] \n",
    "            for k in range(self.dim)\n",
    "        ])\n",
    "\n",
    "    def _circuit_diagram_info_(self, args):\n",
    "        return f\"(+{self.val})\""
   ]
  },
  {
   "cell_type": "code",
   "execution_count": 16,
   "metadata": {},
   "outputs": [
    {
     "data": {
      "text/plain": [
       "array([[1, 0, 0],\n",
       "       [0, 1, 0],\n",
       "       [0, 0, 1]])"
      ]
     },
     "execution_count": 16,
     "metadata": {},
     "output_type": "execute_result"
    }
   ],
   "source": [
    "ModuloPlus(3,3)._unitary_()"
   ]
  },
  {
   "cell_type": "code",
   "execution_count": 17,
   "metadata": {},
   "outputs": [
    {
     "data": {
      "text/html": [
       "<pre style=\"overflow: auto; white-space: pre;\">                   ┌──┐\n",
       "0 (d=3): ───────────↓─────(+-1)───M───\n",
       "                    │\n",
       "1 (d=3): ───(+1)────┼M────────────────\n",
       "                    │\n",
       "2 (d=3): ───(+2)────↑─────M───────────\n",
       "                   └──┘</pre>"
      ],
      "text/plain": [
       "                   ┌──┐\n",
       "0 (d=3): ───────────↓─────(+-1)───M───\n",
       "                    │\n",
       "1 (d=3): ───(+1)────┼M────────────────\n",
       "                    │\n",
       "2 (d=3): ───(+2)────↑─────M───────────\n",
       "                   └──┘"
      ]
     },
     "execution_count": 17,
     "metadata": {},
     "output_type": "execute_result"
    }
   ],
   "source": [
    "test_circuit_1 = cirq.Circuit(\n",
    "        ModuloPlus(3, 1)(cirq.LineQid(1, 3)),\n",
    "        ModuloPlus(3, 2)(cirq.LineQid(2, 3)),\n",
    "        iSwapQudits(3)(cirq.LineQid(0, 3), cirq.LineQid(2, 3)),\n",
    "        ModuloPlus(3, -1)(cirq.LineQid(0, 3)),\n",
    "        cirq.measure_each(cirq.LineQid(0, 3), cirq.LineQid(1, 3), cirq.LineQid(2, 3)))\n",
    "test_circuit_1"
   ]
  },
  {
   "cell_type": "code",
   "execution_count": 18,
   "metadata": {},
   "outputs": [
    {
     "data": {
      "text/plain": [
       "0 (d=3)=1111111111\n",
       "1 (d=3)=1111111111\n",
       "2 (d=3)=0000000000"
      ]
     },
     "execution_count": 18,
     "metadata": {},
     "output_type": "execute_result"
    }
   ],
   "source": [
    "cirq.Simulator().run(\n",
    "    test_circuit_1,\n",
    "    repetitions=10\n",
    ")"
   ]
  },
  {
   "cell_type": "code",
   "execution_count": 19,
   "metadata": {},
   "outputs": [
    {
     "data": {
      "text/plain": [
       "array([[1.        +0.j        , 0.        +0.j        ,\n",
       "        0.        +0.j        , 0.        +0.j        ],\n",
       "       [0.        +0.j        , 0.70710678+0.j        ,\n",
       "        0.        +0.70710678j, 0.        +0.j        ],\n",
       "       [0.        +0.j        , 0.        +0.70710678j,\n",
       "        0.70710678+0.j        , 0.        +0.j        ],\n",
       "       [0.        +0.j        , 0.        +0.j        ,\n",
       "        0.        +0.j        , 1.        +0.j        ]])"
      ]
     },
     "execution_count": 19,
     "metadata": {},
     "output_type": "execute_result"
    }
   ],
   "source": [
    "iSwapQudits(2, 1/2)._unitary_()"
   ]
  },
  {
   "cell_type": "code",
   "execution_count": 20,
   "metadata": {},
   "outputs": [
    {
     "data": {
      "text/plain": [
       "array([[1.        +0.j        , 0.        +0.j        ,\n",
       "        0.        +0.j        , 0.        +0.j        ],\n",
       "       [0.        +0.j        , 0.70710678+0.j        ,\n",
       "        0.        +0.70710678j, 0.        +0.j        ],\n",
       "       [0.        +0.j        , 0.        +0.70710678j,\n",
       "        0.70710678+0.j        , 0.        +0.j        ],\n",
       "       [0.        +0.j        , 0.        +0.j        ,\n",
       "        0.        +0.j        , 1.        +0.j        ]])"
      ]
     },
     "execution_count": 20,
     "metadata": {},
     "output_type": "execute_result"
    }
   ],
   "source": [
    "cirq.ISwapPowGate(exponent = 1/2)._unitary_()"
   ]
  },
  {
   "cell_type": "code",
   "execution_count": 21,
   "metadata": {},
   "outputs": [],
   "source": [
    "class iSwapAllQudits(cirq.Gate):\n",
    "    \"\"\"Делает последовательно SWAP^exponent для всех n*(n-1)/2 пар кудитов\"\"\"\n",
    "    def __init__(self, dim, n_qudits, exponent):\n",
    "        super(iSwapAllQudits, self)\n",
    "        self.n_qudits = n_qudits\n",
    "        self.dim = dim\n",
    "        self.exponent = exponent\n",
    "\n",
    "    def _qid_shape_(self):\n",
    "        return (self.dim,) * self.n_qudits\n",
    "\n",
    "    def _decompose_(self, qudits):\n",
    "        for n1 in range(self.n_qudits):\n",
    "            for n2 in range(n1 + 1, self.n_qudits):\n",
    "                yield iSwapQudits(self.dim, self.exponent)(qudits[n1], qudits[n2])\n",
    "\n",
    "    def _circuit_diagram_info_(self, args):\n",
    "        return [f\"↑↓({self.exponent})\"] * self.n_qudits\n",
    "\n",
    "    def _is_parametrized_(self):\n",
    "        return isinstance(self.exponent, sympy.Symbol)\n",
    "\n",
    "    def _resolve_parameters_(self, paramresolver, recursive):\n",
    "        if self._is_parametrized_():\n",
    "            return iSwapAllQudits(self.dim, self.n_qudits, paramresolver.param_dict[self.exponent.name])\n",
    "        else:\n",
    "            return self\n",
    "\n",
    "    def __pow__(self, power):\n",
    "        return iSwapAllQudits(self.dim, self.n_qudits, power * self.exponent)"
   ]
  },
  {
   "cell_type": "code",
   "execution_count": 22,
   "metadata": {},
   "outputs": [],
   "source": [
    "class CNOTSeqeunceForSingleEdge(cirq.Gate):\n",
    "    \"\"\"CNOTSequenceForSingeEdge(n_towns, n1, n2)(*qudits, flag_qubit)\n",
    "    ставит flag_qubit в |1>, если в цепочке кудитов на каком-то месте \n",
    "    подряд стоят кудиты в состояниях |n1> и |n2>\n",
    "    \"\"\"\n",
    "    def __init__(self, n_towns, town1, town2):\n",
    "        super(CNOTSeqeunceForSingleEdge, self)\n",
    "        self.n_towns = n_towns\n",
    "        self.n1 = town1\n",
    "        self.n2 = town2\n",
    "\n",
    "    def _qid_shape_(self):\n",
    "        return (self.n_towns,) * self.n_towns + (2,)\n",
    "\n",
    "    def _decompose_(self, qudits):\n",
    "        flag_qubit = qudits[-1]\n",
    "\n",
    "        for town_qudit in qudits[:-2]:\n",
    "            yield cirq.X.controlled(\n",
    "                control_qid_shape = (self.n_towns, self.n_towns), \n",
    "                control_values = (self.n1, self.n2))(\n",
    "                    town_qudit, town_qudit + 1, flag_qubit\n",
    "            )\n",
    "\n",
    "    def _circuit_diagram_info_(self, args):\n",
    "        return [f\"{self.n1}→{self.n2}\"] * self.n_towns + [\"X\"]\n"
   ]
  },
  {
   "cell_type": "code",
   "execution_count": null,
   "metadata": {},
   "outputs": [],
   "source": []
  },
  {
   "cell_type": "code",
   "execution_count": 23,
   "metadata": {},
   "outputs": [
    {
     "data": {
      "text/html": [
       "<pre style=\"overflow: auto; white-space: pre;\">(0, 2): ───────────X─────M───\n",
       "                   │\n",
       "0 (d=3): ───(+1)───0→2───M───\n",
       "                   │\n",
       "1 (d=3): ──────────0→2───M───\n",
       "                   │\n",
       "2 (d=3): ───(+2)───0→2───M───</pre>"
      ],
      "text/plain": [
       "(0, 2): ───────────X─────M───\n",
       "                   │\n",
       "0 (d=3): ───(+1)───0→2───M───\n",
       "                   │\n",
       "1 (d=3): ──────────0→2───M───\n",
       "                   │\n",
       "2 (d=3): ───(+2)───0→2───M───"
      ]
     },
     "execution_count": 23,
     "metadata": {},
     "output_type": "execute_result"
    }
   ],
   "source": [
    "test_circuit_2 = cirq.Circuit(\n",
    "\n",
    "    ModuloPlus(3, 1)(cirq.LineQid(0, 3)),\n",
    "    ModuloPlus(3, 2)(cirq.LineQid(2, 3)),\n",
    "    \n",
    "    CNOTSeqeunceForSingleEdge(3,0,2)(*cirq.LineQid.range(3, dimension = 3), cirq.GridQubit(0,2)),\n",
    "    \n",
    "    cirq.measure_each(\n",
    "        *cirq.LineQid.range(3, dimension = 3), \n",
    "        cirq.GridQubit(0, 2))\n",
    ")\n",
    "test_circuit_2"
   ]
  },
  {
   "cell_type": "code",
   "execution_count": 24,
   "metadata": {},
   "outputs": [
    {
     "data": {
      "text/plain": [
       "(0, 2)=1111111111\n",
       "0 (d=3)=1111111111\n",
       "1 (d=3)=0000000000\n",
       "2 (d=3)=2222222222"
      ]
     },
     "execution_count": 24,
     "metadata": {},
     "output_type": "execute_result"
    }
   ],
   "source": [
    "cirq.Simulator().run(\n",
    "    test_circuit_2,\n",
    "    repetitions=10\n",
    ")\n"
   ]
  },
  {
   "cell_type": "code",
   "execution_count": 25,
   "metadata": {},
   "outputs": [],
   "source": [
    "def CNOTSequenceForAllPossibleEdges(n_towns):\n",
    "    \"\"\"Генератор, который генерерирует все n_towns*(n_towns-1) возможных \n",
    "    CNOTSequenceForSingeEdge(n_towns, n1, n2) гейтов.\n",
    "    Он перебирает все возможные пары (n1, n2) и \n",
    "    ставит cirq.GridQubit(n1, n2) в |1>, если в цепочке кудитов на каком-то месте \n",
    "    подряд стоят кудиты в состояниях |n1> и |n2>\n",
    "    \"\"\"\n",
    "    for n1 in range(n_towns):\n",
    "        for n2 in range(n_towns):\n",
    "            if n1 != n2:\n",
    "                yield CNOTSeqeunceForSingleEdge(n_towns, n1, n2)(\n",
    "                    *cirq.LineQid.range(n_towns, dimension = n_towns),\n",
    "                    cirq.GridQubit(n1, n2)\n",
    "                )\n"
   ]
  },
  {
   "cell_type": "code",
   "execution_count": 26,
   "metadata": {},
   "outputs": [],
   "source": [
    "def UndoCNOTSequences(n_towns):\n",
    "    return reversed(list(itertools.chain(\n",
    "        *[SingleEdgeGate._decompose_() for SingleEdgeGate in CNOTSequenceForAllPossibleEdges(n_towns)]\n",
    "    )))\n",
    "\n",
    "# Чтобы отпутать кубиты-флаги, по идее нужно проделать все CNOT в обратном порядке.\n",
    "# Но, как показывает следующая ячейка, можно в том же порядке"
   ]
  },
  {
   "cell_type": "code",
   "execution_count": 27,
   "metadata": {},
   "outputs": [
    {
     "data": {
      "text/plain": [
       "True"
      ]
     },
     "execution_count": 27,
     "metadata": {},
     "output_type": "execute_result"
    }
   ],
   "source": [
    "(cirq.Circuit(UndoCNOTSequences(3)).unitary() ==\n",
    "cirq.Circuit(CNOTSequenceForAllPossibleEdges(3)).unitary()).all()"
   ]
  },
  {
   "cell_type": "code",
   "execution_count": 28,
   "metadata": {},
   "outputs": [
    {
     "data": {
      "text/plain": [
       "True"
      ]
     },
     "execution_count": 28,
     "metadata": {},
     "output_type": "execute_result"
    }
   ],
   "source": [
    "(cirq.Circuit(UndoCNOTSequences(3)).unitary() ==\n",
    "cirq.Circuit(\n",
    "    reversed(list(CNOTSequenceForAllPossibleEdges(3)))\n",
    ").unitary()).all()"
   ]
  },
  {
   "cell_type": "code",
   "execution_count": 29,
   "metadata": {},
   "outputs": [
    {
     "data": {
      "text/html": [
       "<pre style=\"overflow: auto; white-space: pre;\">(0, 1): ───────────X─────M─────────────────────────────────\n",
       "                   │\n",
       "(0, 2): ───────────┼─────X─────M───────────────────────────\n",
       "                   │     │\n",
       "(1, 0): ───────────┼─────┼─────X─────M─────────────────────\n",
       "                   │     │     │\n",
       "(1, 2): ───────────┼─────┼─────┼─────X─────M───────────────\n",
       "                   │     │     │     │\n",
       "(2, 0): ───────────┼─────┼─────┼─────┼─────X─────M─────────\n",
       "                   │     │     │     │     │\n",
       "(2, 1): ───────────┼─────┼─────┼─────┼─────┼─────X─────M───\n",
       "                   │     │     │     │     │     │\n",
       "0 (d=3): ───(+1)───0→1───0→2───1→0───1→2───2→0───2→1───M───\n",
       "                   │     │     │     │     │     │\n",
       "1 (d=3): ──────────0→1───0→2───1→0───1→2───2→0───2→1───M───\n",
       "                   │     │     │     │     │     │\n",
       "2 (d=3): ───(+2)───0→1───0→2───1→0───1→2───2→0───2→1───M───</pre>"
      ],
      "text/plain": [
       "(0, 1): ───────────X─────M─────────────────────────────────\n",
       "                   │\n",
       "(0, 2): ───────────┼─────X─────M───────────────────────────\n",
       "                   │     │\n",
       "(1, 0): ───────────┼─────┼─────X─────M─────────────────────\n",
       "                   │     │     │\n",
       "(1, 2): ───────────┼─────┼─────┼─────X─────M───────────────\n",
       "                   │     │     │     │\n",
       "(2, 0): ───────────┼─────┼─────┼─────┼─────X─────M─────────\n",
       "                   │     │     │     │     │\n",
       "(2, 1): ───────────┼─────┼─────┼─────┼─────┼─────X─────M───\n",
       "                   │     │     │     │     │     │\n",
       "0 (d=3): ───(+1)───0→1───0→2───1→0───1→2───2→0───2→1───M───\n",
       "                   │     │     │     │     │     │\n",
       "1 (d=3): ──────────0→1───0→2───1→0───1→2───2→0───2→1───M───\n",
       "                   │     │     │     │     │     │\n",
       "2 (d=3): ───(+2)───0→1───0→2───1→0───1→2───2→0───2→1───M───"
      ]
     },
     "execution_count": 29,
     "metadata": {},
     "output_type": "execute_result"
    }
   ],
   "source": [
    "test_circuit_3 = cirq.Circuit(\n",
    "\n",
    "    ModuloPlus(3, 1)(cirq.LineQid(0, 3)),\n",
    "    ModuloPlus(3, 2)(cirq.LineQid(2, 3)),\n",
    "    \n",
    "    CNOTSequenceForAllPossibleEdges(3),\n",
    "    \n",
    "    cirq.measure_each(\n",
    "        *cirq.LineQid.range(3, dimension = 3),\n",
    "        *[cirq.GridQubit(n1, n2) for n1 in range(3) for n2 in range(3) if n1 != n2]\n",
    "        )\n",
    ")\n",
    "\n",
    "test_circuit_3"
   ]
  },
  {
   "cell_type": "code",
   "execution_count": 30,
   "metadata": {},
   "outputs": [
    {
     "data": {
      "text/plain": [
       "(0, 1)=0000000000\n",
       "(0, 2)=1111111111\n",
       "(1, 0)=1111111111\n",
       "(1, 2)=0000000000\n",
       "(2, 0)=0000000000\n",
       "(2, 1)=0000000000\n",
       "0 (d=3)=1111111111\n",
       "1 (d=3)=0000000000\n",
       "2 (d=3)=2222222222"
      ]
     },
     "execution_count": 30,
     "metadata": {},
     "output_type": "execute_result"
    }
   ],
   "source": [
    "cirq.Simulator().run(\n",
    "    test_circuit_3,\n",
    "    repetitions = 10\n",
    ")"
   ]
  },
  {
   "cell_type": "code",
   "execution_count": 31,
   "metadata": {},
   "outputs": [],
   "source": [
    "def RzGates(cost_matrix, pow):\n",
    "    for n1 in range(len(cost_matrix)):\n",
    "        for n2 in range(len(cost_matrix)):\n",
    "            if n1 != n2:\n",
    "                yield cirq.ZPowGate(exponent = pow * cost_matrix[n1][n2])(\n",
    "                    cirq.GridQubit(n1, n2)\n",
    "                )"
   ]
  },
  {
   "cell_type": "markdown",
   "metadata": {},
   "source": [
    "## Сама Цепь"
   ]
  },
  {
   "cell_type": "code",
   "execution_count": 32,
   "metadata": {},
   "outputs": [],
   "source": [
    "class AncillaAndQuditsCircuit:\n",
    "\n",
    "   def __init__(self, n_towns, depth, cost_matrix):\n",
    "\n",
    "      self.n_towns = n_towns\n",
    "      self.cost_matrix = cost_matrix\n",
    "      self.cost_matrix_flattened = cost_matrix.ravel()[~np.isnan(cost_matrix.ravel())]\n",
    "      # Flattened и без NaN (NaN стоят на диагональных элементах)\n",
    "   \n",
    "      self.circuit = cirq.Circuit()\n",
    "      self.simulator = cirq.Simulator()\n",
    "\n",
    "      self.flag_qubits = [cirq.GridQubit(n1, n2) for n1 in range(4) for n2 in range(4) if n1 != n2]\n",
    "\n",
    "    # Инициализация единичной перестановкой\n",
    "      for n in range(n_towns):\n",
    "        self.circuit.append(ModuloPlus(n_towns, n)(cirq.LineQid(n, n_towns)))\n",
    "            \n",
    "\n",
    "    # Перестановка, близкая к полной\n",
    "      self.circuit.append(iSwapAllQudits(n_towns, n_towns, 1/3)(\n",
    "        *cirq.LineQid.range(n_towns, dimension = n_towns)\n",
    "      ))\n",
    "\n",
    "    # Параметрические гейты\n",
    "      self._mixing_powers = [f'm{i}' for i in range(depth)]\n",
    "      mixing_powers = sympy.symbols(self._mixing_powers)\n",
    "\n",
    "      self._hamilt_powers = [f'h{i}' for i in range(depth)]\n",
    "      hamilt_powers = sympy.symbols(self._hamilt_powers)\n",
    "\n",
    "      self._angle_names = self._hamilt_powers + self._mixing_powers\n",
    "\n",
    "      for p in range(depth):\n",
    "\n",
    "        self.circuit.append(CNOTSequenceForAllPossibleEdges(n_towns))\n",
    "        self.circuit.append(RzGates(cost_matrix, hamilt_powers[p]))\n",
    "        self.circuit.append(reversed(list(\n",
    "           CNOTSequenceForAllPossibleEdges(n_towns))\n",
    "         ))\n",
    "\n",
    "        self.circuit.append(iSwapAllQudits(n_towns, n_towns, mixing_powers[p])(\n",
    "          *cirq.LineQid.range(n_towns, dimension = n_towns)\n",
    "        ))\n",
    "\n",
    "      # Измерение\n",
    "      self.circuit.append(CNOTSequenceForAllPossibleEdges(n_towns))\n",
    "\n",
    "\n",
    "   def measure_all(self, angles, repetitions = 1):\n",
    "\n",
    "      params = cirq.ParamResolver({\n",
    "         name: value for (name, value) in\n",
    "         zip(self._angle_names, angles)\n",
    "      })\n",
    "\n",
    "      return self.simulator.run(\n",
    "         cirq.Circuit(\n",
    "            self.circuit,\n",
    "            cirq.Moment(cirq.measure_each(\n",
    "               *cirq.LineQid.range(self.n_towns, dimension = self.n_towns),\n",
    "               *self.flag_qubits\n",
    "            ))\n",
    "         ), params, repetitions\n",
    "      )\n",
    "\n",
    "\n",
    "   def measure_expectations(self, angles):\n",
    "      params = cirq.ParamResolver({\n",
    "         name: value for (name, value) in\n",
    "         zip(self._angle_names, angles)\n",
    "      })\n",
    "\n",
    "      return np.real(self.simulator.simulate_expectation_values(\n",
    "         self.circuit,\n",
    "         [(1 - cirq.Z(q)) / 2 for q in self.flag_qubits],\n",
    "         # <0|cirq.Z|0> = +1\n",
    "         params,\n",
    "      ))\n",
    "\n",
    "\n",
    "   def cost_from_expectation(self, angles):\n",
    "      return np.dot(\n",
    "         self.measure_expectations(angles),\n",
    "         self.cost_matrix_flattened\n",
    "      )\n",
    "\n",
    "\n",
    "   def optimize_expectation(self, \n",
    "                           optimizer = differential_evolution,\n",
    "                           **optimizer_kwargs):\n",
    "\n",
    "      if optimizer == basinhopping or optimizer == minimize:\n",
    "         if 'x0' not in optimizer_kwargs:\n",
    "            optimizer_kwargs['x0'] = np.random.random(len(self._angle_names))\n",
    "      else:\n",
    "         if 'bounds' not in optimizer_kwargs:\n",
    "            optimizer_kwargs['bounds'] = [(0, 1) for _ in self._angle_names]\n",
    "\n",
    "      return optimizer(self.cost_from_expectation, **optimizer_kwargs)\n",
    "\n",
    "\n",
    "   def __str__(self):\n",
    "      return self.circuit.__str__()\n",
    "\n",
    "   def _repr_pretty_(self, *args):\n",
    "      \"Text output in Jupyter\"\n",
    "      return self.circuit._repr_pretty_(*args) "
   ]
  },
  {
   "cell_type": "code",
   "execution_count": 104,
   "metadata": {},
   "outputs": [
    {
     "data": {
      "text/plain": [
       "     fun: 1.2248616063631022\n",
       "    funl: array([1.22486161])\n",
       " message: 'Optimization terminated successfully.'\n",
       "    nfev: 115\n",
       "     nit: 2\n",
       "   nlfev: 98\n",
       "   nlhev: 0\n",
       "   nljev: 7\n",
       " success: True\n",
       "       x: array([0.50152831, 0.50084527, 0.5       , 0.5       ])\n",
       "      xl: array([[0.50152831, 0.50084527, 0.5       , 0.5       ]])"
      ]
     },
     "execution_count": 104,
     "metadata": {},
     "output_type": "execute_result"
    }
   ],
   "source": [
    "# 1.5 min\n",
    "AncillaAndQuditsCircuit(4, 2, cost_matrix_4).optimize_expectation(shgo)"
   ]
  },
  {
   "cell_type": "code",
   "execution_count": 85,
   "metadata": {},
   "outputs": [
    {
     "data": {
      "text/html": [
       "<pre style=\"overflow: auto; white-space: pre;\">(0, 1): ────────────────────────────────────X─────Z^(0.35271991*h0)───────────────────────────────────────────────────────────────────────────────────────────────────────────────────────────────────────────────────────────────────────────────────────────────────────────────────────────────────────────────────────────────────────────────────────────────X──────────────X───────────────────────────────────────────────────────────────────────\n",
       "                                            │                                                                                                                                                                                                                                                                                                                     │              │\n",
       "(0, 2): ────────────────────────────────────┼─────X───────────────────Z^(0.96262685*h0)─────────────────────────────────────────────────────────────────────────────────────────────────────────────────────────────────────────────────────────────────────────────────────────────────────────────────────────────────────────────────────────────────────X─────┼──────────────┼─────X─────────────────────────────────────────────────────────────────\n",
       "                                            │     │                                                                                                                                                                                                                                                                                                         │     │              │     │\n",
       "(0, 3): ────────────────────────────────────┼─────┼───────────────────X───────────────────Z^(0.11727604*h0)───────────────────────────────────────────────────────────────────────────────────────────────────────────────────────────────────────────────────────────────────────────────────────────────────────────────────────────────────────────X─────┼─────┼──────────────┼─────┼─────X───────────────────────────────────────────────────────────\n",
       "                                            │     │                   │                                                                                                                                                                                                                                                                               │     │     │              │     │     │\n",
       "(1, 0): ────────────────────────────────────┼─────┼───────────────────┼───────────────────X───────────────────Z^(0.13505078*h0)─────────────────────────────────────────────────────────────────────────────────────────────────────────────────────────────────────────────────────────────────────────────────────────────────────────────────X─────┼─────┼─────┼──────────────┼─────┼─────┼─────X─────────────────────────────────────────────────────\n",
       "                                            │     │                   │                   │                                                                                                                                                                                                                                                     │     │     │     │              │     │     │     │\n",
       "(1, 2): ────────────────────────────────────┼─────┼───────────────────┼───────────────────┼───────────────────X───────────────────Z^(0.63915344*h0)───────────────────────────────────────────────────────────────────────────────────────────────────────────────────────────────────────────────────────────────────────────────────────X─────┼─────┼─────┼─────┼──────────────┼─────┼─────┼─────┼─────X───────────────────────────────────────────────\n",
       "                                            │     │                   │                   │                   │                                                                                                                                                                                                                           │     │     │     │     │              │     │     │     │     │\n",
       "(1, 3): ────────────────────────────────────┼─────┼───────────────────┼───────────────────┼───────────────────┼───────────────────X───────────────────Z^(0.43149425*h0)─────────────────────────────────────────────────────────────────────────────────────────────────────────────────────────────────────────────────────────────X─────┼─────┼─────┼─────┼─────┼──────────────┼─────┼─────┼─────┼─────┼─────X─────────────────────────────────────────\n",
       "                                            │     │                   │                   │                   │                   │                                                                                                                                                                                                 │     │     │     │     │     │              │     │     │     │     │     │\n",
       "(2, 0): ────────────────────────────────────┼─────┼───────────────────┼───────────────────┼───────────────────┼───────────────────┼───────────────────X───────────────────Z^(0.58432224*h0)───────────────────────────────────────────────────────────────────────────────────────────────────────────────────────────────────X─────┼─────┼─────┼─────┼─────┼─────┼──────────────┼─────┼─────┼─────┼─────┼─────┼─────X───────────────────────────────────\n",
       "                                            │     │                   │                   │                   │                   │                   │                                                                                                                                                                       │     │     │     │     │     │     │              │     │     │     │     │     │     │\n",
       "(2, 1): ────────────────────────────────────┼─────┼───────────────────┼───────────────────┼───────────────────┼───────────────────┼───────────────────┼───────────────────X───────────────────Z^(0.83676812*h0)─────────────────────────────────────────────────────────────────────────────────────────────────────────X─────┼─────┼─────┼─────┼─────┼─────┼─────┼──────────────┼─────┼─────┼─────┼─────┼─────┼─────┼─────X─────────────────────────────\n",
       "                                            │     │                   │                   │                   │                   │                   │                   │                                                                                                                                             │     │     │     │     │     │     │     │              │     │     │     │     │     │     │     │\n",
       "(2, 3): ────────────────────────────────────┼─────┼───────────────────┼───────────────────┼───────────────────┼───────────────────┼───────────────────┼───────────────────┼───────────────────X───────────────────Z^(0.4879146*h0)────────────────────────────────────────────────────────────────────────────────X─────┼─────┼─────┼─────┼─────┼─────┼─────┼─────┼──────────────┼─────┼─────┼─────┼─────┼─────┼─────┼─────┼─────X───────────────────────\n",
       "                                            │     │                   │                   │                   │                   │                   │                   │                   │                                                                                                                   │     │     │     │     │     │     │     │     │              │     │     │     │     │     │     │     │     │\n",
       "(3, 0): ────────────────────────────────────┼─────┼───────────────────┼───────────────────┼───────────────────┼───────────────────┼───────────────────┼───────────────────┼───────────────────┼───────────────────X──────────────────Z^(0.14998587*h0)──────────────────────────────────────────────────────X─────┼─────┼─────┼─────┼─────┼─────┼─────┼─────┼─────┼──────────────┼─────┼─────┼─────┼─────┼─────┼─────┼─────┼─────┼─────X─────────────────\n",
       "                                            │     │                   │                   │                   │                   │                   │                   │                   │                   │                                                                                         │     │     │     │     │     │     │     │     │     │              │     │     │     │     │     │     │     │     │     │\n",
       "(3, 1): ────────────────────────────────────┼─────┼───────────────────┼───────────────────┼───────────────────┼───────────────────┼───────────────────┼───────────────────┼───────────────────┼───────────────────┼──────────────────X───────────────────Z^(0.45394107*h0)────────────────────────────X─────┼─────┼─────┼─────┼─────┼─────┼─────┼─────┼─────┼─────┼──────────────┼─────┼─────┼─────┼─────┼─────┼─────┼─────┼─────┼─────┼─────X───────────\n",
       "                                            │     │                   │                   │                   │                   │                   │                   │                   │                   │                  │                                                                │     │     │     │     │     │     │     │     │     │     │              │     │     │     │     │     │     │     │     │     │     │\n",
       "(3, 2): ────────────────────────────────────┼─────┼───────────────────┼───────────────────┼───────────────────┼───────────────────┼───────────────────┼───────────────────┼───────────────────┼───────────────────┼──────────────────┼───────────────────X───────────────────Z^(0.2140258*h0)───X─────┼─────┼─────┼─────┼─────┼─────┼─────┼─────┼─────┼─────┼─────┼──────────────┼─────┼─────┼─────┼─────┼─────┼─────┼─────┼─────┼─────┼─────┼─────X─────\n",
       "                                            │     │                   │                   │                   │                   │                   │                   │                   │                   │                  │                   │                                      │     │     │     │     │     │     │     │     │     │     │     │              │     │     │     │     │     │     │     │     │     │     │     │\n",
       "0 (d=4): ───(+0)───↑↓(0.3333333333333333)───0→1───0→2─────────────────0→3─────────────────1→0─────────────────1→2─────────────────1→3─────────────────2→0─────────────────2→1─────────────────2→3─────────────────3→0────────────────3→1─────────────────3→2────────────────────────────────────3→2───3→1───3→0───2→3───2→1───2→0───1→3───1→2───1→0───0→3───0→2───0→1───↑↓(m0)───0→1───0→2───0→3───1→0───1→2───1→3───2→0───2→1───2→3───3→0───3→1───3→2───\n",
       "                   │                        │     │                   │                   │                   │                   │                   │                   │                   │                   │                  │                   │                                      │     │     │     │     │     │     │     │     │     │     │     │     │        │     │     │     │     │     │     │     │     │     │     │     │\n",
       "1 (d=4): ───(+1)───↑↓(0.3333333333333333)───0→1───0→2─────────────────0→3─────────────────1→0─────────────────1→2─────────────────1→3─────────────────2→0─────────────────2→1─────────────────2→3─────────────────3→0────────────────3→1─────────────────3→2────────────────────────────────────3→2───3→1───3→0───2→3───2→1───2→0───1→3───1→2───1→0───0→3───0→2───0→1───↑↓(m0)───0→1───0→2───0→3───1→0───1→2───1→3───2→0───2→1───2→3───3→0───3→1───3→2───\n",
       "                   │                        │     │                   │                   │                   │                   │                   │                   │                   │                   │                  │                   │                                      │     │     │     │     │     │     │     │     │     │     │     │     │        │     │     │     │     │     │     │     │     │     │     │     │\n",
       "2 (d=4): ───(+2)───↑↓(0.3333333333333333)───0→1───0→2─────────────────0→3─────────────────1→0─────────────────1→2─────────────────1→3─────────────────2→0─────────────────2→1─────────────────2→3─────────────────3→0────────────────3→1─────────────────3→2────────────────────────────────────3→2───3→1───3→0───2→3───2→1───2→0───1→3───1→2───1→0───0→3───0→2───0→1───↑↓(m0)───0→1───0→2───0→3───1→0───1→2───1→3───2→0───2→1───2→3───3→0───3→1───3→2───\n",
       "                   │                        │     │                   │                   │                   │                   │                   │                   │                   │                   │                  │                   │                                      │     │     │     │     │     │     │     │     │     │     │     │     │        │     │     │     │     │     │     │     │     │     │     │     │\n",
       "3 (d=4): ───(+3)───↑↓(0.3333333333333333)───0→1───0→2─────────────────0→3─────────────────1→0─────────────────1→2─────────────────1→3─────────────────2→0─────────────────2→1─────────────────2→3─────────────────3→0────────────────3→1─────────────────3→2────────────────────────────────────3→2───3→1───3→0───2→3───2→1───2→0───1→3───1→2───1→0───0→3───0→2───0→1───↑↓(m0)───0→1───0→2───0→3───1→0───1→2───1→3───2→0───2→1───2→3───3→0───3→1───3→2───</pre>"
      ],
      "text/plain": [
       "(0, 1): ────────────────────────────────────X─────Z^(0.35271991*h0)───────────────────────────────────────────────────────────────────────────────────────────────────────────────────────────────────────────────────────────────────────────────────────────────────────────────────────────────────────────────────────────────────────────────────────────────X──────────────X───────────────────────────────────────────────────────────────────────\n",
       "                                            │                                                                                                                                                                                                                                                                                                                     │              │\n",
       "(0, 2): ────────────────────────────────────┼─────X───────────────────Z^(0.96262685*h0)─────────────────────────────────────────────────────────────────────────────────────────────────────────────────────────────────────────────────────────────────────────────────────────────────────────────────────────────────────────────────────────────────────X─────┼──────────────┼─────X─────────────────────────────────────────────────────────────────\n",
       "                                            │     │                                                                                                                                                                                                                                                                                                         │     │              │     │\n",
       "(0, 3): ────────────────────────────────────┼─────┼───────────────────X───────────────────Z^(0.11727604*h0)───────────────────────────────────────────────────────────────────────────────────────────────────────────────────────────────────────────────────────────────────────────────────────────────────────────────────────────────────────────X─────┼─────┼──────────────┼─────┼─────X───────────────────────────────────────────────────────────\n",
       "                                            │     │                   │                                                                                                                                                                                                                                                                               │     │     │              │     │     │\n",
       "(1, 0): ────────────────────────────────────┼─────┼───────────────────┼───────────────────X───────────────────Z^(0.13505078*h0)─────────────────────────────────────────────────────────────────────────────────────────────────────────────────────────────────────────────────────────────────────────────────────────────────────────────────X─────┼─────┼─────┼──────────────┼─────┼─────┼─────X─────────────────────────────────────────────────────\n",
       "                                            │     │                   │                   │                                                                                                                                                                                                                                                     │     │     │     │              │     │     │     │\n",
       "(1, 2): ────────────────────────────────────┼─────┼───────────────────┼───────────────────┼───────────────────X───────────────────Z^(0.63915344*h0)───────────────────────────────────────────────────────────────────────────────────────────────────────────────────────────────────────────────────────────────────────────────────────X─────┼─────┼─────┼─────┼──────────────┼─────┼─────┼─────┼─────X───────────────────────────────────────────────\n",
       "                                            │     │                   │                   │                   │                                                                                                                                                                                                                           │     │     │     │     │              │     │     │     │     │\n",
       "(1, 3): ────────────────────────────────────┼─────┼───────────────────┼───────────────────┼───────────────────┼───────────────────X───────────────────Z^(0.43149425*h0)─────────────────────────────────────────────────────────────────────────────────────────────────────────────────────────────────────────────────────────────X─────┼─────┼─────┼─────┼─────┼──────────────┼─────┼─────┼─────┼─────┼─────X─────────────────────────────────────────\n",
       "                                            │     │                   │                   │                   │                   │                                                                                                                                                                                                 │     │     │     │     │     │              │     │     │     │     │     │\n",
       "(2, 0): ────────────────────────────────────┼─────┼───────────────────┼───────────────────┼───────────────────┼───────────────────┼───────────────────X───────────────────Z^(0.58432224*h0)───────────────────────────────────────────────────────────────────────────────────────────────────────────────────────────────────X─────┼─────┼─────┼─────┼─────┼─────┼──────────────┼─────┼─────┼─────┼─────┼─────┼─────X───────────────────────────────────\n",
       "                                            │     │                   │                   │                   │                   │                   │                                                                                                                                                                       │     │     │     │     │     │     │              │     │     │     │     │     │     │\n",
       "(2, 1): ────────────────────────────────────┼─────┼───────────────────┼───────────────────┼───────────────────┼───────────────────┼───────────────────┼───────────────────X───────────────────Z^(0.83676812*h0)─────────────────────────────────────────────────────────────────────────────────────────────────────────X─────┼─────┼─────┼─────┼─────┼─────┼─────┼──────────────┼─────┼─────┼─────┼─────┼─────┼─────┼─────X─────────────────────────────\n",
       "                                            │     │                   │                   │                   │                   │                   │                   │                                                                                                                                             │     │     │     │     │     │     │     │              │     │     │     │     │     │     │     │\n",
       "(2, 3): ────────────────────────────────────┼─────┼───────────────────┼───────────────────┼───────────────────┼───────────────────┼───────────────────┼───────────────────┼───────────────────X───────────────────Z^(0.4879146*h0)────────────────────────────────────────────────────────────────────────────────X─────┼─────┼─────┼─────┼─────┼─────┼─────┼─────┼──────────────┼─────┼─────┼─────┼─────┼─────┼─────┼─────┼─────X───────────────────────\n",
       "                                            │     │                   │                   │                   │                   │                   │                   │                   │                                                                                                                   │     │     │     │     │     │     │     │     │              │     │     │     │     │     │     │     │     │\n",
       "(3, 0): ────────────────────────────────────┼─────┼───────────────────┼───────────────────┼───────────────────┼───────────────────┼───────────────────┼───────────────────┼───────────────────┼───────────────────X──────────────────Z^(0.14998587*h0)──────────────────────────────────────────────────────X─────┼─────┼─────┼─────┼─────┼─────┼─────┼─────┼─────┼──────────────┼─────┼─────┼─────┼─────┼─────┼─────┼─────┼─────┼─────X─────────────────\n",
       "                                            │     │                   │                   │                   │                   │                   │                   │                   │                   │                                                                                         │     │     │     │     │     │     │     │     │     │              │     │     │     │     │     │     │     │     │     │\n",
       "(3, 1): ────────────────────────────────────┼─────┼───────────────────┼───────────────────┼───────────────────┼───────────────────┼───────────────────┼───────────────────┼───────────────────┼───────────────────┼──────────────────X───────────────────Z^(0.45394107*h0)────────────────────────────X─────┼─────┼─────┼─────┼─────┼─────┼─────┼─────┼─────┼─────┼──────────────┼─────┼─────┼─────┼─────┼─────┼─────┼─────┼─────┼─────┼─────X───────────\n",
       "                                            │     │                   │                   │                   │                   │                   │                   │                   │                   │                  │                                                                │     │     │     │     │     │     │     │     │     │     │              │     │     │     │     │     │     │     │     │     │     │\n",
       "(3, 2): ────────────────────────────────────┼─────┼───────────────────┼───────────────────┼───────────────────┼───────────────────┼───────────────────┼───────────────────┼───────────────────┼───────────────────┼──────────────────┼───────────────────X───────────────────Z^(0.2140258*h0)───X─────┼─────┼─────┼─────┼─────┼─────┼─────┼─────┼─────┼─────┼─────┼──────────────┼─────┼─────┼─────┼─────┼─────┼─────┼─────┼─────┼─────┼─────┼─────X─────\n",
       "                                            │     │                   │                   │                   │                   │                   │                   │                   │                   │                  │                   │                                      │     │     │     │     │     │     │     │     │     │     │     │              │     │     │     │     │     │     │     │     │     │     │     │\n",
       "0 (d=4): ───(+0)───↑↓(0.3333333333333333)───0→1───0→2─────────────────0→3─────────────────1→0─────────────────1→2─────────────────1→3─────────────────2→0─────────────────2→1─────────────────2→3─────────────────3→0────────────────3→1─────────────────3→2────────────────────────────────────3→2───3→1───3→0───2→3───2→1───2→0───1→3───1→2───1→0───0→3───0→2───0→1───↑↓(m0)───0→1───0→2───0→3───1→0───1→2───1→3───2→0───2→1───2→3───3→0───3→1───3→2───\n",
       "                   │                        │     │                   │                   │                   │                   │                   │                   │                   │                   │                  │                   │                                      │     │     │     │     │     │     │     │     │     │     │     │     │        │     │     │     │     │     │     │     │     │     │     │     │\n",
       "1 (d=4): ───(+1)───↑↓(0.3333333333333333)───0→1───0→2─────────────────0→3─────────────────1→0─────────────────1→2─────────────────1→3─────────────────2→0─────────────────2→1─────────────────2→3─────────────────3→0────────────────3→1─────────────────3→2────────────────────────────────────3→2───3→1───3→0───2→3───2→1───2→0───1→3───1→2───1→0───0→3───0→2───0→1───↑↓(m0)───0→1───0→2───0→3───1→0───1→2───1→3───2→0───2→1───2→3───3→0───3→1───3→2───\n",
       "                   │                        │     │                   │                   │                   │                   │                   │                   │                   │                   │                  │                   │                                      │     │     │     │     │     │     │     │     │     │     │     │     │        │     │     │     │     │     │     │     │     │     │     │     │\n",
       "2 (d=4): ───(+2)───↑↓(0.3333333333333333)───0→1───0→2─────────────────0→3─────────────────1→0─────────────────1→2─────────────────1→3─────────────────2→0─────────────────2→1─────────────────2→3─────────────────3→0────────────────3→1─────────────────3→2────────────────────────────────────3→2───3→1───3→0───2→3───2→1───2→0───1→3───1→2───1→0───0→3───0→2───0→1───↑↓(m0)───0→1───0→2───0→3───1→0───1→2───1→3───2→0───2→1───2→3───3→0───3→1───3→2───\n",
       "                   │                        │     │                   │                   │                   │                   │                   │                   │                   │                   │                  │                   │                                      │     │     │     │     │     │     │     │     │     │     │     │     │        │     │     │     │     │     │     │     │     │     │     │     │\n",
       "3 (d=4): ───(+3)───↑↓(0.3333333333333333)───0→1───0→2─────────────────0→3─────────────────1→0─────────────────1→2─────────────────1→3─────────────────2→0─────────────────2→1─────────────────2→3─────────────────3→0────────────────3→1─────────────────3→2────────────────────────────────────3→2───3→1───3→0───2→3───2→1───2→0───1→3───1→2───1→0───0→3───0→2───0→1───↑↓(m0)───0→1───0→2───0→3───1→0───1→2───1→3───2→0───2→1───2→3───3→0───3→1───3→2───"
      ]
     },
     "execution_count": 85,
     "metadata": {},
     "output_type": "execute_result"
    }
   ],
   "source": [
    "AncillaAndQuditsCircuit(4, 1, cost_matrix_4).circuit"
   ]
  },
  {
   "cell_type": "code",
   "execution_count": 41,
   "metadata": {},
   "outputs": [],
   "source": [
    "cost_matrix_5 = \\\n",
    "np.array([[np.nan    , 0.33401903, 0.18976653, 0.57694655, 0.11001075],\n",
    "          [0.68260228, np.nan    , 0.23440849, 0.63405642, 0.05852297],\n",
    "          [0.79378125, 0.84210502, np.nan    , 0.17264401, 0.74223499],\n",
    "          [0.5569718 , 0.55289136, 0.53119631, np.nan    , 0.08094091],\n",
    "          [0.08584468, 0.61697247, 0.69688509, 0.29508331, np.nan    ]])"
   ]
  },
  {
   "cell_type": "code",
   "execution_count": 43,
   "metadata": {},
   "outputs": [],
   "source": [
    "# Never ends\n",
    "# AncillaAndQuditsCircuit(5, 2, cost_matrix_5).measure_expectations(np.random.random(4))"
   ]
  },
  {
   "cell_type": "code",
   "execution_count": null,
   "metadata": {},
   "outputs": [],
   "source": []
  }
 ],
 "metadata": {
  "interpreter": {
   "hash": "df30e6bf5278a3537b48532e9b63bb2fb24294ca702fa1e8a294431e0b0acc2b"
  },
  "kernelspec": {
   "display_name": "Python 3.9.12 ('cirq')",
   "language": "python",
   "name": "python3"
  },
  "language_info": {
   "codemirror_mode": {
    "name": "ipython",
    "version": 3
   },
   "file_extension": ".py",
   "mimetype": "text/x-python",
   "name": "python",
   "nbconvert_exporter": "python",
   "pygments_lexer": "ipython3",
   "version": "3.9.12"
  },
  "orig_nbformat": 4
 },
 "nbformat": 4,
 "nbformat_minor": 2
}
